{
 "cells": [
  {
   "cell_type": "markdown",
   "metadata": {},
   "source": [
    "# Проект: Обучение с учителем: качество модели"
   ]
  },
  {
   "cell_type": "markdown",
   "metadata": {},
   "source": [
    "**Описание проекта**\n",
    "\n",
    "Интернет-магазин «В один клик» продаёт разные товары: для детей, для дома, мелкую бытовую технику, косметику и даже продукты. Отчёт магазина за прошлый период показал, что активность покупателей начала снижаться. Привлекать новых клиентов уже не так эффективно: о магазине и так знает большая часть целевой аудитории. Возможный выход — удерживать активность постоянных клиентов. Сделать это можно с помощью персонализированных предложений.\n",
    "\n",
    "«В один клик» — современная компания, поэтому её руководство не хочет принимать решения просто так — только на основе анализа данных и бизнес-моделирования. У компании есть небольшой отдел цифровых технологий, и нам предстоит побыть в роли стажёра в этом отделе. \n",
    "\n",
    "Итак, нашему отделу поручили разработать решение, которое позволит персонализировать предложения постоянным клиентам, чтобы увеличить их покупательскую активность.\n",
    "\n",
    "**Описание данных**\n",
    "\n",
    "<u>`market_file.csv`</u>\n",
    "\n",
    "Таблица, которая содержит данные о поведении покупателя на сайте, о коммуникациях с покупателем и его продуктовом поведении.\n",
    "\n",
    "   - `id` — номер покупателя в корпоративной базе данных.\n",
    "   - `Покупательская активность` — рассчитанный класс покупательской активности (целевой признак): «снизилась» или «прежний уровень».\n",
    "   - `Тип сервиса` — уровень сервиса, например «премиум» и «стандарт».\n",
    "   - `Разрешить сообщать` — информация о том, можно ли присылать покупателю дополнительные предложения о товаре. Согласие на это даёт покупатель.\n",
    "   - `Маркет_актив_6_мес` — среднемесячное значение маркетинговых коммуникаций компании, которое приходилось на покупателя за последние 6 месяцев. Это значение показывает, какое число рассылок, звонков, показов рекламы и прочего приходилось на клиента.\n",
    "   - `Маркет_актив_тек_мес` — количество маркетинговых коммуникаций в текущем месяце.\n",
    "   - `Длительность` — значение, которое показывает, сколько дней прошло с момента регистрации покупателя на сайте.\n",
    "   - `Акционные_покупки` — среднемесячная доля покупок по акции от общего числа покупок за последние 6 месяцев.\n",
    "   - `Популярная_категория` — самая популярная категория товаров у покупателя за последние 6 месяцев.\n",
    "   - `Средний_просмотр_категорий_за_визит` — показывает, сколько в среднем категорий покупатель просмотрел за визит в течение последнего месяца.\n",
    "   - `Неоплаченные_продукты_штук_квартал` — общее число неоплаченных товаров в корзине за последние 3 месяца.\n",
    "   - `Ошибка_сервиса` — число сбоев, которые коснулись покупателя во время посещения сайта.\n",
    "   - `Страниц_за_визит` — среднее количество страниц, которые просмотрел покупатель за один визит на сайт за последние 3 месяца.\n",
    "   \n",
    "<u>`market_money.csv`</u>\n",
    "\n",
    "Таблица с данными о выручке, которую получает магазин с покупателя, то есть сколько покупатель всего потратил за период взаимодействия с сайтом.\n",
    "\n",
    "   - `id` — номер покупателя в корпоративной базе данных.\n",
    "   - `Период` — название периода, во время которого зафиксирована выручка. Например, 'текущий_месяц' или 'предыдущий_месяц'.\n",
    "   - `Выручка` — сумма выручки за период.\n",
    "   \n",
    "<u>`market_time.csv`</u>\n",
    "\n",
    "Таблица с данными о времени (в минутах), которое покупатель провёл на сайте в течение периода.\n",
    "\n",
    "   - `id` — номер покупателя в корпоративной базе данных.\n",
    "   - `Период` — название периода, во время которого зафиксировано общее время.\n",
    "   - `минут` — значение времени, проведённого на сайте, в минутах.\n",
    "   \n",
    "<u>`money.csv`</u>\n",
    "\n",
    "Таблица с данными о среднемесячной прибыли покупателя за последние 3 месяца: какую прибыль получает магазин от продаж каждому покупателю.\n",
    "\n",
    "   - `id` — номер покупателя в корпоративной базе данных.\n",
    "   - `Прибыль` — значение прибыли."
   ]
  },
  {
   "cell_type": "code",
   "execution_count": null,
   "metadata": {
    "id": "H6cQIZr3ElW1"
   },
   "outputs": [],
   "source": [
    "!pip install shap -q"
   ]
  },
  {
   "cell_type": "code",
   "execution_count": null,
   "metadata": {},
   "outputs": [],
   "source": [
    "!pip install phik --q"
   ]
  },
  {
   "cell_type": "code",
   "execution_count": null,
   "metadata": {},
   "outputs": [],
   "source": [
    "!pip install scikit-learn==1.1.3 -q"
   ]
  },
  {
   "cell_type": "code",
   "execution_count": null,
   "metadata": {},
   "outputs": [],
   "source": [
    "import matplotlib.pyplot as plt\n",
    "import numpy as np\n",
    "import pandas as pd\n",
    "import plotly.express as px\n",
    "import plotly.graph_objs as go\n",
    "from plotly.subplots import make_subplots\n",
    "import seaborn as sns\n",
    "import shap\n",
    "\n",
    "from phik import phik_matrix\n",
    "\n",
    "from sklearn.compose import ColumnTransformer\n",
    "from sklearn.impute import SimpleImputer\n",
    "from sklearn.linear_model import LogisticRegression\n",
    "from sklearn.metrics import roc_auc_score\n",
    "from sklearn.model_selection import RandomizedSearchCV, train_test_split\n",
    "from sklearn.neighbors import KNeighborsClassifier\n",
    "from sklearn.pipeline import Pipeline\n",
    "from sklearn.preprocessing import (MinMaxScaler, OneHotEncoder, OrdinalEncoder, RobustScaler, StandardScaler)\n",
    "from sklearn.svm import SVC\n",
    "from sklearn.tree import DecisionTreeClassifier\n",
    "\n",
    "import warnings\n",
    "warnings.filterwarnings(\"ignore\")"
   ]
  },
  {
   "cell_type": "markdown",
   "metadata": {},
   "source": [
    "# Шаг 1. Загрузка данных"
   ]
  },
  {
   "cell_type": "code",
   "execution_count": null,
   "metadata": {},
   "outputs": [],
   "source": [
    "RANDOM_STATE=12345\n",
    "TEST_SIZE=0.25"
   ]
  },
  {
   "cell_type": "code",
   "execution_count": null,
   "metadata": {},
   "outputs": [],
   "source": [
    "downloads_path = \"C:\\\\Users\\\\user\\\\Downloads\"\n",
    "\n",
    "market_file = pd.read_csv(f\"{downloads_path}\\\\market_file.csv\")\n",
    "market_money = pd.read_csv(f\"{downloads_path}\\\\market_money.csv\")\n",
    "market_time = pd.read_csv(f\"{downloads_path}\\\\market_time.csv\")\n",
    "money = pd.read_csv(f\"{downloads_path}\\\\money.csv\", sep=';', decimal=',')"
   ]
  },
  {
   "cell_type": "code",
   "execution_count": null,
   "metadata": {},
   "outputs": [],
   "source": [
    "market_file.head()"
   ]
  },
  {
   "cell_type": "code",
   "execution_count": null,
   "metadata": {},
   "outputs": [],
   "source": [
    "market_money.head()"
   ]
  },
  {
   "cell_type": "code",
   "execution_count": null,
   "metadata": {},
   "outputs": [],
   "source": [
    "market_time.head()"
   ]
  },
  {
   "cell_type": "code",
   "execution_count": null,
   "metadata": {},
   "outputs": [],
   "source": [
    "money.head()"
   ]
  },
  {
   "cell_type": "markdown",
   "metadata": {},
   "source": [
    "**Вывод**\n",
    "\n",
    "Все данные представлены корректно и соответствуют описанию. Можно привести столбцы к нижнему регистру, а также обратить внимание на значения в столбцах `Период` датасетов <u>`market_money`</u> и <u>`market_time`</u>. Также стоит учесть значения `Тип сервиса` датасета <u>`market_file`</u>. В целом, на первый взгляд, это всё, что нужно сделать для улучшения качества данных."
   ]
  },
  {
   "cell_type": "markdown",
   "metadata": {},
   "source": [
    "# Шаг 2. Предобработка данных"
   ]
  },
  {
   "cell_type": "markdown",
   "metadata": {},
   "source": [
    "**Таблица <u>`market_file`</u>**"
   ]
  },
  {
   "cell_type": "code",
   "execution_count": null,
   "metadata": {},
   "outputs": [],
   "source": [
    "new_columns={\n",
    "    'id': 'id',\n",
    "    'Покупательская активность': 'purchasing_activity',\n",
    "    'Тип сервиса': 'service_type',\n",
    "    'Разрешить сообщать': 'allow_report',\n",
    "    'Маркет_актив_6_мес': 'market_active_six_month',\n",
    "    'Маркет_актив_тек_мес': 'market_active_current_month',\n",
    "    'Длительность': 'duration',\n",
    "    'Акционные_покупки': 'promo_purchases',\n",
    "    'Популярная_категория': 'popular_category',\n",
    "    'Средний_просмотр_категорий_за_визит': 'average_view_category_visit',\n",
    "    'Неоплаченные_продукты_штук_квартал': 'unpaid_products',\n",
    "    'Ошибка_сервиса': 'service_error',\n",
    "    'Страниц_за_визит': 'page_visit'\n",
    "            }\n",
    "\n",
    "market_file = market_file.rename(columns=new_columns)"
   ]
  },
  {
   "cell_type": "code",
   "execution_count": null,
   "metadata": {},
   "outputs": [],
   "source": [
    "market_file.info()"
   ]
  },
  {
   "cell_type": "code",
   "execution_count": null,
   "metadata": {},
   "outputs": [],
   "source": [
    "def analyze_dataframe(df_name):\n",
    "    df = globals()[df_name]\n",
    "\n",
    "    print(\"Первые пять строк таблицы:\")\n",
    "    display(df.head(5))\n",
    "    print()\n",
    "\n",
    "    print(\"Информация о таблице:\")\n",
    "    display(df.info())\n",
    "    print()\n",
    "\n",
    "    print(\"Статистическое описание таблицы:\")\n",
    "    display(df.describe())\n",
    "    print()\n",
    "\n",
    "    num_missing_values = df.isnull().sum().sum()\n",
    "    total_cells = df.size\n",
    "    percentage_missing = (num_missing_values / total_cells) * 100\n",
    "    print(\"Количество пропусков: \", num_missing_values)\n",
    "    print(\"Процент пропусков: \", percentage_missing, \"%\")\n",
    "    print()\n",
    "\n",
    "    num_duplicates = df.duplicated().sum()\n",
    "    percentage_duplicates = (num_duplicates / df.shape[0]) * 100\n",
    "    print(\"Количество дубликатов: \", num_duplicates)\n",
    "    print(\"Процент дубликатов: \", percentage_duplicates, \"%\")"
   ]
  },
  {
   "cell_type": "code",
   "execution_count": null,
   "metadata": {},
   "outputs": [],
   "source": [
    "analyze_dataframe(\"market_file\")"
   ]
  },
  {
   "cell_type": "code",
   "execution_count": null,
   "metadata": {},
   "outputs": [],
   "source": [
    "market_file['market_active_six_month'] = market_file['market_active_six_month'].astype('int64')"
   ]
  },
  {
   "cell_type": "markdown",
   "metadata": {},
   "source": [
    "**Таблица <u>`market_money`</u>**"
   ]
  },
  {
   "cell_type": "code",
   "execution_count": null,
   "metadata": {},
   "outputs": [],
   "source": [
    "new_columns={\n",
    "    'id': 'id',\n",
    "    'Период': 'period',\n",
    "    'Выручка': 'revenue'\n",
    "\n",
    "}\n",
    "\n",
    "market_money = market_money.rename(columns=new_columns)"
   ]
  },
  {
   "cell_type": "code",
   "execution_count": null,
   "metadata": {},
   "outputs": [],
   "source": [
    "market_money['period'] = market_money['period'].str.strip()"
   ]
  },
  {
   "cell_type": "code",
   "execution_count": null,
   "metadata": {},
   "outputs": [],
   "source": [
    "analyze_dataframe(\"market_money\")"
   ]
  },
  {
   "cell_type": "code",
   "execution_count": null,
   "metadata": {},
   "outputs": [],
   "source": [
    "market_money.drop_duplicates(inplace=True)\n",
    "print(f\"Количество дубликатов: {market_money.duplicated().sum()}\")\n",
    "print(f\"Процент дубликатов: {(market_money.duplicated().sum()/len(market_money))*100:.2f}%\")"
   ]
  },
  {
   "cell_type": "markdown",
   "metadata": {},
   "source": [
    "**Таблица <u>`market_time`</u>**"
   ]
  },
  {
   "cell_type": "code",
   "execution_count": null,
   "metadata": {},
   "outputs": [],
   "source": [
    "new_columns={\n",
    "    'id': 'id',\n",
    "    'Период': 'period',\n",
    "    'минут': 'minutes'\n",
    "\n",
    "}\n",
    "\n",
    "market_time = market_time.rename(columns=new_columns)"
   ]
  },
  {
   "cell_type": "code",
   "execution_count": null,
   "metadata": {},
   "outputs": [],
   "source": [
    "market_time['period'] = market_time['period'].replace(['предыдцщий_месяц'], 'предыдущий месяц')\n",
    "market_time['period'] = market_time['period'].replace(['текущий_месяц'], 'текущий месяц')"
   ]
  },
  {
   "cell_type": "code",
   "execution_count": null,
   "metadata": {},
   "outputs": [],
   "source": [
    "analyze_dataframe(\"market_time\")"
   ]
  },
  {
   "cell_type": "markdown",
   "metadata": {},
   "source": [
    "**Таблица <u>`money`</u>**"
   ]
  },
  {
   "cell_type": "code",
   "execution_count": null,
   "metadata": {},
   "outputs": [],
   "source": [
    "new_columns={\n",
    "    'id': 'id',\n",
    "    'Прибыль': 'profit'\n",
    "}\n",
    "\n",
    "money = money.rename(columns=new_columns)"
   ]
  },
  {
   "cell_type": "code",
   "execution_count": null,
   "metadata": {},
   "outputs": [],
   "source": [
    "analyze_dataframe(\"money\")"
   ]
  },
  {
   "cell_type": "markdown",
   "metadata": {},
   "source": [
    "**Вывод**\n",
    "\n",
    "Мы провели реорганизацию столбцов, преобразовали формат данных в столбце `market_file['market_active_six_month']`, а также устранили дубликаты в наборе данных `market_money`. Аномальных значений обнаружено не было."
   ]
  },
  {
   "cell_type": "markdown",
   "metadata": {},
   "source": [
    "# Шаг 3. Исследовательский анализ данных"
   ]
  },
  {
   "cell_type": "markdown",
   "metadata": {},
   "source": [
    "**Таблица <u>`market_file`</u>**"
   ]
  },
  {
   "cell_type": "code",
   "execution_count": null,
   "metadata": {},
   "outputs": [],
   "source": [
    "market_file.head()"
   ]
  },
  {
   "cell_type": "code",
   "execution_count": null,
   "metadata": {},
   "outputs": [],
   "source": [
    "num_columns = ['market_active_six_month', 'market_active_current_month', 'duration', 'promo_purchases', \n",
    "               'average_view_category_visit', 'unpaid_products', 'service_error', 'page_visit' ]"
   ]
  },
  {
   "cell_type": "code",
   "execution_count": null,
   "metadata": {},
   "outputs": [],
   "source": [
    "# Изучим распределение количественных столбцов\n",
    "def plot_boxplots(dataframe, num_columns):\n",
    "    num_plots = len(num_columns)\n",
    "    num_cols = min(2, num_plots)\n",
    "    num_rows = (num_plots + 1) // num_cols\n",
    "    fig, axes = plt.subplots(num_rows, num_cols, figsize=(15, 6*num_rows))\n",
    "\n",
    "    for i, column in enumerate(num_columns):\n",
    "        row = i // num_cols\n",
    "        col = i % num_cols\n",
    "\n",
    "        ax = axes[row, col] if num_rows > 1 else axes[col]\n",
    "        dataframe.boxplot(column=column, ax=ax)\n",
    "    plt.tight_layout()\n",
    "    plt.show()"
   ]
  },
  {
   "cell_type": "code",
   "execution_count": null,
   "metadata": {},
   "outputs": [],
   "source": [
    "plot_boxplots(market_file, num_columns)"
   ]
  },
  {
   "cell_type": "code",
   "execution_count": null,
   "metadata": {},
   "outputs": [],
   "source": [
    "# Напишем функцию для отображения гистограмм количественных столбцов\n",
    "def plot_histograms(dataframe, num_columns):\n",
    "    num_plots = len(num_columns)\n",
    "    rows = (num_plots + 1) // 2\n",
    "    \n",
    "    fig = make_subplots(rows=rows, cols=2, subplot_titles=num_columns)\n",
    "\n",
    "    for i, column in enumerate(num_columns):\n",
    "        row = (i // 2) + 1\n",
    "        col = (i % 2) + 1\n",
    "        fig.add_trace(go.Histogram(x=dataframe[column], nbinsx=20), row=row, col=col)\n",
    "\n",
    "        fig.update_xaxes(showgrid=True, gridwidth=1, gridcolor='LightGray', row=row, col=col)\n",
    "        fig.update_yaxes(showgrid=True, gridwidth=1, gridcolor='LightGray', row=row, col=col)\n",
    "\n",
    "        fig.update_xaxes(title_text=column, row=row, col=col)\n",
    "        fig.update_yaxes(title_text='Количество', row=row, col=col)\n",
    "\n",
    "    fig.update_layout(showlegend=False, height=400*rows, width=900)\n",
    "    fig.show()"
   ]
  },
  {
   "cell_type": "code",
   "execution_count": null,
   "metadata": {},
   "outputs": [],
   "source": [
    "def plot_histograms_one(dataframe, num_columns):\n",
    "    num_plots = len(num_columns)\n",
    "    rows = (num_plots + 1) // 2\n",
    "\n",
    "    colors = ['SaddleBrown', 'Peru']  \n",
    "\n",
    "    fig = make_subplots(rows=rows, cols=2, subplot_titles=num_columns)\n",
    "\n",
    "    for i, column in enumerate(num_columns):\n",
    "        row = (i // 2) + 1\n",
    "        col = (i % 2) + 1\n",
    "        fig.add_trace(go.Histogram(x=dataframe[dataframe[\"purchasing_activity\"] == \"Прежний уровень\"][column],\n",
    "                                   nbinsx=20,\n",
    "                                   name=\"Прежний уровень\",\n",
    "                                   marker=dict(color=colors[0])), row=row, col=col)\n",
    "        fig.add_trace(go.Histogram(x=dataframe[dataframe[\"purchasing_activity\"] == \"Снизилась\"][column],\n",
    "                                   nbinsx=20,\n",
    "                                   name=\"Снизилась\",\n",
    "                                   marker=dict(color=colors[1])), row=row, col=col)\n",
    "\n",
    "        fig.update_xaxes(showgrid=True, gridwidth=1, gridcolor='LightGray', row=row, col=col)\n",
    "        fig.update_yaxes(showgrid=True, gridwidth=1, gridcolor='LightGray', row=row, col=col)\n",
    "\n",
    "        fig.update_xaxes(title_text=column, row=row, col=col)\n",
    "        fig.update_yaxes(title_text='Count', row=row, col=col)\n",
    "\n",
    "    fig.update_layout(showlegend=True,\n",
    "                      height=400*rows, width=1000, title_text=\"Histograms\", legend=dict(traceorder='normal'))\n",
    "\n",
    "    fig.show()"
   ]
  },
  {
   "cell_type": "code",
   "execution_count": null,
   "metadata": {},
   "outputs": [],
   "source": [
    "plot_histograms_one(market_file, num_columns)"
   ]
  },
  {
   "cell_type": "code",
   "execution_count": null,
   "metadata": {},
   "outputs": [],
   "source": [
    "market_file.head()"
   ]
  },
  {
   "cell_type": "code",
   "execution_count": null,
   "metadata": {},
   "outputs": [],
   "source": [
    "market_file.describe()"
   ]
  },
  {
   "cell_type": "markdown",
   "metadata": {},
   "source": [
    "**Промежуточный вывод**\n",
    "\n",
    "Изучив графики, мы можем создать портрет **типичного пользователя**. За последние полгода активность маркетинговых коммуникаций составила 4 взаимодействия. Аналогичное количество маркетинговых активностей наблюдается и в течение месяца. Пользователи с нормальной активностью зарегистрированы на сайте от 300 до 650 дней, и распределение равномерно. Большинство пользователей не использует акции. Чаще всего они просматривают три категории товаров за одно посещение сайта. За три месяца они могут не оплатить от одного до пяти товаров в корзине, причём чаще всего не оплачивается один товар. Количество сбоев в сайте при посещении варьируется от 0 до 9, в среднем составляя 4. Обычно за одно посещение просматривается около девяти страниц.\n",
    "\n",
    "Мы также определили профиль **неактивного пользователя**. Уровень вовлечённости в маркетинговые коммуникации составляет 3 за полгода, при этом количество маркетинговых активностей за месяц равно 4. Большинство пользователей зарегистрировано 800–850 дней назад. Предполагается, что пользователям наскучил сайт. 28–33% пользователей используют акционные товары. Можно предположить, что низкая активность связана с тем, что пользователи предпочитают покупать товары со скидками. За один визит сайта они просматривают две категории товаров. В течение трёх месяцев они могут не оплатить от 1 до 9 товаров, в среднем 3. Количество сбоев в среднем составляет 3. Обычно такие пользователи просматривают 6 страниц за один визит сайта, что логично меньше, чем у среднестатистического пользователя."
   ]
  },
  {
   "cell_type": "code",
   "execution_count": null,
   "metadata": {},
   "outputs": [],
   "source": [
    "market_file.head()"
   ]
  },
  {
   "cell_type": "code",
   "execution_count": null,
   "metadata": {},
   "outputs": [],
   "source": [
    "cat_columns = ['purchasing_activity', 'service_type', 'allow_report', 'popular_category']"
   ]
  },
  {
   "cell_type": "code",
   "execution_count": null,
   "metadata": {},
   "outputs": [],
   "source": [
    "def print_unique_values(columns, data):\n",
    "    for column in columns:\n",
    "        unique_values = set(data[column])\n",
    "        display(f\"Уникальные значения в '{column}': {unique_values}\")"
   ]
  },
  {
   "cell_type": "code",
   "execution_count": null,
   "metadata": {},
   "outputs": [],
   "source": [
    "print_unique_values(cat_columns, market_file)"
   ]
  },
  {
   "cell_type": "code",
   "execution_count": null,
   "metadata": {},
   "outputs": [],
   "source": [
    "market_file['service_type'].value_counts()"
   ]
  },
  {
   "cell_type": "code",
   "execution_count": null,
   "metadata": {},
   "outputs": [],
   "source": [
    "market_file.loc[market_file['service_type'] == 'стандартт', 'service_type'] = 'стандарт'"
   ]
  },
  {
   "cell_type": "code",
   "execution_count": null,
   "metadata": {},
   "outputs": [],
   "source": [
    "market_file['service_type'].value_counts()"
   ]
  },
  {
   "cell_type": "code",
   "execution_count": null,
   "metadata": {},
   "outputs": [],
   "source": [
    "def create_pie_charts(data, columns):\n",
    "    colors = ['SaddleBrown', 'Peru']  \n",
    "    for column in columns:\n",
    "        counts = data[column].value_counts()\n",
    "\n",
    "        df = pd.DataFrame({column: counts.index, 'count': counts.values})\n",
    "\n",
    "        fig = px.pie(df, values='count', names=column, title=f'Круговая диаграмма для {column}', color_discrete_sequence=colors)\n",
    "        fig.show()"
   ]
  },
  {
   "cell_type": "code",
   "execution_count": null,
   "metadata": {},
   "outputs": [],
   "source": [
    "create_pie_charts(market_file, cat_columns)"
   ]
  },
  {
   "cell_type": "markdown",
   "metadata": {},
   "source": [
    "Из 6 категорий товаров больший акцент делается на `товары для детей` и `домашний текстиль`, меньший — на `кухонную утварь`.\n",
    "Около 62 % клиентов сохраняют свой текущий уровень активности. Более 70 % пользуются базовым уровнем обслуживания и готовы получать дополнительные предложения о товарах."
   ]
  },
  {
   "cell_type": "markdown",
   "metadata": {},
   "source": [
    "**Таблица <u>`market_money`</u>**"
   ]
  },
  {
   "cell_type": "code",
   "execution_count": null,
   "metadata": {},
   "outputs": [],
   "source": [
    "market_money.head()"
   ]
  },
  {
   "cell_type": "code",
   "execution_count": null,
   "metadata": {},
   "outputs": [],
   "source": [
    "num_col = ['revenue']\n",
    "cat_col = ['period']"
   ]
  },
  {
   "cell_type": "code",
   "execution_count": null,
   "metadata": {},
   "outputs": [],
   "source": [
    "plt.figure(figsize=(12, 8))\n",
    "plt.boxplot(market_money['revenue'], vert=False)  \n",
    "plt.title('Боксплот выручки')\n",
    "plt.ylabel('Выручка')\n",
    "plt.grid(True)\n",
    "\n",
    "plt.show()"
   ]
  },
  {
   "cell_type": "code",
   "execution_count": null,
   "metadata": {},
   "outputs": [],
   "source": [
    "market_money.groupby('period')['revenue'].sum()"
   ]
  },
  {
   "cell_type": "code",
   "execution_count": null,
   "metadata": {},
   "outputs": [],
   "source": [
    "fig = go.Figure()\n",
    "\n",
    "\n",
    "fig.add_trace(go.Bar(\n",
    "    x=market_money['period'],\n",
    "    y=market_money['revenue'],\n",
    "    marker_line_color='black',  \n",
    "    marker_line_width=1.5,\n",
    "    name='Выручка'\n",
    "))\n",
    "\n",
    "\n",
    "fig.update_layout(\n",
    "    xaxis_title='Период',\n",
    "    yaxis_title='Выручка',\n",
    "    title='Столбчатая диаграмма выручки по периодам'\n",
    ")\n",
    "\n",
    "\n",
    "fig.show()"
   ]
  },
  {
   "cell_type": "code",
   "execution_count": null,
   "metadata": {},
   "outputs": [],
   "source": [
    "plot_histograms(market_money, num_col)"
   ]
  },
  {
   "cell_type": "code",
   "execution_count": null,
   "metadata": {},
   "outputs": [],
   "source": [
    "fig = px.histogram(market_time, x='minutes', nbins=10, facet_col='period', facet_col_wrap=3)\n",
    "\n",
    "fig.update_layout(\n",
    "    title='Распределение минут по периодам',\n",
    ")\n",
    "\n",
    "fig.update_traces(marker_color='Wheat', marker_line_color='black', marker_line_width=1.5)  \n",
    "\n",
    "fig.show()"
   ]
  },
  {
   "cell_type": "code",
   "execution_count": null,
   "metadata": {},
   "outputs": [],
   "source": [
    "# Удалим аномальноезначение\n",
    "market_money.drop(market_money[market_money['revenue'] > 20000].index, inplace=True)"
   ]
  },
  {
   "cell_type": "code",
   "execution_count": null,
   "metadata": {},
   "outputs": [],
   "source": [
    "plt.figure(figsize=(12, 8))\n",
    "plt.boxplot(market_money['revenue'], vert=False)  \n",
    "plt.title('Боксплот выручки')\n",
    "plt.ylabel('Выручка')\n",
    "plt.grid(True)\n",
    "\n",
    "plt.show()"
   ]
  },
  {
   "cell_type": "code",
   "execution_count": null,
   "metadata": {},
   "outputs": [],
   "source": [
    "plot_histograms(market_money, num_col)"
   ]
  },
  {
   "cell_type": "code",
   "execution_count": null,
   "metadata": {},
   "outputs": [],
   "source": [
    "count_zero_revenue = len(market_money[market_money['revenue'] == 0])\n",
    "zero_revenue_rows = market_money[market_money['revenue'] == 0]\n",
    "print(\"Количество строк с нулевой выручкой:\", count_zero_revenue)\n",
    "print(\"Строки с нулевой выручкой:\")\n",
    "display(zero_revenue_rows)"
   ]
  },
  {
   "cell_type": "code",
   "execution_count": null,
   "metadata": {},
   "outputs": [],
   "source": [
    "# Удалим клиентов с нулевой выручкой\n",
    "ids_to_remove = zero_revenue_rows['id'].unique()"
   ]
  },
  {
   "cell_type": "code",
   "execution_count": null,
   "metadata": {},
   "outputs": [],
   "source": [
    "market_money = market_money[~market_money['id'].isin(ids_to_remove)]"
   ]
  },
  {
   "cell_type": "code",
   "execution_count": null,
   "metadata": {},
   "outputs": [],
   "source": [
    "plot_histograms(market_money, num_col)"
   ]
  },
  {
   "cell_type": "code",
   "execution_count": null,
   "metadata": {},
   "outputs": [],
   "source": [
    "fig = px.histogram(market_money, x='revenue', nbins=10, facet_col='period', facet_col_wrap=3)\n",
    "fig.update_traces(marker_color='Wheat', marker_line_color='black', marker_line_width=1)\n",
    "\n",
    "fig.show()"
   ]
  },
  {
   "cell_type": "markdown",
   "metadata": {},
   "source": [
    "Самые высокие значения выручки в препредыдущем месяце. В текущем и предыдущем месяцах распределение почти одинаковое."
   ]
  },
  {
   "cell_type": "code",
   "execution_count": null,
   "metadata": {},
   "outputs": [],
   "source": [
    "print_unique_values(cat_col, market_money)"
   ]
  },
  {
   "cell_type": "code",
   "execution_count": null,
   "metadata": {},
   "outputs": [],
   "source": [
    "create_pie_charts(market_money, cat_col)"
   ]
  },
  {
   "cell_type": "markdown",
   "metadata": {},
   "source": [
    "**Таблица <u>`market_time`</u>**"
   ]
  },
  {
   "cell_type": "code",
   "execution_count": null,
   "metadata": {},
   "outputs": [],
   "source": [
    "market_time.head()"
   ]
  },
  {
   "cell_type": "code",
   "execution_count": null,
   "metadata": {},
   "outputs": [],
   "source": [
    "num_col_1 = ['minutes']\n",
    "cat_col_1 = ['period']"
   ]
  },
  {
   "cell_type": "code",
   "execution_count": null,
   "metadata": {},
   "outputs": [],
   "source": [
    "plt.figure(figsize=(12, 8))\n",
    "plt.boxplot(market_time['minutes'])\n",
    "plt.title('Боксплот минут')\n",
    "plt.ylabel('минуты')\n",
    "plt.grid(True)\n",
    "\n",
    "plt.show()"
   ]
  },
  {
   "cell_type": "code",
   "execution_count": null,
   "metadata": {},
   "outputs": [],
   "source": [
    "def plot_histograms(data, num_col, cat_col):\n",
    "    fig = px.histogram(data, x=num_col[0], color=cat_col[0], nbins=10)\n",
    "    fig.update_traces(marker_color='Wheat', marker_line_color='black', marker_line_width=1)\n",
    "    \n",
    "    fig.show()\n",
    "\n",
    "plot_histograms(market_time, num_col_1, cat_col_1)"
   ]
  },
  {
   "cell_type": "code",
   "execution_count": null,
   "metadata": {},
   "outputs": [],
   "source": [
    "print_unique_values(cat_col_1, market_time)"
   ]
  },
  {
   "cell_type": "markdown",
   "metadata": {},
   "source": [
    "- Посетители сайта обычно проводят на нём от 10 до 15 минут."
   ]
  },
  {
   "cell_type": "markdown",
   "metadata": {},
   "source": [
    "**Вывод**\n",
    "\n",
    "Среднестатистический пользователь зарегестрирован на сайте чуть больше полутора года. В течение месяца он сталкивается примерно с четырьмя маркетинговыми активностями, которые предлагает сайт. Обычно этот пользователь не использует специальные предложения или скидки, доступные на сайте.\n",
    "\n",
    "Во время использования сайта среднестатистический пользователь сталкивается с 4 сбоями в работе сайта и просматривает в среднем 8 страниц за одно посещение. Его интересуют различные категории товаров, такие как `товары для детей`, `домашний текстиль`, `косметика и аксессуары`. Время пребывания пользователя на сайте составляет от 10 до 15 минут.\n",
    "\n",
    "Следует подчеркнуть, что такие аспекты, как количество дней регистрации на сайте, количество просмотренных категорий за визит, число сбоев и среднее количество просмотренных страниц за посещение сайта, указывают на снижение активности пользователей."
   ]
  },
  {
   "cell_type": "markdown",
   "metadata": {},
   "source": [
    "# Шаг 4. Объединение таблиц"
   ]
  },
  {
   "cell_type": "code",
   "execution_count": null,
   "metadata": {},
   "outputs": [],
   "source": [
    "# Создадим отдельные столбцы для каждого из периодов\n",
    "time_pivot = market_time.pivot_table(index=['id'],columns=['period'],values=['minutes'])\n",
    "time_pivot.columns = ['minutes_prev_month','minutes_current_month']\n",
    "time_pivot = time_pivot.reset_index()\n",
    "time_pivot.head()"
   ]
  },
  {
   "cell_type": "code",
   "execution_count": null,
   "metadata": {},
   "outputs": [],
   "source": [
    "money_pivot = market_money.pivot_table(index=['id'],columns=['period'],values=['revenue'])\n",
    "money_pivot.columns = ['revenue_prev_month', 'revenue_before_prev_month', 'revenue_current_month']\n",
    "money_pivot = money_pivot.reset_index()\n",
    "money_pivot.head()"
   ]
  },
  {
   "cell_type": "code",
   "execution_count": null,
   "metadata": {},
   "outputs": [],
   "source": [
    "money_pivot.isna().sum()"
   ]
  },
  {
   "cell_type": "code",
   "execution_count": null,
   "metadata": {},
   "outputs": [],
   "source": [
    "# Заполнимпропуск медианным значением\n",
    "median_revenue = money_pivot['revenue_current_month'].median()\n",
    "money_pivot['revenue_current_month'].fillna(median_revenue, inplace=True)"
   ]
  },
  {
   "cell_type": "code",
   "execution_count": null,
   "metadata": {},
   "outputs": [],
   "source": [
    "market_file.reset_index(inplace=True,drop=True)\n",
    "time_pivot.reset_index(inplace=True,drop=True)\n",
    "money_pivot.reset_index(inplace=True,drop=True)"
   ]
  },
  {
   "cell_type": "code",
   "execution_count": null,
   "metadata": {},
   "outputs": [],
   "source": [
    "# Объединим таблицы\n",
    "df = market_file.merge(time_pivot, on='id',how='inner').merge(money_pivot, on='id', how='inner')\n",
    "df.head()"
   ]
  },
  {
   "cell_type": "code",
   "execution_count": null,
   "metadata": {},
   "outputs": [],
   "source": [
    "analyze_dataframe(\"df\")"
   ]
  },
  {
   "cell_type": "markdown",
   "metadata": {},
   "source": [
    "# Шаг 5. Корреляционный анализ"
   ]
  },
  {
   "cell_type": "code",
   "execution_count": null,
   "metadata": {},
   "outputs": [],
   "source": [
    "df"
   ]
  },
  {
   "cell_type": "code",
   "execution_count": null,
   "metadata": {},
   "outputs": [],
   "source": [
    "interval_cols  = [\n",
    "    'market_active_six_month',\n",
    "    'market_active_current_month',\n",
    "    'duration',\n",
    "    'promo_purchases',\n",
    "    'average_view_category_visit',\n",
    "    'unpaid_products',\n",
    "    'service_error',\n",
    "    'page_visit',\n",
    "    'minutes_prev_month',\n",
    "    'minutes_current_month',\n",
    "    'revenue_prev_month',\n",
    "    'revenue_before_prev_month',\n",
    "    'revenue_current_month'\n",
    "]\n",
    "corr_matrix = df[interval_cols].phik_matrix()\n",
    "corr_matrix"
   ]
  },
  {
   "cell_type": "code",
   "execution_count": null,
   "metadata": {},
   "outputs": [],
   "source": [
    "plt.figure(figsize=(15, 10))\n",
    "sns.heatmap(corr_matrix, annot=True, cmap='hot', fmt=\".2f\")\n",
    "plt.title(\"Корреляционная матрица\")\n",
    "plt.show()"
   ]
  },
  {
   "cell_type": "code",
   "execution_count": null,
   "metadata": {},
   "outputs": [],
   "source": [
    "df_full_corr = df.copy()"
   ]
  },
  {
   "cell_type": "code",
   "execution_count": null,
   "metadata": {},
   "outputs": [],
   "source": [
    "df_full_corr = df_full_corr.drop('id', axis=1)"
   ]
  },
  {
   "cell_type": "code",
   "execution_count": null,
   "metadata": {},
   "outputs": [],
   "source": [
    "df_full_corr.phik_matrix()"
   ]
  },
  {
   "cell_type": "code",
   "execution_count": null,
   "metadata": {},
   "outputs": [],
   "source": [
    "df_full_corr.phik_matrix().iloc[:,1]"
   ]
  },
  {
   "cell_type": "code",
   "execution_count": null,
   "metadata": {},
   "outputs": [],
   "source": [
    "df_lower = df_full_corr[df_full_corr['purchasing_activity'] == 'Снизилась']"
   ]
  },
  {
   "cell_type": "code",
   "execution_count": null,
   "metadata": {},
   "outputs": [],
   "source": [
    "df_lower = df_lower.phik_matrix()\n",
    "df_lower"
   ]
  },
  {
   "cell_type": "code",
   "execution_count": null,
   "metadata": {},
   "outputs": [],
   "source": [
    "df_full_corr[df_full_corr['purchasing_activity'] == 'Прежний уровень'].phik_matrix()"
   ]
  },
  {
   "cell_type": "code",
   "execution_count": null,
   "metadata": {},
   "outputs": [],
   "source": [
    "df_project = df_full_corr"
   ]
  },
  {
   "cell_type": "code",
   "execution_count": null,
   "metadata": {},
   "outputs": [],
   "source": [
    "df_project.head()"
   ]
  },
  {
   "cell_type": "markdown",
   "metadata": {},
   "source": [
    "**Вывод**\n",
    "\n",
    "Можно сказать, что мультиколлинеарность имеет место, когда коэффициент корреляции между объясняющими переменными составляет 0,9 и более. Все признаки коррелируют в пределах нормы. Наблюдается высокая зависимость между выручкой за предыдущий месяц и выручкой в текущем месяце, однако она ниже 0,9, поэтому её можно оставить."
   ]
  },
  {
   "cell_type": "markdown",
   "metadata": {},
   "source": [
    "# Шаг 6. Использование пайплайнов"
   ]
  },
  {
   "cell_type": "code",
   "execution_count": null,
   "metadata": {},
   "outputs": [],
   "source": [
    "df_project.loc[df['purchasing_activity'] == 'Снизилась', 'purchasing_activity'] = 1\n",
    "df_project.loc[df['purchasing_activity'] == 'Прежний уровень', 'purchasing_activity'] = 0"
   ]
  },
  {
   "cell_type": "code",
   "execution_count": null,
   "metadata": {},
   "outputs": [],
   "source": [
    "df_project['purchasing_activity'] = df_project['purchasing_activity'].astype('int64')"
   ]
  },
  {
   "cell_type": "code",
   "execution_count": null,
   "metadata": {},
   "outputs": [],
   "source": [
    "df_project.isna().sum()"
   ]
  },
  {
   "cell_type": "code",
   "execution_count": null,
   "metadata": {},
   "outputs": [],
   "source": [
    "df_project.shape"
   ]
  },
  {
   "cell_type": "code",
   "execution_count": null,
   "metadata": {},
   "outputs": [],
   "source": [
    "# Разделим данные на выборки\n",
    "df_train, df_test = train_test_split(df_project, test_size=0.25, random_state=RANDOM_STATE, \n",
    "                                     stratify=df_project['purchasing_activity'])"
   ]
  },
  {
   "cell_type": "code",
   "execution_count": null,
   "metadata": {},
   "outputs": [],
   "source": [
    "X_train = df_train.drop(['purchasing_activity'], axis=1)\n",
    "y_train = df_train['purchasing_activity']\n",
    "X_test = df_test.drop(['purchasing_activity'], axis=1)\n",
    "y_test = df_test['purchasing_activity']"
   ]
  },
  {
   "cell_type": "code",
   "execution_count": null,
   "metadata": {},
   "outputs": [],
   "source": [
    "print('Размер тренировочной выборки', df_train.shape)"
   ]
  },
  {
   "cell_type": "code",
   "execution_count": null,
   "metadata": {},
   "outputs": [],
   "source": [
    "print('Размер тестовой выборки', df_test.shape)"
   ]
  },
  {
   "cell_type": "code",
   "execution_count": null,
   "metadata": {},
   "outputs": [],
   "source": [
    "df_project.columns"
   ]
  },
  {
   "cell_type": "code",
   "execution_count": null,
   "metadata": {},
   "outputs": [],
   "source": [
    "df_project['service_type'].unique()"
   ]
  },
  {
   "cell_type": "code",
   "execution_count": null,
   "metadata": {},
   "outputs": [],
   "source": [
    "df_project.head()"
   ]
  },
  {
   "cell_type": "code",
   "execution_count": null,
   "metadata": {},
   "outputs": [],
   "source": [
    "ohe_columns = [\n",
    "     'allow_report', 'popular_category'\n",
    "]\n",
    "\n",
    "ord_columns = ['service_type']\n",
    "num_columns = ['market_active_six_month', 'market_active_current_month', 'duration', \n",
    "               'promo_purchases', 'average_view_category_visit', 'unpaid_products', 'service_error', 'page_visit', \n",
    "               'minutes_prev_month', 'minutes_current_month', 'revenue_before_prev_month', 'revenue_prev_month', 'revenue_current_month']\n",
    "\n",
    "ohe_pipe = Pipeline(\n",
    "    [\n",
    "        ('ohe', OneHotEncoder(handle_unknown='ignore', sparse=False, drop='first'))\n",
    "    ]\n",
    ")\n",
    "\n",
    "ord_pipe = Pipeline(\n",
    "    [\n",
    "        ('ord',  OrdinalEncoder(categories=[['стандарт', 'премиум']]))\n",
    "    ]\n",
    ")\n",
    "\n",
    "\n",
    "data_preprocessor = ColumnTransformer(\n",
    "    [('ohe', ohe_pipe, ohe_columns),\n",
    "     ('ord', ord_pipe, ord_columns),\n",
    "     ('num', MinMaxScaler(), num_columns)\n",
    "    ],\n",
    "    remainder='passthrough'\n",
    ")"
   ]
  },
  {
   "cell_type": "code",
   "execution_count": null,
   "metadata": {},
   "outputs": [],
   "source": [
    "# Создадим пайплайн\n",
    "pipe_final = Pipeline([\n",
    "    ('preprocessor', data_preprocessor),\n",
    "    ('models', DecisionTreeClassifier(random_state=RANDOM_STATE))\n",
    "])\n",
    "\n",
    "param_grid = [    \n",
    "    {\n",
    "        'models': [KNeighborsClassifier()],\n",
    "        'models__n_neighbors': range(2, 7),\n",
    "        'preprocessor__num': [StandardScaler(), MinMaxScaler(), 'passthrough']\n",
    "    },\n",
    "\n",
    "\n",
    "     {\n",
    "        'models': [LogisticRegression(\n",
    "            random_state=RANDOM_STATE,\n",
    "            solver='liblinear',\n",
    "            penalty='l1',\n",
    "            class_weight = 'balanced'\n",
    "        )],\n",
    "        'models__C': [0.001, 0.01, 0.1, 1, 10, 100, 1000],\n",
    "        'preprocessor__num': [StandardScaler(), MinMaxScaler(), 'passthrough']\n",
    "    },\n",
    "        \n",
    "]\n",
    ")"
   ]
  },
  {
   "cell_type": "markdown",
   "metadata": {},
   "source": [
    "Мы будем использовать следующие модели: `KNeighborsClassifier()`, `DecisionTreeClassifier()`, `LogisticRegression()`. Чтобы определить лучшую модель, мы применим метрику `ROC-AUC`. `ROC-AUC` хорошо подходит для работы с несбалансированными классами."
   ]
  },
  {
   "cell_type": "code",
   "execution_count": null,
   "metadata": {},
   "outputs": [],
   "source": [
    "X_train.head()"
   ]
  },
  {
   "cell_type": "code",
   "execution_count": null,
   "metadata": {},
   "outputs": [],
   "source": [
    "randomized_search.fit(X_train, y_train)"
   ]
  },
  {
   "cell_type": "code",
   "execution_count": null,
   "metadata": {},
   "outputs": [],
   "source": [
    "print('Лучшая модель и её параметры:\\n\\n', randomized_search.best_estimator_)\n",
    "print ('Метрика лучшей модели на тренировочной выборке:', randomized_search.best_score_)"
   ]
  },
  {
   "cell_type": "code",
   "execution_count": null,
   "metadata": {},
   "outputs": [],
   "source": [
    "y_test_proba = randomized_search.predict_proba(X_test)[:, 1]\n",
    "y_test_pred = randomized_search.predict(X_test)\n",
    "print(f'Метрика ROC-AUC на тестовой выборке: {roc_auc_score(y_test, y_test_proba)}')"
   ]
  },
  {
   "cell_type": "markdown",
   "metadata": {},
   "source": [
    "**Вывод**\n",
    "\n",
    "Лучшей моделью на тренировочной выборке оказалась `KNeighborsClassifier` (n_neighbors=8), ее `roc_auc` равен: 0.907\n",
    "\n",
    "Метрика `ROC-AUC` на тестовой выборке: 0.897"
   ]
  },
  {
   "cell_type": "markdown",
   "metadata": {},
   "source": [
    "# Шаг 7. Анализ важности признаков"
   ]
  },
  {
   "cell_type": "code",
   "execution_count": null,
   "metadata": {},
   "outputs": [],
   "source": [
    "best_model = randomized_search.best_estimator_\n",
    "kn_model = best_model.named_steps['models']"
   ]
  },
  {
   "cell_type": "code",
   "execution_count": null,
   "metadata": {},
   "outputs": [],
   "source": [
    "X_train_2 = best_model.named_steps['preprocessor'].fit_transform(X_train)\n",
    "X_test_2 = best_model.named_steps['preprocessor'].transform(X_test)"
   ]
  },
  {
   "cell_type": "code",
   "execution_count": null,
   "metadata": {},
   "outputs": [],
   "source": [
    "explainer = shap.Explainer(kn_model.predict_proba, X_train_2)"
   ]
  },
  {
   "cell_type": "code",
   "execution_count": null,
   "metadata": {},
   "outputs": [],
   "source": [
    "explainer = shap.Explainer(kn_model.predict_proba, X_train_2)\n",
    "shap_values = explainer(X_test_2)"
   ]
  },
  {
   "cell_type": "code",
   "execution_count": null,
   "metadata": {},
   "outputs": [],
   "source": [
    "features_out = best_model.named_steps['preprocessor'].transformers_[0][1].get_feature_names_out().tolist() + num_columns + ord_columns"
   ]
  },
  {
   "cell_type": "code",
   "execution_count": null,
   "metadata": {},
   "outputs": [],
   "source": [
    "shap.summary_plot(shap_values[:, :, 1], X_test_2, plot_type=\"bar\", feature_names=features_out, color='Maroon')"
   ]
  },
  {
   "cell_type": "markdown",
   "metadata": {},
   "source": [
    "**Вывод**\n",
    "\n",
    "Наибольшее воздействие на модель оказывают количество посещаемых страниц пользователя за визит и количество минут, проведенных им на сайте в предыдущем месяце. Далее следует учитывать акционные покупки, средний просмотр категорий за визит, минуты, проведенные на сайте в текущем месяце, и выручку за предыдущий месяц.\n",
    "\n",
    "Наименьшее воздействие на модель оказывают категории товаров и количество маркетинговых коммуникаций в текущем месяце. Следовательно, рекомендуется исключить данные признаки из модели, а на те, которые оказывают наибольшее воздействие, обратить особое внимание при принятии решений. Из полученных данных можно сделать вывод, что посещаемость сайта и время, проведенное на нем, сильнее всего *коррелируют* на активность пользователей, поэтому эти факторы следует учитывать при принятии решений."
   ]
  },
  {
   "cell_type": "markdown",
   "metadata": {},
   "source": [
    "# Шаг 8. Сегментация покупателей"
   ]
  },
  {
   "cell_type": "code",
   "execution_count": null,
   "metadata": {},
   "outputs": [],
   "source": [
    "# Соеденим данные прибыли\n",
    "df_segment = pd.merge(df, money)\n",
    "df_segment[['id', 'profit']]"
   ]
  },
  {
   "cell_type": "code",
   "execution_count": null,
   "metadata": {},
   "outputs": [],
   "source": [
    "df_segment['revenue_current_month'] = df_project['revenue_current_month']"
   ]
  },
  {
   "cell_type": "code",
   "execution_count": null,
   "metadata": {},
   "outputs": [],
   "source": [
    "df_segment.info()"
   ]
  },
  {
   "cell_type": "code",
   "execution_count": null,
   "metadata": {},
   "outputs": [],
   "source": [
    "probabilities = best_model.predict_proba(df_segment)[:, 1]"
   ]
  },
  {
   "cell_type": "code",
   "execution_count": null,
   "metadata": {},
   "outputs": [],
   "source": [
    "df_segment['probability_decrease_activity'] = probabilities"
   ]
  },
  {
   "cell_type": "code",
   "execution_count": null,
   "metadata": {},
   "outputs": [],
   "source": [
    "df_segment.sample(5)"
   ]
  },
  {
   "cell_type": "code",
   "execution_count": null,
   "metadata": {},
   "outputs": [],
   "source": [
    "# Рассчитаем порог\n",
    "plt.figure(figsize=(12, 8)) \n",
    "plt.hist(df_segment['probability_decrease_activity'], bins=10, color='Brown', edgecolor='black')\n",
    "plt.title(\"Распределение вероятности снижения активности\")\n",
    "plt.xlabel(\"Значение вероятности\")\n",
    "plt.ylabel(\"Частота\")\n",
    "plt.grid(True)\n",
    "\n",
    "plt.show()"
   ]
  },
  {
   "cell_type": "code",
   "execution_count": null,
   "metadata": {},
   "outputs": [],
   "source": [
    "plt.figure(figsize=(12, 8))\n",
    "df_segment['probability_decrease_activity'].plot(kind='box')\n",
    "plt.title('Боксплот для вероятности снижения активности')\n",
    "plt.ylabel('Вероятность снижения активности')\n",
    "plt.grid(True)\n",
    "\n",
    "plt.show()"
   ]
  },
  {
   "cell_type": "code",
   "execution_count": null,
   "metadata": {},
   "outputs": [],
   "source": [
    "percentile = df_segment['probability_decrease_activity'].quantile(0.75)\n",
    "percentile"
   ]
  },
  {
   "cell_type": "code",
   "execution_count": null,
   "metadata": {},
   "outputs": [],
   "source": [
    "plt.figure(figsize=(12, 8)) \n",
    "plt.hist(df_segment['profit'], bins=50, color='Sienna', edgecolor='black')\n",
    "plt.title(\"Распределение вероятности снижения активности\")\n",
    "plt.xlabel(\"Значение вероятности\")\n",
    "plt.ylabel(\"Частота\")\n",
    "plt.grid(True)\n",
    "\n",
    "plt.show()"
   ]
  },
  {
   "cell_type": "code",
   "execution_count": null,
   "metadata": {},
   "outputs": [],
   "source": [
    "plt.figure(figsize=(12, 8))\n",
    "df_segment['profit'].plot(kind='box')\n",
    "plt.title('Боксплот для прибыли')\n",
    "plt.ylabel('Прибыль')\n",
    "plt.grid(True)\n",
    "\n",
    "plt.show()"
   ]
  },
  {
   "cell_type": "code",
   "execution_count": null,
   "metadata": {},
   "outputs": [],
   "source": [
    "plt.figure(figsize=(12, 8))\n",
    "sns.scatterplot(x='profit', y='probability_decrease_activity', data=df_segment, color='Sienna')\n",
    "\n",
    "sns.regplot(x='profit', y='probability_decrease_activity', data=df_segment, scatter=False, color='DarkOrange')\n",
    "\n",
    "plt.title('Диаграмма рассеяния прибыли и вероятности уменьшения активности')\n",
    "plt.xlabel('Прибыль')\n",
    "plt.ylabel('Вероятность уменьшения активности')\n",
    "\n",
    "plt.show()"
   ]
  },
  {
   "cell_type": "code",
   "execution_count": null,
   "metadata": {},
   "outputs": [],
   "source": [
    "df_segment['profit'].mean()"
   ]
  },
  {
   "cell_type": "code",
   "execution_count": null,
   "metadata": {},
   "outputs": [],
   "source": [
    "percentile = df_segment['profit'].quantile(0.7)\n",
    "percentile"
   ]
  },
  {
   "cell_type": "markdown",
   "metadata": {},
   "source": [
    "Определим, что высокие показатели прибыли соответствуют значениям выше третьего квартиля, а вероятность снижения активности превышает 0.5."
   ]
  },
  {
   "cell_type": "code",
   "execution_count": null,
   "metadata": {},
   "outputs": [],
   "source": [
    "df_high_income = df_segment[(df_segment['probability_decrease_activity'] >= 0.5) & (df_segment['profit'] >= 4.55)]"
   ]
  },
  {
   "cell_type": "code",
   "execution_count": null,
   "metadata": {},
   "outputs": [],
   "source": [
    "df_high_income.info()"
   ]
  },
  {
   "cell_type": "markdown",
   "metadata": {},
   "source": [
    "В сегменте получилось 118 пользователь, их прибыль больше, чем у 70 %, и высока вероятность ухода согласно предсказанию модели.\n"
   ]
  },
  {
   "cell_type": "code",
   "execution_count": null,
   "metadata": {},
   "outputs": [],
   "source": [
    "plt.rcParams['axes.grid'] = True\n",
    "plt.rcParams['axes.grid.which'] = 'both'\n",
    "plt.rcParams['axes.grid.axis'] = 'both'\n",
    "plt.rcParams['axes.titleweight'] = 'bold'"
   ]
  },
  {
   "cell_type": "code",
   "execution_count": null,
   "metadata": {},
   "outputs": [],
   "source": [
    "def plot_histograms_for_segmen(dataframe1, dataframe2, num_columns):\n",
    "    num_plots = len(num_columns)\n",
    "    rows = (num_plots + 1) // 2\n",
    "\n",
    "    fig = make_subplots(rows=rows, cols=2, subplot_titles=num_columns)\n",
    "\n",
    "    for i, column in enumerate(num_columns):\n",
    "        row = (i // 2) + 1\n",
    "        col = (i % 2) + 1\n",
    "\n",
    "        fig.add_trace(go.Histogram(x=dataframe1[column], nbinsx=20, name='df_segment', histnorm='probability', marker_color='SaddleBrown'), row=row, col=col)\n",
    "        fig.add_trace(go.Histogram(x=dataframe2[column], nbinsx=20, name='df_high_income', histnorm='probability', marker_color='Chocolate'), row=row, col=col)\n",
    "\n",
    "        fig.update_xaxes(showgrid=True, gridwidth=1, gridcolor='black', row=row, col=col)\n",
    "        fig.update_yaxes(showgrid=True, gridwidth=1, gridcolor='black', row=row, col=col)\n",
    "\n",
    "        fig.update_xaxes(title_text=column, row=row, col=col)\n",
    "        fig.update_yaxes(title_text='Вероятность', row=row, col=col)\n",
    "\n",
    "    fig.update_layout(showlegend=True, height=400*rows, width=900)\n",
    "    fig.show()"
   ]
  },
  {
   "cell_type": "code",
   "execution_count": null,
   "metadata": {},
   "outputs": [],
   "source": [
    "col_list = ['page_visit', 'minutes_prev_month', 'minutes_current_month', 'revenue_current_month', 'revenue_before_prev_month',\n",
    "            'average_view_category_visit', 'promo_purchases', 'duration', 'market_active_six_month', \n",
    "            'market_active_current_month']\n",
    "\n",
    "plot_histograms_for_segmen(df_segment, df_high_income, col_list)"
   ]
  },
  {
   "cell_type": "code",
   "execution_count": null,
   "metadata": {},
   "outputs": [],
   "source": [
    "df_high_income"
   ]
  },
  {
   "cell_type": "code",
   "execution_count": null,
   "metadata": {},
   "outputs": [],
   "source": [
    "print(df_high_income['revenue_current_month'].mean())\n",
    "print(df_segment['revenue_current_month'].mean())"
   ]
  },
  {
   "cell_type": "code",
   "execution_count": null,
   "metadata": {},
   "outputs": [],
   "source": [
    "print(df_high_income['revenue_prev_month'].mean())\n",
    "print(df_segment['revenue_prev_month'].mean())"
   ]
  },
  {
   "cell_type": "code",
   "execution_count": null,
   "metadata": {},
   "outputs": [],
   "source": [
    "print(df_high_income['revenue_before_prev_month'].mean())\n",
    "print(df_segment['revenue_before_prev_month'].mean())"
   ]
  },
  {
   "cell_type": "code",
   "execution_count": null,
   "metadata": {},
   "outputs": [],
   "source": [
    "cat_columns_1 = ['service_type', 'allow_report', 'market_active_six_month', 'market_active_current_month', 'popular_category']"
   ]
  },
  {
   "cell_type": "code",
   "execution_count": null,
   "metadata": {},
   "outputs": [],
   "source": [
    "def plot_pie_charts(dataframe1, dataframe2, columns):\n",
    "    subplot_titles = ['df_segment', 'df_high_income']\n",
    "\n",
    "    for column in columns:\n",
    "        fig = go.Figure()\n",
    "\n",
    "        labels1 = dataframe1[column].value_counts().index\n",
    "        sizes1 = dataframe1[column].value_counts().values\n",
    "\n",
    "        fig.add_trace(go.Pie(labels=labels1, values=sizes1, title=subplot_titles[0],\n",
    "                             textinfo='percent+label', hole=0.3,\n",
    "                             marker=dict(colors=['Maroon', 'Peru', 'BurlyWood', 'Wheat', 'Cornsilk', 'Ivory'])))\n",
    "        fig.update_layout(\n",
    "            title=f\"Круговая диаграмма для {column} в {subplot_titles[0]}\",\n",
    "            autosize=False,\n",
    "            width=800,\n",
    "            height=500\n",
    "        )\n",
    "        fig.show()\n",
    "\n",
    "        fig2 = go.Figure()\n",
    "        labels2 = dataframe2[column].value_counts().index\n",
    "        sizes2 = dataframe2[column].value_counts().values\n",
    "\n",
    "        fig2.add_trace(go.Pie(labels=labels2, values=sizes2, title=subplot_titles[1],\n",
    "                              textinfo='percent+label', hole=0.3,\n",
    "                              marker=dict(colors=['Maroon', 'Peru', 'BurlyWood', 'Wheat', 'Cornsilk', 'Ivory'])))\n",
    "        fig2.update_layout(\n",
    "            title=f\"Круговая диаграмма для {column} в {subplot_titles[1]}\",\n",
    "            autosize=False,\n",
    "            width=800,\n",
    "            height=500\n",
    "        )\n",
    "        fig2.show()"
   ]
  },
  {
   "cell_type": "code",
   "execution_count": null,
   "metadata": {},
   "outputs": [],
   "source": [
    "plot_pie_charts(df_segment, df_high_income, cat_columns_1)"
   ]
  },
  {
   "cell_type": "code",
   "execution_count": null,
   "metadata": {},
   "outputs": [],
   "source": [
    "category_data = pd.concat([df_high_income.groupby('popular_category')[['revenue_current_month', 'revenue_prev_month', 'revenue_before_prev_month']].sum()])\n",
    "\n",
    "category_data.plot(kind='barh', figsize=(12, 10), color=['Maroon', 'Peru', 'BurlyWood'])\n",
    "plt.title('Выручка по категориям товаров за несколько месяцев в df_high_income')\n",
    "plt.xlabel('Выручка')\n",
    "plt.ylabel('Категория товаров')\n",
    "plt.legend(['Текущий месяц', 'Предыдущий месяц', 'Месяц до предыдущего'])\n",
    "\n",
    "plt.show()"
   ]
  },
  {
   "cell_type": "code",
   "execution_count": null,
   "metadata": {},
   "outputs": [],
   "source": [
    "promo_data = pd.concat([df_high_income.groupby('promo_purchases')[['revenue_current_month', 'revenue_prev_month', 'revenue_before_prev_month']].sum()])\n",
    "promo_data.plot(kind='bar', figsize=(15, 10), color=['Maroon', 'Peru', 'BurlyWood'])\n",
    "plt.title('Выручка по акционным покупкам за несколько месяцев в df_high_income')\n",
    "plt.xlabel('Акционные покупки')\n",
    "plt.ylabel('Выручка')\n",
    "plt.legend(['Текущий месяц', 'Предыдущий месяц', 'Месяц до предыдущего'])\n",
    "\n",
    "plt.show()"
   ]
  },
  {
   "cell_type": "code",
   "execution_count": null,
   "metadata": {},
   "outputs": [],
   "source": [
    "# Посчитаем разницу между текущим и предыдущим месяцами по популярным категориям\n",
    "revenue_category = df.groupby('popular_category')[['revenue_current_month', 'revenue_prev_month']].sum()\n",
    "revenue_category['revenue_difference'] = revenue_category['revenue_current_month'] - revenue_category['revenue_prev_month']\n",
    "revenue_category['revenue_difference_percent'] = (revenue_category['revenue_difference'] / revenue_category['revenue_prev_month']) * 100\n",
    "\n",
    "revenue_category"
   ]
  },
  {
   "cell_type": "markdown",
   "metadata": {},
   "source": [
    "**Вывод**\n",
    "\n",
    "- Категория включает преимущественно покупателей товаров для детей и косметики и аксессуаров (32 % и 27 % соответственно). В то время как в целом на эти категории приходится 25 % и 19 %.\n",
    "\n",
    "- Тариф `«Премиум»` используют на 11 % больше пользователей, которые приносят высокий доход.\n",
    "\n",
    "- Пользователи этой группы чаще всего просматривают две категории.\n",
    "\n",
    "- В среднем они проводят на сайте около 10 минут, что меньше, чем в среднем все пользователи, и просматривают не более 5 страниц за один визит.\n",
    "\n",
    "- Выручка текущего месяца по популярным категорям в среднем на 5-7% больше предыдущего "
   ]
  },
  {
   "cell_type": "markdown",
   "metadata": {},
   "source": [
    "# Общий вывод и рекомендации компании «В один клик»\n",
    "\n",
    "**Шаг 1. Загрузка данных**\n",
    "\n",
    "- Все данные представлены корректно и соответствуют описанию. Можно привести столбцы к нижнему регистру, а также обратить внимание на значения в столбцах Период датасетов <u>market_money</u> и <u>market_time</u>. Также стоит учесть значения Тип сервиса датасета <u>market_file</u>. В целом, на первый взгляд, это всё, что нужно сделать для улучшения качества данных.\n",
    "\n",
    "**Шаг 2. Предобработка данных**\n",
    "\n",
    "- Мы провели реорганизацию столбцов, преобразовали формат данных в столбце `market_file['market_active_six_month']`, а также устранили дубликаты в наборе данных market_money. Аномальных значений обнаружено не было.\n",
    "\n",
    "**Шаг 3. Исследовательский анализ данных**\n",
    "\n",
    "- Изучив графики, мы можем создать портрет ***типичного пользователя***. За последние полгода активность маркетинговых коммуникаций составила 4 взаимодействия. Аналогичное количество маркетинговых активностей наблюдается и в течение месяца. Пользователи с нормальной активностью зарегистрированы на сайте от 300 до 650 дней, и распределение равномерно. Большинство пользователей не использует акции. Чаще всего они просматривают три категории товаров за одно посещение сайта. За три месяца они могут не оплатить от одного до пяти товаров в корзине, причём чаще всего не оплачивается один товар. Количество сбоев в сайте при посещении варьируется от 0 до 9, в среднем составляя 4. Обычно за одно посещение просматривается около девяти страниц.\n",
    "\n",
    "- Мы также определили профиль ***неактивного пользователя***. Уровень вовлечённости в маркетинговые коммуникации составляет 3 за полгода, при этом количество маркетинговых активностей за месяц равно 4. Большинство пользователей зарегистрировано 800–850 дней назад. Предполагается, что пользователям наскучил сайт. 28–33% пользователей используют акционные товары. Можно предположить, что низкая активность связана с тем, что пользователи предпочитают покупать товары со скидками. За один визит сайта они просматривают две категории товаров. В течение трёх месяцев они могут не оплатить от 1 до 9 товаров, в среднем 3. Количество сбоев в среднем составляет 3. Обычно такие пользователи просматривают 6 страниц за один визит сайта, что логично меньше, чем у среднестатистического пользователя\n",
    "\n",
    "- Из 6 категорий товаров больший акцент делается на `товары для детей` и `домашний текстиль`, меньший — на `кухонную утварь`.\n",
    "\n",
    "- Около 62 % клиентов сохраняют свой текущий уровень активности. Более 70 % пользуются базовым уровнем обслуживания и готовы получать дополнительные предложения о товарах.\n",
    "\n",
    "- Среднестатистический пользователь зарегестрирован на сайте чуть больше полутора года. В течение месяца он сталкивается примерно с четырьмя маркетинговыми активностями, которые предлагает сайт. Обычно этот пользователь не использует специальные предложения или скидки, доступные на сайте.\n",
    "\n",
    "- Во время использования сайта среднестатистический пользователь сталкивается с 4 сбоями в работе сайта и просматривает в среднем 8 страниц за одно посещение. Его интересуют различные категории товаров, такие как товары для детей, домашний текстиль, косметика и аксессуары. Время пребывания пользователя на сайте составляет от 10 до 15 минут.\n",
    "\n",
    "- Следует подчеркнуть, что такие аспекты, как количество дней регистрации на сайте, количество просмотренных категорий за визит, число сбоев и среднее количество просмотренных страниц за посещение сайта, указывают на снижение активности пользователей.\n",
    "\n",
    "**Шаг 4. Объединение таблиц**\n",
    "\n",
    "- Мы успешно объединили данные\n",
    "\n",
    "**Шаг 5. Корреляционный анализ**\n",
    "\n",
    "- Можно сказать, что мультиколлинеарность имеет место, когда коэффициент корреляции между объясняющими переменными составляет 0,9 и более. Все признаки коррелируют в пределах нормы. Наблюдается высокая зависимость между выручкой за предыдущий месяц и выручкой в текущем месяце, однако она ниже 0,9, поэтому её можно оставить.\n",
    "\n",
    "**Шаг 6. Использование пайплайнов**\n",
    "\n",
    "- Лучшей моделью на тренировочной выборке оказалась `KNeighborsClassifier` (n_neighbors=8), ее `roc_auc` равен: 0.907\n",
    "- Метрика `ROC-AUC` на тестовой выборке: 0.897\n",
    "\n",
    "**Шаг 7. Анализ важности признаков**\n",
    "\n",
    "- Наибольшее воздействие на модель оказывают количество посещаемых страниц пользователя за визит и количество минут, проведенных им на сайте в предыдущем месяце. Далее следует учитывать акционные покупки, средний просмотр категорий за визит, минуты, проведенные на сайте в текущем месяце, и выручку за предыдущий месяц.\n",
    "\n",
    "- Наименьшее воздействие на модель оказывают категории товаров и количество маркетинговых коммуникаций в текущем месяце. Следовательно, рекомендуется исключить данные признаки из модели, а на те, которые оказывают наибольшее воздействие, обратить особое внимание при принятии решений. Из полученных данных можно сделать вывод, что посещаемость сайта и время, проведенное на нем, сильнее всего коррелируют на активность пользователей, поэтому эти факторы следует учитывать при принятии решений.\n",
    "\n",
    "**Шаг 8. Сегментация покупателей**\n",
    "\n",
    "- Категория включает преимущественно покупателей `товаров для детей` и `косметики и аксессуаров` (34 % и 26 % соответственно). В то время как в целом на эти категории приходится 25 % и 19 %.\n",
    "\n",
    "- Тариф `«Премиум»` используют на 6 % больше пользователей, которые приносят высокий доход.\n",
    "\n",
    "- Пользователи этой группы чаще всего просматривают две категории.\n",
    "\n",
    "- В среднем они проводят на сайте около 10 минут, что меньше, чем в среднем все пользователи, и просматривают не более 5 страниц за один визит.\n",
    "\n",
    "- Средняя выручка также ниже среднего показателя, однако она растёт к текущему месяцу, что является положительным знаком.\n",
    "\n",
    "**Рекомендации компании «В один клик»**\n",
    "\n",
    "1. <u>**Анализируйте данные о времени**</u>, проведённом пользователями на сайте, и количестве просмотренных страниц, чтобы выявить слабые стороны и улучшить пользовательский опыт. Обратите внимание на показатели отказов, длительность сессий и активность посетителей.\n",
    "\n",
    "2. <u>**Используйте данные о просмотрах категорий и сделанных покупках**</u> для создания персонализированных рекомендаций товаров и услуг. Это поможет пользователям быстрее находить нужную информацию и повысит удовлетворённость от использования сайта.\n",
    "\n",
    "3. <u>**Предложите специальные акции и скидки**</u> для неактивных покупателей, чтобы стимулировать их активность и увеличить количество покупок. Акции могут быть приурочены к определённым событиям, периодам или категориям товаров.\n"
   ]
  },
  {
   "cell_type": "code",
   "execution_count": null,
   "metadata": {},
   "outputs": [],
   "source": []
  }
 ],
 "metadata": {
  "ExecuteTimeLog": [
   {
    "duration": 3735,
    "start_time": "2024-06-20T11:22:20.785Z"
   },
   {
    "duration": 2520,
    "start_time": "2024-06-20T11:22:33.986Z"
   },
   {
    "duration": 6305,
    "start_time": "2024-06-20T11:22:36.508Z"
   },
   {
    "duration": 1493,
    "start_time": "2024-06-20T11:23:42.342Z"
   },
   {
    "duration": 2,
    "start_time": "2024-06-20T11:23:52.727Z"
   },
   {
    "duration": 245,
    "start_time": "2024-06-20T11:24:09.350Z"
   },
   {
    "duration": 13,
    "start_time": "2024-06-20T11:24:16.763Z"
   },
   {
    "duration": 7,
    "start_time": "2024-06-20T11:24:34.489Z"
   },
   {
    "duration": 168,
    "start_time": "2024-06-20T11:24:52.435Z"
   },
   {
    "duration": 11,
    "start_time": "2024-06-20T11:24:53.817Z"
   },
   {
    "duration": 8,
    "start_time": "2024-06-20T11:24:57.561Z"
   },
   {
    "duration": 6,
    "start_time": "2024-06-20T11:25:06.060Z"
   },
   {
    "duration": 6,
    "start_time": "2024-06-20T11:25:11.133Z"
   },
   {
    "duration": 10,
    "start_time": "2024-06-20T11:25:52.728Z"
   },
   {
    "duration": 4,
    "start_time": "2024-06-20T11:26:01.826Z"
   },
   {
    "duration": 44,
    "start_time": "2024-06-20T11:26:12.889Z"
   },
   {
    "duration": 3,
    "start_time": "2024-06-20T11:26:27.617Z"
   },
   {
    "duration": 30,
    "start_time": "2024-06-20T11:27:16.472Z"
   },
   {
    "duration": 26,
    "start_time": "2024-06-20T11:27:27.821Z"
   },
   {
    "duration": 24,
    "start_time": "2024-06-20T11:27:57.363Z"
   },
   {
    "duration": 9,
    "start_time": "2024-06-20T11:28:24.907Z"
   },
   {
    "duration": 3,
    "start_time": "2024-06-20T11:28:33.939Z"
   },
   {
    "duration": 4,
    "start_time": "2024-06-20T11:28:42.891Z"
   },
   {
    "duration": 1154,
    "start_time": "2024-06-20T11:28:48.557Z"
   },
   {
    "duration": 6,
    "start_time": "2024-06-20T11:28:59.398Z"
   },
   {
    "duration": 6,
    "start_time": "2024-06-20T11:29:06.707Z"
   },
   {
    "duration": 414,
    "start_time": "2024-06-20T11:29:15.294Z"
   },
   {
    "duration": 11,
    "start_time": "2024-06-20T11:29:26.483Z"
   },
   {
    "duration": 27,
    "start_time": "2024-06-20T11:29:34.737Z"
   },
   {
    "duration": 9,
    "start_time": "2024-06-20T11:29:43.311Z"
   },
   {
    "duration": 3,
    "start_time": "2024-06-20T11:29:51.997Z"
   },
   {
    "duration": 3,
    "start_time": "2024-06-20T11:30:01.447Z"
   },
   {
    "duration": 6,
    "start_time": "2024-06-20T11:30:09.781Z"
   },
   {
    "duration": 5,
    "start_time": "2024-06-20T11:30:17.561Z"
   },
   {
    "duration": 4,
    "start_time": "2024-06-20T11:30:25.149Z"
   },
   {
    "duration": 4,
    "start_time": "2024-06-20T11:30:36.610Z"
   },
   {
    "duration": 3,
    "start_time": "2024-06-20T11:30:47.492Z"
   },
   {
    "duration": 249,
    "start_time": "2024-06-20T11:30:56.984Z"
   },
   {
    "duration": 6,
    "start_time": "2024-06-20T11:31:11.403Z"
   },
   {
    "duration": 2,
    "start_time": "2024-06-20T11:31:23.414Z"
   },
   {
    "duration": 79,
    "start_time": "2024-06-20T11:31:32.430Z"
   },
   {
    "duration": 6,
    "start_time": "2024-06-20T11:31:41.552Z"
   },
   {
    "duration": 35,
    "start_time": "2024-06-20T11:31:51.943Z"
   },
   {
    "duration": 34,
    "start_time": "2024-06-20T11:31:59.895Z"
   },
   {
    "duration": 178,
    "start_time": "2024-06-20T11:32:11.413Z"
   },
   {
    "duration": 76,
    "start_time": "2024-06-20T11:32:27.787Z"
   },
   {
    "duration": 7,
    "start_time": "2024-06-20T11:32:37.985Z"
   },
   {
    "duration": 87,
    "start_time": "2024-06-20T11:32:47.643Z"
   },
   {
    "duration": 33,
    "start_time": "2024-06-20T11:32:55.162Z"
   },
   {
    "duration": 9,
    "start_time": "2024-06-20T11:33:03.868Z"
   },
   {
    "duration": 35,
    "start_time": "2024-06-20T11:33:15.572Z"
   },
   {
    "duration": 2,
    "start_time": "2024-06-20T11:33:26.312Z"
   },
   {
    "duration": 4,
    "start_time": "2024-06-20T11:33:31.797Z"
   },
   {
    "duration": 32,
    "start_time": "2024-06-20T11:33:33.508Z"
   },
   {
    "duration": 75,
    "start_time": "2024-06-20T11:33:43.596Z"
   },
   {
    "duration": 4,
    "start_time": "2024-06-20T11:33:49.693Z"
   },
   {
    "duration": 30,
    "start_time": "2024-06-20T11:33:56.579Z"
   },
   {
    "duration": 7,
    "start_time": "2024-06-20T11:34:04.809Z"
   },
   {
    "duration": 2,
    "start_time": "2024-06-20T11:34:12.607Z"
   },
   {
    "duration": 82,
    "start_time": "2024-06-20T11:34:20.418Z"
   },
   {
    "duration": 27,
    "start_time": "2024-06-20T11:34:28.157Z"
   },
   {
    "duration": 3,
    "start_time": "2024-06-20T11:35:02.981Z"
   },
   {
    "duration": 13,
    "start_time": "2024-06-20T11:35:29.828Z"
   },
   {
    "duration": 15,
    "start_time": "2024-06-20T11:35:37.550Z"
   },
   {
    "duration": 5,
    "start_time": "2024-06-20T11:35:45.185Z"
   },
   {
    "duration": 4,
    "start_time": "2024-06-20T11:35:54.627Z"
   },
   {
    "duration": 3,
    "start_time": "2024-06-20T11:36:02.857Z"
   },
   {
    "duration": 22,
    "start_time": "2024-06-20T11:36:14.430Z"
   },
   {
    "duration": 58,
    "start_time": "2024-06-20T11:36:21.535Z"
   },
   {
    "duration": 833,
    "start_time": "2024-06-20T11:36:53.574Z"
   },
   {
    "duration": 1907,
    "start_time": "2024-06-20T11:37:03.597Z"
   },
   {
    "duration": 2,
    "start_time": "2024-06-20T11:37:14.886Z"
   },
   {
    "duration": 4,
    "start_time": "2024-06-20T11:37:27.745Z"
   },
   {
    "duration": 671,
    "start_time": "2024-06-20T11:37:28.377Z"
   },
   {
    "duration": 655,
    "start_time": "2024-06-20T11:37:40.045Z"
   },
   {
    "duration": 4,
    "start_time": "2024-06-20T11:37:46.305Z"
   },
   {
    "duration": 597,
    "start_time": "2024-06-20T11:37:52.567Z"
   },
   {
    "duration": 550,
    "start_time": "2024-06-20T11:38:01.029Z"
   },
   {
    "duration": 3,
    "start_time": "2024-06-20T11:38:10.787Z"
   },
   {
    "duration": 12,
    "start_time": "2024-06-20T11:38:19.164Z"
   },
   {
    "duration": 4,
    "start_time": "2024-06-20T11:38:39.091Z"
   },
   {
    "duration": 3,
    "start_time": "2024-06-20T11:38:46.612Z"
   },
   {
    "duration": 6,
    "start_time": "2024-06-20T11:38:53.106Z"
   },
   {
    "duration": 4,
    "start_time": "2024-06-20T11:38:59.168Z"
   },
   {
    "duration": 4,
    "start_time": "2024-06-20T11:39:06.279Z"
   },
   {
    "duration": 4,
    "start_time": "2024-06-20T11:39:13.808Z"
   },
   {
    "duration": 2,
    "start_time": "2024-06-20T11:39:19.869Z"
   },
   {
    "duration": 3,
    "start_time": "2024-06-20T11:39:28.270Z"
   },
   {
    "duration": 4,
    "start_time": "2024-06-20T11:39:35.694Z"
   },
   {
    "duration": 4,
    "start_time": "2024-06-20T11:39:49.106Z"
   },
   {
    "duration": 4,
    "start_time": "2024-06-20T11:39:58.746Z"
   },
   {
    "duration": 4,
    "start_time": "2024-06-20T11:40:08.639Z"
   },
   {
    "duration": 2,
    "start_time": "2024-06-20T11:40:35.761Z"
   },
   {
    "duration": 12,
    "start_time": "2024-06-20T11:40:42.691Z"
   },
   {
    "duration": 2930,
    "start_time": "2024-06-20T11:40:50.228Z"
   },
   {
    "duration": 18,
    "start_time": "2024-06-20T11:41:02.050Z"
   },
   {
    "duration": 21,
    "start_time": "2024-06-20T11:41:19.334Z"
   },
   {
    "duration": 3,
    "start_time": "2024-06-20T11:41:36.263Z"
   },
   {
    "duration": 15,
    "start_time": "2024-06-20T11:41:43.388Z"
   },
   {
    "duration": 3,
    "start_time": "2024-06-20T11:41:48.517Z"
   },
   {
    "duration": 2,
    "start_time": "2024-06-20T11:46:20.802Z"
   },
   {
    "duration": 25,
    "start_time": "2024-06-20T11:46:20.805Z"
   },
   {
    "duration": 13,
    "start_time": "2024-06-20T11:46:20.832Z"
   },
   {
    "duration": 2574,
    "start_time": "2024-06-20T11:46:38.846Z"
   },
   {
    "duration": 2536,
    "start_time": "2024-06-20T11:46:41.422Z"
   },
   {
    "duration": 2533,
    "start_time": "2024-06-20T11:46:43.960Z"
   },
   {
    "duration": 1439,
    "start_time": "2024-06-20T11:46:46.496Z"
   },
   {
    "duration": 2,
    "start_time": "2024-06-20T11:46:47.937Z"
   },
   {
    "duration": 153,
    "start_time": "2024-06-20T11:46:47.940Z"
   },
   {
    "duration": 13,
    "start_time": "2024-06-20T11:46:48.094Z"
   },
   {
    "duration": 8,
    "start_time": "2024-06-20T11:46:48.109Z"
   },
   {
    "duration": 11,
    "start_time": "2024-06-20T11:46:48.118Z"
   },
   {
    "duration": 7,
    "start_time": "2024-06-20T11:46:48.131Z"
   },
   {
    "duration": 13,
    "start_time": "2024-06-20T11:46:48.139Z"
   },
   {
    "duration": 4,
    "start_time": "2024-06-20T11:46:48.153Z"
   },
   {
    "duration": 54,
    "start_time": "2024-06-20T11:46:48.158Z"
   },
   {
    "duration": 4,
    "start_time": "2024-06-20T11:46:48.213Z"
   },
   {
    "duration": 39,
    "start_time": "2024-06-20T11:46:48.218Z"
   },
   {
    "duration": 33,
    "start_time": "2024-06-20T11:46:48.258Z"
   },
   {
    "duration": 23,
    "start_time": "2024-06-20T11:46:48.292Z"
   },
   {
    "duration": 9,
    "start_time": "2024-06-20T11:46:48.316Z"
   },
   {
    "duration": 7,
    "start_time": "2024-06-20T11:46:48.326Z"
   },
   {
    "duration": 14,
    "start_time": "2024-06-20T11:46:48.334Z"
   },
   {
    "duration": 1176,
    "start_time": "2024-06-20T11:46:48.371Z"
   },
   {
    "duration": 5,
    "start_time": "2024-06-20T11:46:49.549Z"
   },
   {
    "duration": 20,
    "start_time": "2024-06-20T11:46:49.556Z"
   },
   {
    "duration": 353,
    "start_time": "2024-06-20T11:46:49.577Z"
   },
   {
    "duration": 41,
    "start_time": "2024-06-20T11:46:49.931Z"
   },
   {
    "duration": 31,
    "start_time": "2024-06-20T11:46:49.973Z"
   },
   {
    "duration": 13,
    "start_time": "2024-06-20T11:46:50.006Z"
   },
   {
    "duration": 3,
    "start_time": "2024-06-20T11:46:50.075Z"
   },
   {
    "duration": 9,
    "start_time": "2024-06-20T11:46:50.079Z"
   },
   {
    "duration": 18,
    "start_time": "2024-06-20T11:46:50.089Z"
   },
   {
    "duration": 10,
    "start_time": "2024-06-20T11:46:50.108Z"
   },
   {
    "duration": 6,
    "start_time": "2024-06-20T11:46:50.119Z"
   },
   {
    "duration": 15,
    "start_time": "2024-06-20T11:46:50.126Z"
   },
   {
    "duration": 8,
    "start_time": "2024-06-20T11:46:50.145Z"
   },
   {
    "duration": 242,
    "start_time": "2024-06-20T11:46:50.154Z"
   },
   {
    "duration": 7,
    "start_time": "2024-06-20T11:46:50.397Z"
   },
   {
    "duration": 3,
    "start_time": "2024-06-20T11:46:50.405Z"
   },
   {
    "duration": 91,
    "start_time": "2024-06-20T11:46:50.410Z"
   },
   {
    "duration": 5,
    "start_time": "2024-06-20T11:46:50.502Z"
   },
   {
    "duration": 37,
    "start_time": "2024-06-20T11:46:50.508Z"
   },
   {
    "duration": 44,
    "start_time": "2024-06-20T11:46:50.546Z"
   },
   {
    "duration": 83,
    "start_time": "2024-06-20T11:46:50.592Z"
   },
   {
    "duration": 3,
    "start_time": "2024-06-20T11:46:50.677Z"
   },
   {
    "duration": 104,
    "start_time": "2024-06-20T11:46:50.681Z"
   },
   {
    "duration": 32,
    "start_time": "2024-06-20T11:46:50.786Z"
   },
   {
    "duration": 12,
    "start_time": "2024-06-20T11:46:50.819Z"
   },
   {
    "duration": 35,
    "start_time": "2024-06-20T11:46:50.832Z"
   },
   {
    "duration": 4,
    "start_time": "2024-06-20T11:46:50.868Z"
   },
   {
    "duration": 34,
    "start_time": "2024-06-20T11:46:50.874Z"
   },
   {
    "duration": 81,
    "start_time": "2024-06-20T11:46:50.909Z"
   },
   {
    "duration": 4,
    "start_time": "2024-06-20T11:46:50.992Z"
   },
   {
    "duration": 49,
    "start_time": "2024-06-20T11:46:50.997Z"
   },
   {
    "duration": 7,
    "start_time": "2024-06-20T11:46:51.048Z"
   },
   {
    "duration": 3,
    "start_time": "2024-06-20T11:46:51.056Z"
   },
   {
    "duration": 85,
    "start_time": "2024-06-20T11:46:51.071Z"
   },
   {
    "duration": 37,
    "start_time": "2024-06-20T11:46:51.158Z"
   },
   {
    "duration": 5,
    "start_time": "2024-06-20T11:46:51.196Z"
   },
   {
    "duration": 18,
    "start_time": "2024-06-20T11:46:51.203Z"
   },
   {
    "duration": 15,
    "start_time": "2024-06-20T11:46:51.222Z"
   },
   {
    "duration": 16,
    "start_time": "2024-06-20T11:46:51.238Z"
   },
   {
    "duration": 24,
    "start_time": "2024-06-20T11:46:51.255Z"
   },
   {
    "duration": 32,
    "start_time": "2024-06-20T11:46:51.280Z"
   },
   {
    "duration": 23,
    "start_time": "2024-06-20T11:46:51.314Z"
   },
   {
    "duration": 59,
    "start_time": "2024-06-20T11:46:51.339Z"
   },
   {
    "duration": 773,
    "start_time": "2024-06-20T11:46:51.399Z"
   },
   {
    "duration": 1825,
    "start_time": "2024-06-20T11:46:52.173Z"
   },
   {
    "duration": 3,
    "start_time": "2024-06-20T11:46:53.999Z"
   },
   {
    "duration": 15,
    "start_time": "2024-06-20T11:46:54.003Z"
   },
   {
    "duration": 722,
    "start_time": "2024-06-20T11:46:54.019Z"
   },
   {
    "duration": 659,
    "start_time": "2024-06-20T11:46:54.742Z"
   },
   {
    "duration": 3,
    "start_time": "2024-06-20T11:46:55.402Z"
   },
   {
    "duration": 578,
    "start_time": "2024-06-20T11:46:55.406Z"
   },
   {
    "duration": 568,
    "start_time": "2024-06-20T11:46:55.986Z"
   },
   {
    "duration": 3,
    "start_time": "2024-06-20T11:46:56.555Z"
   },
   {
    "duration": 18,
    "start_time": "2024-06-20T11:46:56.559Z"
   },
   {
    "duration": 9,
    "start_time": "2024-06-20T11:46:56.578Z"
   },
   {
    "duration": 21,
    "start_time": "2024-06-20T11:46:56.588Z"
   },
   {
    "duration": 20,
    "start_time": "2024-06-20T11:46:56.610Z"
   },
   {
    "duration": 17,
    "start_time": "2024-06-20T11:46:56.631Z"
   },
   {
    "duration": 42,
    "start_time": "2024-06-20T11:46:56.649Z"
   },
   {
    "duration": 7,
    "start_time": "2024-06-20T11:46:56.692Z"
   },
   {
    "duration": 13,
    "start_time": "2024-06-20T11:46:56.704Z"
   },
   {
    "duration": 5,
    "start_time": "2024-06-20T11:46:56.718Z"
   },
   {
    "duration": 10,
    "start_time": "2024-06-20T11:46:56.724Z"
   },
   {
    "duration": 4,
    "start_time": "2024-06-20T11:46:56.735Z"
   },
   {
    "duration": 6,
    "start_time": "2024-06-20T11:46:56.740Z"
   },
   {
    "duration": 15,
    "start_time": "2024-06-20T11:46:56.747Z"
   },
   {
    "duration": 6,
    "start_time": "2024-06-20T11:46:56.763Z"
   },
   {
    "duration": 14,
    "start_time": "2024-06-20T11:46:56.770Z"
   },
   {
    "duration": 2948,
    "start_time": "2024-06-20T11:46:56.785Z"
   },
   {
    "duration": 17,
    "start_time": "2024-06-20T11:46:59.735Z"
   },
   {
    "duration": 31,
    "start_time": "2024-06-20T11:46:59.754Z"
   },
   {
    "duration": 2,
    "start_time": "2024-06-20T11:46:59.786Z"
   },
   {
    "duration": 24,
    "start_time": "2024-06-20T11:46:59.790Z"
   },
   {
    "duration": 3,
    "start_time": "2024-06-20T11:46:59.815Z"
   },
   {
    "duration": 131135,
    "start_time": "2024-06-20T11:46:59.819Z"
   },
   {
    "duration": 3,
    "start_time": "2024-06-20T11:49:10.955Z"
   },
   {
    "duration": 542,
    "start_time": "2024-06-20T11:49:10.959Z"
   },
   {
    "duration": 13,
    "start_time": "2024-06-20T11:49:11.502Z"
   },
   {
    "duration": 2,
    "start_time": "2024-06-20T11:49:11.516Z"
   },
   {
    "duration": 12,
    "start_time": "2024-06-20T11:49:11.520Z"
   },
   {
    "duration": 43,
    "start_time": "2024-06-20T11:49:11.533Z"
   },
   {
    "duration": 3,
    "start_time": "2024-06-20T11:49:11.577Z"
   },
   {
    "duration": 18,
    "start_time": "2024-06-20T11:49:11.581Z"
   },
   {
    "duration": 124,
    "start_time": "2024-06-20T11:49:11.601Z"
   },
   {
    "duration": 101,
    "start_time": "2024-06-20T11:49:11.727Z"
   },
   {
    "duration": 4,
    "start_time": "2024-06-20T11:49:11.829Z"
   },
   {
    "duration": 164,
    "start_time": "2024-06-20T11:49:11.835Z"
   },
   {
    "duration": 95,
    "start_time": "2024-06-20T11:49:12.001Z"
   },
   {
    "duration": 4,
    "start_time": "2024-06-20T11:49:12.097Z"
   },
   {
    "duration": 6,
    "start_time": "2024-06-20T11:49:12.103Z"
   },
   {
    "duration": 6,
    "start_time": "2024-06-20T11:49:12.110Z"
   },
   {
    "duration": 15,
    "start_time": "2024-06-20T11:49:12.118Z"
   },
   {
    "duration": 3,
    "start_time": "2024-06-20T11:49:12.134Z"
   },
   {
    "duration": 7,
    "start_time": "2024-06-20T11:49:12.138Z"
   },
   {
    "duration": 176,
    "start_time": "2024-06-20T11:49:12.146Z"
   },
   {
    "duration": 20,
    "start_time": "2024-06-20T11:49:12.323Z"
   },
   {
    "duration": 5,
    "start_time": "2024-06-20T11:49:12.344Z"
   },
   {
    "duration": 22,
    "start_time": "2024-06-20T11:49:12.351Z"
   },
   {
    "duration": 7,
    "start_time": "2024-06-20T11:49:12.374Z"
   },
   {
    "duration": 4,
    "start_time": "2024-06-20T11:49:12.382Z"
   },
   {
    "duration": 7,
    "start_time": "2024-06-20T11:49:12.387Z"
   },
   {
    "duration": 90,
    "start_time": "2024-06-20T11:49:12.395Z"
   },
   {
    "duration": 3,
    "start_time": "2024-06-20T12:21:51.014Z"
   },
   {
    "duration": 3,
    "start_time": "2024-06-20T12:22:19.946Z"
   },
   {
    "duration": 9,
    "start_time": "2024-06-20T12:22:23.551Z"
   },
   {
    "duration": 4,
    "start_time": "2024-06-20T12:22:58.560Z"
   },
   {
    "duration": 8,
    "start_time": "2024-06-20T12:22:58.844Z"
   },
   {
    "duration": 40,
    "start_time": "2024-06-20T12:23:11.758Z"
   },
   {
    "duration": 2,
    "start_time": "2024-06-20T12:26:28.565Z"
   },
   {
    "duration": 29,
    "start_time": "2024-06-20T12:26:31.079Z"
   },
   {
    "duration": 3,
    "start_time": "2024-06-20T12:26:49.622Z"
   },
   {
    "duration": 28,
    "start_time": "2024-06-20T12:26:49.883Z"
   },
   {
    "duration": 3,
    "start_time": "2024-06-20T12:26:55.679Z"
   },
   {
    "duration": 27,
    "start_time": "2024-06-20T12:26:55.985Z"
   },
   {
    "duration": 2637,
    "start_time": "2024-06-20T12:27:33.154Z"
   },
   {
    "duration": 2588,
    "start_time": "2024-06-20T12:27:35.793Z"
   },
   {
    "duration": 2474,
    "start_time": "2024-06-20T12:27:38.383Z"
   },
   {
    "duration": 1503,
    "start_time": "2024-06-20T12:27:40.860Z"
   },
   {
    "duration": 3,
    "start_time": "2024-06-20T12:27:42.364Z"
   },
   {
    "duration": 270,
    "start_time": "2024-06-20T12:27:42.368Z"
   },
   {
    "duration": 16,
    "start_time": "2024-06-20T12:27:42.640Z"
   },
   {
    "duration": 53,
    "start_time": "2024-06-20T12:27:42.658Z"
   },
   {
    "duration": 122,
    "start_time": "2024-06-20T12:27:42.712Z"
   },
   {
    "duration": 8,
    "start_time": "2024-06-20T12:27:42.837Z"
   },
   {
    "duration": 3,
    "start_time": "2024-06-20T12:27:42.846Z"
   },
   {
    "duration": 10,
    "start_time": "2024-06-20T12:27:42.851Z"
   },
   {
    "duration": 4,
    "start_time": "2024-06-20T12:27:42.862Z"
   },
   {
    "duration": 46,
    "start_time": "2024-06-20T12:27:42.867Z"
   },
   {
    "duration": 3,
    "start_time": "2024-06-20T12:27:42.914Z"
   },
   {
    "duration": 7,
    "start_time": "2024-06-20T12:27:42.918Z"
   },
   {
    "duration": 30,
    "start_time": "2024-06-20T12:27:42.926Z"
   },
   {
    "duration": 22,
    "start_time": "2024-06-20T12:27:42.971Z"
   },
   {
    "duration": 23,
    "start_time": "2024-06-20T12:27:42.995Z"
   },
   {
    "duration": 9,
    "start_time": "2024-06-20T12:27:43.019Z"
   },
   {
    "duration": 5,
    "start_time": "2024-06-20T12:27:43.029Z"
   },
   {
    "duration": 36,
    "start_time": "2024-06-20T12:27:43.035Z"
   },
   {
    "duration": 714,
    "start_time": "2024-06-20T12:27:43.073Z"
   },
   {
    "duration": 0,
    "start_time": "2024-06-20T12:27:43.791Z"
   },
   {
    "duration": 0,
    "start_time": "2024-06-20T12:27:43.792Z"
   },
   {
    "duration": 0,
    "start_time": "2024-06-20T12:27:43.793Z"
   },
   {
    "duration": 0,
    "start_time": "2024-06-20T12:27:43.794Z"
   },
   {
    "duration": 0,
    "start_time": "2024-06-20T12:27:43.794Z"
   },
   {
    "duration": 0,
    "start_time": "2024-06-20T12:27:43.795Z"
   },
   {
    "duration": 0,
    "start_time": "2024-06-20T12:27:43.796Z"
   },
   {
    "duration": 0,
    "start_time": "2024-06-20T12:27:43.797Z"
   },
   {
    "duration": 0,
    "start_time": "2024-06-20T12:27:43.798Z"
   },
   {
    "duration": 0,
    "start_time": "2024-06-20T12:27:43.798Z"
   },
   {
    "duration": 0,
    "start_time": "2024-06-20T12:27:43.799Z"
   },
   {
    "duration": 0,
    "start_time": "2024-06-20T12:27:43.800Z"
   },
   {
    "duration": 0,
    "start_time": "2024-06-20T12:27:43.801Z"
   },
   {
    "duration": 0,
    "start_time": "2024-06-20T12:27:43.802Z"
   },
   {
    "duration": 0,
    "start_time": "2024-06-20T12:27:43.803Z"
   },
   {
    "duration": 0,
    "start_time": "2024-06-20T12:27:43.803Z"
   },
   {
    "duration": 0,
    "start_time": "2024-06-20T12:27:43.804Z"
   },
   {
    "duration": 0,
    "start_time": "2024-06-20T12:27:43.805Z"
   },
   {
    "duration": 0,
    "start_time": "2024-06-20T12:27:43.806Z"
   },
   {
    "duration": 0,
    "start_time": "2024-06-20T12:27:43.807Z"
   },
   {
    "duration": 0,
    "start_time": "2024-06-20T12:27:43.807Z"
   },
   {
    "duration": 0,
    "start_time": "2024-06-20T12:27:43.808Z"
   },
   {
    "duration": 0,
    "start_time": "2024-06-20T12:27:43.809Z"
   },
   {
    "duration": 0,
    "start_time": "2024-06-20T12:27:43.810Z"
   },
   {
    "duration": 0,
    "start_time": "2024-06-20T12:27:43.810Z"
   },
   {
    "duration": 0,
    "start_time": "2024-06-20T12:27:43.811Z"
   },
   {
    "duration": 0,
    "start_time": "2024-06-20T12:27:43.812Z"
   },
   {
    "duration": 0,
    "start_time": "2024-06-20T12:27:43.813Z"
   },
   {
    "duration": 0,
    "start_time": "2024-06-20T12:27:43.814Z"
   },
   {
    "duration": 0,
    "start_time": "2024-06-20T12:27:43.814Z"
   },
   {
    "duration": 0,
    "start_time": "2024-06-20T12:27:43.815Z"
   },
   {
    "duration": 0,
    "start_time": "2024-06-20T12:27:43.816Z"
   },
   {
    "duration": 0,
    "start_time": "2024-06-20T12:27:43.816Z"
   },
   {
    "duration": 0,
    "start_time": "2024-06-20T12:27:43.817Z"
   },
   {
    "duration": 0,
    "start_time": "2024-06-20T12:27:43.818Z"
   },
   {
    "duration": 0,
    "start_time": "2024-06-20T12:27:43.819Z"
   },
   {
    "duration": 0,
    "start_time": "2024-06-20T12:27:43.870Z"
   },
   {
    "duration": 0,
    "start_time": "2024-06-20T12:27:43.872Z"
   },
   {
    "duration": 0,
    "start_time": "2024-06-20T12:27:43.872Z"
   },
   {
    "duration": 0,
    "start_time": "2024-06-20T12:27:43.873Z"
   },
   {
    "duration": 0,
    "start_time": "2024-06-20T12:27:43.874Z"
   },
   {
    "duration": 0,
    "start_time": "2024-06-20T12:27:43.875Z"
   },
   {
    "duration": 0,
    "start_time": "2024-06-20T12:27:43.876Z"
   },
   {
    "duration": 0,
    "start_time": "2024-06-20T12:27:43.877Z"
   },
   {
    "duration": 0,
    "start_time": "2024-06-20T12:27:43.877Z"
   },
   {
    "duration": 0,
    "start_time": "2024-06-20T12:27:43.878Z"
   },
   {
    "duration": 0,
    "start_time": "2024-06-20T12:27:43.879Z"
   },
   {
    "duration": 0,
    "start_time": "2024-06-20T12:27:43.880Z"
   },
   {
    "duration": 0,
    "start_time": "2024-06-20T12:27:43.880Z"
   },
   {
    "duration": 0,
    "start_time": "2024-06-20T12:27:43.881Z"
   },
   {
    "duration": 0,
    "start_time": "2024-06-20T12:27:43.882Z"
   },
   {
    "duration": 0,
    "start_time": "2024-06-20T12:27:43.882Z"
   },
   {
    "duration": 0,
    "start_time": "2024-06-20T12:27:43.883Z"
   },
   {
    "duration": 0,
    "start_time": "2024-06-20T12:27:43.884Z"
   },
   {
    "duration": 0,
    "start_time": "2024-06-20T12:27:43.884Z"
   },
   {
    "duration": 0,
    "start_time": "2024-06-20T12:27:43.886Z"
   },
   {
    "duration": 0,
    "start_time": "2024-06-20T12:27:43.886Z"
   },
   {
    "duration": 0,
    "start_time": "2024-06-20T12:27:43.887Z"
   },
   {
    "duration": 0,
    "start_time": "2024-06-20T12:27:43.888Z"
   },
   {
    "duration": 0,
    "start_time": "2024-06-20T12:27:43.889Z"
   },
   {
    "duration": 0,
    "start_time": "2024-06-20T12:27:43.890Z"
   },
   {
    "duration": 0,
    "start_time": "2024-06-20T12:27:43.891Z"
   },
   {
    "duration": 0,
    "start_time": "2024-06-20T12:27:43.891Z"
   },
   {
    "duration": 0,
    "start_time": "2024-06-20T12:27:43.892Z"
   },
   {
    "duration": 0,
    "start_time": "2024-06-20T12:27:43.893Z"
   },
   {
    "duration": 0,
    "start_time": "2024-06-20T12:27:43.894Z"
   },
   {
    "duration": 0,
    "start_time": "2024-06-20T12:27:43.894Z"
   },
   {
    "duration": 0,
    "start_time": "2024-06-20T12:27:43.895Z"
   },
   {
    "duration": 0,
    "start_time": "2024-06-20T12:27:43.896Z"
   },
   {
    "duration": 0,
    "start_time": "2024-06-20T12:27:43.897Z"
   },
   {
    "duration": 0,
    "start_time": "2024-06-20T12:27:43.897Z"
   },
   {
    "duration": 0,
    "start_time": "2024-06-20T12:27:43.898Z"
   },
   {
    "duration": 0,
    "start_time": "2024-06-20T12:27:43.899Z"
   },
   {
    "duration": 0,
    "start_time": "2024-06-20T12:27:43.900Z"
   },
   {
    "duration": 0,
    "start_time": "2024-06-20T12:27:43.901Z"
   },
   {
    "duration": 0,
    "start_time": "2024-06-20T12:27:43.901Z"
   },
   {
    "duration": 0,
    "start_time": "2024-06-20T12:27:43.902Z"
   },
   {
    "duration": 0,
    "start_time": "2024-06-20T12:27:43.903Z"
   },
   {
    "duration": 0,
    "start_time": "2024-06-20T12:27:43.904Z"
   },
   {
    "duration": 0,
    "start_time": "2024-06-20T12:27:43.905Z"
   },
   {
    "duration": 0,
    "start_time": "2024-06-20T12:27:43.905Z"
   },
   {
    "duration": 0,
    "start_time": "2024-06-20T12:27:43.906Z"
   },
   {
    "duration": 0,
    "start_time": "2024-06-20T12:27:43.907Z"
   },
   {
    "duration": 0,
    "start_time": "2024-06-20T12:27:43.908Z"
   },
   {
    "duration": 0,
    "start_time": "2024-06-20T12:27:43.909Z"
   },
   {
    "duration": 0,
    "start_time": "2024-06-20T12:27:43.971Z"
   },
   {
    "duration": 0,
    "start_time": "2024-06-20T12:27:43.972Z"
   },
   {
    "duration": 0,
    "start_time": "2024-06-20T12:27:43.973Z"
   },
   {
    "duration": 0,
    "start_time": "2024-06-20T12:27:43.974Z"
   },
   {
    "duration": 0,
    "start_time": "2024-06-20T12:27:43.976Z"
   },
   {
    "duration": 0,
    "start_time": "2024-06-20T12:27:43.976Z"
   },
   {
    "duration": 0,
    "start_time": "2024-06-20T12:27:43.978Z"
   },
   {
    "duration": 0,
    "start_time": "2024-06-20T12:27:43.979Z"
   },
   {
    "duration": 0,
    "start_time": "2024-06-20T12:27:43.980Z"
   },
   {
    "duration": 0,
    "start_time": "2024-06-20T12:27:43.981Z"
   },
   {
    "duration": 0,
    "start_time": "2024-06-20T12:27:43.982Z"
   },
   {
    "duration": 0,
    "start_time": "2024-06-20T12:27:43.983Z"
   },
   {
    "duration": 0,
    "start_time": "2024-06-20T12:27:43.984Z"
   },
   {
    "duration": 0,
    "start_time": "2024-06-20T12:27:43.985Z"
   },
   {
    "duration": 0,
    "start_time": "2024-06-20T12:27:43.986Z"
   },
   {
    "duration": 0,
    "start_time": "2024-06-20T12:27:43.987Z"
   },
   {
    "duration": 0,
    "start_time": "2024-06-20T12:27:43.988Z"
   },
   {
    "duration": 3,
    "start_time": "2024-06-20T12:28:18.195Z"
   },
   {
    "duration": 37,
    "start_time": "2024-06-20T12:28:18.200Z"
   },
   {
    "duration": 9,
    "start_time": "2024-06-20T12:28:28.319Z"
   },
   {
    "duration": 26,
    "start_time": "2024-06-20T12:28:29.160Z"
   },
   {
    "duration": 3,
    "start_time": "2024-06-20T12:28:38.229Z"
   },
   {
    "duration": 26,
    "start_time": "2024-06-20T12:28:40.076Z"
   },
   {
    "duration": 8,
    "start_time": "2024-06-20T12:29:00.453Z"
   },
   {
    "duration": 3,
    "start_time": "2024-06-20T12:29:04.164Z"
   },
   {
    "duration": 9,
    "start_time": "2024-06-20T12:29:04.488Z"
   },
   {
    "duration": 4,
    "start_time": "2024-06-20T12:29:49.789Z"
   },
   {
    "duration": 9,
    "start_time": "2024-06-20T12:29:50.038Z"
   },
   {
    "duration": 9,
    "start_time": "2024-06-20T12:30:00.901Z"
   },
   {
    "duration": 29,
    "start_time": "2024-06-20T12:30:01.239Z"
   },
   {
    "duration": 3,
    "start_time": "2024-06-20T12:30:38.417Z"
   },
   {
    "duration": 26,
    "start_time": "2024-06-20T12:30:40.223Z"
   },
   {
    "duration": 3,
    "start_time": "2024-06-20T12:31:44.626Z"
   },
   {
    "duration": 25,
    "start_time": "2024-06-20T12:31:44.905Z"
   },
   {
    "duration": 9,
    "start_time": "2024-06-20T12:33:06.003Z"
   },
   {
    "duration": 3,
    "start_time": "2024-06-20T12:33:06.282Z"
   },
   {
    "duration": 4,
    "start_time": "2024-06-20T12:33:06.565Z"
   },
   {
    "duration": 1224,
    "start_time": "2024-06-20T12:33:06.868Z"
   },
   {
    "duration": 6,
    "start_time": "2024-06-20T12:33:44.256Z"
   },
   {
    "duration": 280,
    "start_time": "2024-06-20T12:33:46.549Z"
   },
   {
    "duration": 5,
    "start_time": "2024-06-20T12:33:50.163Z"
   },
   {
    "duration": 6,
    "start_time": "2024-06-20T12:33:50.900Z"
   },
   {
    "duration": 5,
    "start_time": "2024-06-20T12:33:56.058Z"
   },
   {
    "duration": 5,
    "start_time": "2024-06-20T12:33:56.761Z"
   },
   {
    "duration": 11,
    "start_time": "2024-06-20T12:34:03.745Z"
   },
   {
    "duration": 25,
    "start_time": "2024-06-20T12:34:04.048Z"
   },
   {
    "duration": 10,
    "start_time": "2024-06-20T12:34:04.480Z"
   },
   {
    "duration": 3,
    "start_time": "2024-06-20T12:34:04.887Z"
   },
   {
    "duration": 2,
    "start_time": "2024-06-20T12:41:34.648Z"
   },
   {
    "duration": 3,
    "start_time": "2024-06-20T12:41:37.076Z"
   },
   {
    "duration": 7,
    "start_time": "2024-06-20T12:41:47.943Z"
   },
   {
    "duration": 3,
    "start_time": "2024-06-20T12:42:20.886Z"
   },
   {
    "duration": 5,
    "start_time": "2024-06-20T12:42:26.166Z"
   },
   {
    "duration": 806,
    "start_time": "2024-06-20T12:43:35.710Z"
   },
   {
    "duration": 2,
    "start_time": "2024-06-20T12:43:43.769Z"
   },
   {
    "duration": 734,
    "start_time": "2024-06-20T12:43:44.093Z"
   },
   {
    "duration": 0,
    "start_time": "2024-06-20T12:43:44.828Z"
   },
   {
    "duration": 0,
    "start_time": "2024-06-20T12:43:44.829Z"
   },
   {
    "duration": 172,
    "start_time": "2024-06-20T12:44:02.950Z"
   },
   {
    "duration": 2,
    "start_time": "2024-06-20T12:49:15.060Z"
   },
   {
    "duration": 823,
    "start_time": "2024-06-20T12:49:15.407Z"
   },
   {
    "duration": 9,
    "start_time": "2024-06-20T12:50:42.371Z"
   },
   {
    "duration": 9,
    "start_time": "2024-06-20T12:51:33.531Z"
   },
   {
    "duration": 9,
    "start_time": "2024-06-20T12:51:40.151Z"
   },
   {
    "duration": 9,
    "start_time": "2024-06-20T12:51:40.493Z"
   },
   {
    "duration": 9,
    "start_time": "2024-06-20T12:51:41.237Z"
   },
   {
    "duration": 9,
    "start_time": "2024-06-20T12:51:41.614Z"
   },
   {
    "duration": 9,
    "start_time": "2024-06-20T12:51:41.922Z"
   },
   {
    "duration": 9,
    "start_time": "2024-06-20T12:51:47.744Z"
   },
   {
    "duration": 9,
    "start_time": "2024-06-20T12:51:48.128Z"
   },
   {
    "duration": 2577,
    "start_time": "2024-06-20T12:51:55.856Z"
   },
   {
    "duration": 2528,
    "start_time": "2024-06-20T12:51:58.435Z"
   },
   {
    "duration": 2568,
    "start_time": "2024-06-20T12:52:00.965Z"
   },
   {
    "duration": 1483,
    "start_time": "2024-06-20T12:52:03.536Z"
   },
   {
    "duration": 2,
    "start_time": "2024-06-20T12:52:05.021Z"
   },
   {
    "duration": 176,
    "start_time": "2024-06-20T12:52:05.024Z"
   },
   {
    "duration": 13,
    "start_time": "2024-06-20T12:52:05.201Z"
   },
   {
    "duration": 19,
    "start_time": "2024-06-20T12:52:05.215Z"
   },
   {
    "duration": 6,
    "start_time": "2024-06-20T12:52:05.235Z"
   },
   {
    "duration": 6,
    "start_time": "2024-06-20T12:52:05.243Z"
   },
   {
    "duration": 6,
    "start_time": "2024-06-20T12:52:05.250Z"
   },
   {
    "duration": 21,
    "start_time": "2024-06-20T12:52:05.257Z"
   },
   {
    "duration": 5,
    "start_time": "2024-06-20T12:52:05.279Z"
   },
   {
    "duration": 50,
    "start_time": "2024-06-20T12:52:05.285Z"
   },
   {
    "duration": 3,
    "start_time": "2024-06-20T12:52:05.336Z"
   },
   {
    "duration": 45,
    "start_time": "2024-06-20T12:52:05.340Z"
   },
   {
    "duration": 29,
    "start_time": "2024-06-20T12:52:05.387Z"
   },
   {
    "duration": 3,
    "start_time": "2024-06-20T12:52:05.417Z"
   },
   {
    "duration": 27,
    "start_time": "2024-06-20T12:52:05.421Z"
   },
   {
    "duration": 3,
    "start_time": "2024-06-20T12:52:05.449Z"
   },
   {
    "duration": 72,
    "start_time": "2024-06-20T12:52:05.453Z"
   },
   {
    "duration": 8,
    "start_time": "2024-06-20T12:52:05.526Z"
   },
   {
    "duration": 47,
    "start_time": "2024-06-20T12:52:05.536Z"
   },
   {
    "duration": 7,
    "start_time": "2024-06-20T12:52:05.584Z"
   },
   {
    "duration": 1158,
    "start_time": "2024-06-20T12:52:05.593Z"
   },
   {
    "duration": 5,
    "start_time": "2024-06-20T12:52:06.753Z"
   },
   {
    "duration": 8,
    "start_time": "2024-06-20T12:52:06.759Z"
   },
   {
    "duration": 329,
    "start_time": "2024-06-20T12:52:06.771Z"
   },
   {
    "duration": 10,
    "start_time": "2024-06-20T12:52:07.102Z"
   },
   {
    "duration": 79,
    "start_time": "2024-06-20T12:52:07.113Z"
   },
   {
    "duration": 11,
    "start_time": "2024-06-20T12:52:07.194Z"
   },
   {
    "duration": 5,
    "start_time": "2024-06-20T12:52:07.207Z"
   },
   {
    "duration": 5,
    "start_time": "2024-06-20T12:52:07.213Z"
   },
   {
    "duration": 5,
    "start_time": "2024-06-20T12:52:07.272Z"
   },
   {
    "duration": 7,
    "start_time": "2024-06-20T12:52:07.279Z"
   },
   {
    "duration": 8,
    "start_time": "2024-06-20T12:52:07.287Z"
   },
   {
    "duration": 13,
    "start_time": "2024-06-20T12:52:07.297Z"
   },
   {
    "duration": 8,
    "start_time": "2024-06-20T12:52:07.312Z"
   },
   {
    "duration": 213,
    "start_time": "2024-06-20T12:52:07.321Z"
   },
   {
    "duration": 6,
    "start_time": "2024-06-20T12:52:07.535Z"
   },
   {
    "duration": 22,
    "start_time": "2024-06-20T12:52:07.543Z"
   },
   {
    "duration": 978,
    "start_time": "2024-06-20T12:52:07.566Z"
   },
   {
    "duration": 0,
    "start_time": "2024-06-20T12:52:08.548Z"
   },
   {
    "duration": 0,
    "start_time": "2024-06-20T12:52:08.549Z"
   },
   {
    "duration": 0,
    "start_time": "2024-06-20T12:52:08.551Z"
   },
   {
    "duration": 0,
    "start_time": "2024-06-20T12:52:08.552Z"
   },
   {
    "duration": 0,
    "start_time": "2024-06-20T12:52:08.553Z"
   },
   {
    "duration": 0,
    "start_time": "2024-06-20T12:52:08.555Z"
   },
   {
    "duration": 0,
    "start_time": "2024-06-20T12:52:08.556Z"
   },
   {
    "duration": 0,
    "start_time": "2024-06-20T12:52:08.557Z"
   },
   {
    "duration": 0,
    "start_time": "2024-06-20T12:52:08.557Z"
   },
   {
    "duration": 0,
    "start_time": "2024-06-20T12:52:08.558Z"
   },
   {
    "duration": 0,
    "start_time": "2024-06-20T12:52:08.559Z"
   },
   {
    "duration": 0,
    "start_time": "2024-06-20T12:52:08.560Z"
   },
   {
    "duration": 0,
    "start_time": "2024-06-20T12:52:08.561Z"
   },
   {
    "duration": 0,
    "start_time": "2024-06-20T12:52:08.562Z"
   },
   {
    "duration": 0,
    "start_time": "2024-06-20T12:52:08.562Z"
   },
   {
    "duration": 0,
    "start_time": "2024-06-20T12:52:08.563Z"
   },
   {
    "duration": 0,
    "start_time": "2024-06-20T12:52:08.564Z"
   },
   {
    "duration": 0,
    "start_time": "2024-06-20T12:52:08.564Z"
   },
   {
    "duration": 0,
    "start_time": "2024-06-20T12:52:08.565Z"
   },
   {
    "duration": 0,
    "start_time": "2024-06-20T12:52:08.567Z"
   },
   {
    "duration": 0,
    "start_time": "2024-06-20T12:52:08.567Z"
   },
   {
    "duration": 0,
    "start_time": "2024-06-20T12:52:08.568Z"
   },
   {
    "duration": 0,
    "start_time": "2024-06-20T12:52:08.569Z"
   },
   {
    "duration": 0,
    "start_time": "2024-06-20T12:52:08.570Z"
   },
   {
    "duration": 0,
    "start_time": "2024-06-20T12:52:08.571Z"
   },
   {
    "duration": 0,
    "start_time": "2024-06-20T12:52:08.574Z"
   },
   {
    "duration": 0,
    "start_time": "2024-06-20T12:52:08.575Z"
   },
   {
    "duration": 0,
    "start_time": "2024-06-20T12:52:08.575Z"
   },
   {
    "duration": 0,
    "start_time": "2024-06-20T12:52:08.576Z"
   },
   {
    "duration": 0,
    "start_time": "2024-06-20T12:52:08.577Z"
   },
   {
    "duration": 0,
    "start_time": "2024-06-20T12:52:08.578Z"
   },
   {
    "duration": 0,
    "start_time": "2024-06-20T12:52:08.580Z"
   },
   {
    "duration": 0,
    "start_time": "2024-06-20T12:52:08.580Z"
   },
   {
    "duration": 0,
    "start_time": "2024-06-20T12:52:08.581Z"
   },
   {
    "duration": 0,
    "start_time": "2024-06-20T12:52:08.582Z"
   },
   {
    "duration": 0,
    "start_time": "2024-06-20T12:52:08.583Z"
   },
   {
    "duration": 0,
    "start_time": "2024-06-20T12:52:08.584Z"
   },
   {
    "duration": 0,
    "start_time": "2024-06-20T12:52:08.585Z"
   },
   {
    "duration": 0,
    "start_time": "2024-06-20T12:52:08.586Z"
   },
   {
    "duration": 0,
    "start_time": "2024-06-20T12:52:08.586Z"
   },
   {
    "duration": 0,
    "start_time": "2024-06-20T12:52:08.587Z"
   },
   {
    "duration": 0,
    "start_time": "2024-06-20T12:52:08.588Z"
   },
   {
    "duration": 0,
    "start_time": "2024-06-20T12:52:08.589Z"
   },
   {
    "duration": 0,
    "start_time": "2024-06-20T12:52:08.590Z"
   },
   {
    "duration": 0,
    "start_time": "2024-06-20T12:52:08.591Z"
   },
   {
    "duration": 0,
    "start_time": "2024-06-20T12:52:08.592Z"
   },
   {
    "duration": 0,
    "start_time": "2024-06-20T12:52:08.592Z"
   },
   {
    "duration": 0,
    "start_time": "2024-06-20T12:52:08.593Z"
   },
   {
    "duration": 0,
    "start_time": "2024-06-20T12:52:08.594Z"
   },
   {
    "duration": 0,
    "start_time": "2024-06-20T12:52:08.595Z"
   },
   {
    "duration": 0,
    "start_time": "2024-06-20T12:52:08.596Z"
   },
   {
    "duration": 0,
    "start_time": "2024-06-20T12:52:08.596Z"
   },
   {
    "duration": 0,
    "start_time": "2024-06-20T12:52:08.597Z"
   },
   {
    "duration": 0,
    "start_time": "2024-06-20T12:52:08.598Z"
   },
   {
    "duration": 0,
    "start_time": "2024-06-20T12:52:08.599Z"
   },
   {
    "duration": 0,
    "start_time": "2024-06-20T12:52:08.600Z"
   },
   {
    "duration": 0,
    "start_time": "2024-06-20T12:52:08.601Z"
   },
   {
    "duration": 0,
    "start_time": "2024-06-20T12:52:08.601Z"
   },
   {
    "duration": 0,
    "start_time": "2024-06-20T12:52:08.602Z"
   },
   {
    "duration": 0,
    "start_time": "2024-06-20T12:52:08.603Z"
   },
   {
    "duration": 0,
    "start_time": "2024-06-20T12:52:08.604Z"
   },
   {
    "duration": 0,
    "start_time": "2024-06-20T12:52:08.605Z"
   },
   {
    "duration": 0,
    "start_time": "2024-06-20T12:52:08.605Z"
   },
   {
    "duration": 0,
    "start_time": "2024-06-20T12:52:08.606Z"
   },
   {
    "duration": 0,
    "start_time": "2024-06-20T12:52:08.607Z"
   },
   {
    "duration": 0,
    "start_time": "2024-06-20T12:52:08.608Z"
   },
   {
    "duration": 0,
    "start_time": "2024-06-20T12:52:08.609Z"
   },
   {
    "duration": 0,
    "start_time": "2024-06-20T12:52:08.609Z"
   },
   {
    "duration": 0,
    "start_time": "2024-06-20T12:52:08.671Z"
   },
   {
    "duration": 0,
    "start_time": "2024-06-20T12:52:08.672Z"
   },
   {
    "duration": 0,
    "start_time": "2024-06-20T12:52:08.673Z"
   },
   {
    "duration": 0,
    "start_time": "2024-06-20T12:52:08.674Z"
   },
   {
    "duration": 0,
    "start_time": "2024-06-20T12:52:08.674Z"
   },
   {
    "duration": 0,
    "start_time": "2024-06-20T12:52:08.675Z"
   },
   {
    "duration": 0,
    "start_time": "2024-06-20T12:52:08.676Z"
   },
   {
    "duration": 0,
    "start_time": "2024-06-20T12:52:08.677Z"
   },
   {
    "duration": 0,
    "start_time": "2024-06-20T12:52:08.678Z"
   },
   {
    "duration": 0,
    "start_time": "2024-06-20T12:52:08.679Z"
   },
   {
    "duration": 0,
    "start_time": "2024-06-20T12:52:08.679Z"
   },
   {
    "duration": 0,
    "start_time": "2024-06-20T12:52:08.680Z"
   },
   {
    "duration": 0,
    "start_time": "2024-06-20T12:52:08.681Z"
   },
   {
    "duration": 0,
    "start_time": "2024-06-20T12:52:08.682Z"
   },
   {
    "duration": 0,
    "start_time": "2024-06-20T12:52:08.683Z"
   },
   {
    "duration": 0,
    "start_time": "2024-06-20T12:52:08.684Z"
   },
   {
    "duration": 0,
    "start_time": "2024-06-20T12:52:08.684Z"
   },
   {
    "duration": 4,
    "start_time": "2024-06-20T12:52:29.543Z"
   },
   {
    "duration": 4,
    "start_time": "2024-06-20T12:52:33.259Z"
   },
   {
    "duration": 869,
    "start_time": "2024-06-20T12:52:34.016Z"
   },
   {
    "duration": 769,
    "start_time": "2024-06-20T12:53:54.254Z"
   },
   {
    "duration": 9,
    "start_time": "2024-06-20T12:54:04.682Z"
   },
   {
    "duration": 3,
    "start_time": "2024-06-20T12:54:18.654Z"
   },
   {
    "duration": 145,
    "start_time": "2024-06-20T12:54:19.034Z"
   },
   {
    "duration": 2604,
    "start_time": "2024-06-20T12:58:49.772Z"
   },
   {
    "duration": 2584,
    "start_time": "2024-06-20T12:58:52.378Z"
   },
   {
    "duration": 2497,
    "start_time": "2024-06-20T12:58:54.964Z"
   },
   {
    "duration": 1540,
    "start_time": "2024-06-20T12:58:57.463Z"
   },
   {
    "duration": 2,
    "start_time": "2024-06-20T12:58:59.004Z"
   },
   {
    "duration": 179,
    "start_time": "2024-06-20T12:58:59.007Z"
   },
   {
    "duration": 13,
    "start_time": "2024-06-20T12:58:59.187Z"
   },
   {
    "duration": 11,
    "start_time": "2024-06-20T12:58:59.201Z"
   },
   {
    "duration": 6,
    "start_time": "2024-06-20T12:58:59.213Z"
   },
   {
    "duration": 5,
    "start_time": "2024-06-20T12:58:59.221Z"
   },
   {
    "duration": 4,
    "start_time": "2024-06-20T12:58:59.227Z"
   },
   {
    "duration": 12,
    "start_time": "2024-06-20T12:58:59.232Z"
   },
   {
    "duration": 4,
    "start_time": "2024-06-20T12:58:59.245Z"
   },
   {
    "duration": 52,
    "start_time": "2024-06-20T12:58:59.250Z"
   },
   {
    "duration": 3,
    "start_time": "2024-06-20T12:58:59.303Z"
   },
   {
    "duration": 20,
    "start_time": "2024-06-20T12:58:59.307Z"
   },
   {
    "duration": 36,
    "start_time": "2024-06-20T12:58:59.329Z"
   },
   {
    "duration": 2,
    "start_time": "2024-06-20T12:58:59.367Z"
   },
   {
    "duration": 35,
    "start_time": "2024-06-20T12:58:59.370Z"
   },
   {
    "duration": 3,
    "start_time": "2024-06-20T12:58:59.406Z"
   },
   {
    "duration": 26,
    "start_time": "2024-06-20T12:58:59.410Z"
   },
   {
    "duration": 8,
    "start_time": "2024-06-20T12:58:59.438Z"
   },
   {
    "duration": 9,
    "start_time": "2024-06-20T12:58:59.447Z"
   },
   {
    "duration": 14,
    "start_time": "2024-06-20T12:58:59.457Z"
   },
   {
    "duration": 884,
    "start_time": "2024-06-20T12:58:59.472Z"
   },
   {
    "duration": 4,
    "start_time": "2024-06-20T12:59:00.358Z"
   },
   {
    "duration": 67,
    "start_time": "2024-06-20T12:59:00.371Z"
   },
   {
    "duration": 436,
    "start_time": "2024-06-20T12:59:00.442Z"
   },
   {
    "duration": 14,
    "start_time": "2024-06-20T12:59:00.880Z"
   },
   {
    "duration": 100,
    "start_time": "2024-06-20T12:59:00.895Z"
   },
   {
    "duration": 11,
    "start_time": "2024-06-20T12:59:00.997Z"
   },
   {
    "duration": 48,
    "start_time": "2024-06-20T12:59:01.009Z"
   },
   {
    "duration": 55,
    "start_time": "2024-06-20T12:59:01.058Z"
   },
   {
    "duration": 33,
    "start_time": "2024-06-20T12:59:01.114Z"
   },
   {
    "duration": 39,
    "start_time": "2024-06-20T12:59:01.148Z"
   },
   {
    "duration": 97,
    "start_time": "2024-06-20T12:59:01.188Z"
   },
   {
    "duration": 63,
    "start_time": "2024-06-20T12:59:01.287Z"
   },
   {
    "duration": 26,
    "start_time": "2024-06-20T12:59:01.352Z"
   },
   {
    "duration": 273,
    "start_time": "2024-06-20T12:59:01.380Z"
   },
   {
    "duration": 17,
    "start_time": "2024-06-20T12:59:01.655Z"
   },
   {
    "duration": 9,
    "start_time": "2024-06-20T12:59:01.674Z"
   },
   {
    "duration": 108,
    "start_time": "2024-06-20T12:59:01.685Z"
   },
   {
    "duration": 5,
    "start_time": "2024-06-20T12:59:01.794Z"
   },
   {
    "duration": 55,
    "start_time": "2024-06-20T12:59:01.800Z"
   },
   {
    "duration": 33,
    "start_time": "2024-06-20T12:59:01.857Z"
   },
   {
    "duration": 81,
    "start_time": "2024-06-20T12:59:01.891Z"
   },
   {
    "duration": 5,
    "start_time": "2024-06-20T12:59:01.973Z"
   },
   {
    "duration": 126,
    "start_time": "2024-06-20T12:59:01.979Z"
   },
   {
    "duration": 32,
    "start_time": "2024-06-20T12:59:02.107Z"
   },
   {
    "duration": 22,
    "start_time": "2024-06-20T12:59:02.140Z"
   },
   {
    "duration": 29,
    "start_time": "2024-06-20T12:59:02.163Z"
   },
   {
    "duration": 5,
    "start_time": "2024-06-20T12:59:02.194Z"
   },
   {
    "duration": 37,
    "start_time": "2024-06-20T12:59:02.200Z"
   },
   {
    "duration": 80,
    "start_time": "2024-06-20T12:59:02.238Z"
   },
   {
    "duration": 3,
    "start_time": "2024-06-20T12:59:02.320Z"
   },
   {
    "duration": 36,
    "start_time": "2024-06-20T12:59:02.324Z"
   },
   {
    "duration": 14,
    "start_time": "2024-06-20T12:59:02.361Z"
   },
   {
    "duration": 13,
    "start_time": "2024-06-20T12:59:02.376Z"
   },
   {
    "duration": 103,
    "start_time": "2024-06-20T12:59:02.390Z"
   },
   {
    "duration": 29,
    "start_time": "2024-06-20T12:59:02.494Z"
   },
   {
    "duration": 4,
    "start_time": "2024-06-20T12:59:02.524Z"
   },
   {
    "duration": 30,
    "start_time": "2024-06-20T12:59:02.529Z"
   },
   {
    "duration": 34,
    "start_time": "2024-06-20T12:59:02.560Z"
   },
   {
    "duration": 16,
    "start_time": "2024-06-20T12:59:02.595Z"
   },
   {
    "duration": 16,
    "start_time": "2024-06-20T12:59:02.612Z"
   },
   {
    "duration": 10,
    "start_time": "2024-06-20T12:59:02.629Z"
   },
   {
    "duration": 26,
    "start_time": "2024-06-20T12:59:02.640Z"
   },
   {
    "duration": 90,
    "start_time": "2024-06-20T12:59:02.667Z"
   },
   {
    "duration": 774,
    "start_time": "2024-06-20T12:59:02.759Z"
   },
   {
    "duration": 1821,
    "start_time": "2024-06-20T12:59:03.535Z"
   },
   {
    "duration": 3,
    "start_time": "2024-06-20T12:59:05.357Z"
   },
   {
    "duration": 15,
    "start_time": "2024-06-20T12:59:05.361Z"
   },
   {
    "duration": 721,
    "start_time": "2024-06-20T12:59:05.377Z"
   },
   {
    "duration": 663,
    "start_time": "2024-06-20T12:59:06.099Z"
   },
   {
    "duration": 8,
    "start_time": "2024-06-20T12:59:06.763Z"
   },
   {
    "duration": 621,
    "start_time": "2024-06-20T12:59:06.772Z"
   },
   {
    "duration": 617,
    "start_time": "2024-06-20T12:59:07.394Z"
   },
   {
    "duration": 3,
    "start_time": "2024-06-20T12:59:08.012Z"
   },
   {
    "duration": 15,
    "start_time": "2024-06-20T12:59:08.016Z"
   },
   {
    "duration": 8,
    "start_time": "2024-06-20T12:59:08.032Z"
   },
   {
    "duration": 379,
    "start_time": "2024-06-20T12:59:08.041Z"
   },
   {
    "duration": 0,
    "start_time": "2024-06-20T12:59:08.423Z"
   },
   {
    "duration": 0,
    "start_time": "2024-06-20T12:59:08.424Z"
   },
   {
    "duration": 0,
    "start_time": "2024-06-20T12:59:08.425Z"
   },
   {
    "duration": 0,
    "start_time": "2024-06-20T12:59:08.425Z"
   },
   {
    "duration": 0,
    "start_time": "2024-06-20T12:59:08.426Z"
   },
   {
    "duration": 0,
    "start_time": "2024-06-20T12:59:08.427Z"
   },
   {
    "duration": 0,
    "start_time": "2024-06-20T12:59:08.428Z"
   },
   {
    "duration": 0,
    "start_time": "2024-06-20T12:59:08.429Z"
   },
   {
    "duration": 0,
    "start_time": "2024-06-20T12:59:08.430Z"
   },
   {
    "duration": 0,
    "start_time": "2024-06-20T12:59:08.431Z"
   },
   {
    "duration": 0,
    "start_time": "2024-06-20T12:59:08.431Z"
   },
   {
    "duration": 0,
    "start_time": "2024-06-20T12:59:08.432Z"
   },
   {
    "duration": 0,
    "start_time": "2024-06-20T12:59:08.433Z"
   },
   {
    "duration": 0,
    "start_time": "2024-06-20T12:59:08.434Z"
   },
   {
    "duration": 0,
    "start_time": "2024-06-20T12:59:08.435Z"
   },
   {
    "duration": 0,
    "start_time": "2024-06-20T12:59:08.436Z"
   },
   {
    "duration": 0,
    "start_time": "2024-06-20T12:59:08.436Z"
   },
   {
    "duration": 0,
    "start_time": "2024-06-20T12:59:08.437Z"
   },
   {
    "duration": 0,
    "start_time": "2024-06-20T12:59:08.438Z"
   },
   {
    "duration": 0,
    "start_time": "2024-06-20T12:59:08.439Z"
   },
   {
    "duration": 0,
    "start_time": "2024-06-20T12:59:08.440Z"
   },
   {
    "duration": 0,
    "start_time": "2024-06-20T12:59:08.441Z"
   },
   {
    "duration": 0,
    "start_time": "2024-06-20T12:59:08.442Z"
   },
   {
    "duration": 0,
    "start_time": "2024-06-20T12:59:08.443Z"
   },
   {
    "duration": 0,
    "start_time": "2024-06-20T12:59:08.443Z"
   },
   {
    "duration": 0,
    "start_time": "2024-06-20T12:59:08.444Z"
   },
   {
    "duration": 0,
    "start_time": "2024-06-20T12:59:08.445Z"
   },
   {
    "duration": 0,
    "start_time": "2024-06-20T12:59:08.445Z"
   },
   {
    "duration": 0,
    "start_time": "2024-06-20T12:59:08.446Z"
   },
   {
    "duration": 0,
    "start_time": "2024-06-20T12:59:08.447Z"
   },
   {
    "duration": 0,
    "start_time": "2024-06-20T12:59:08.448Z"
   },
   {
    "duration": 0,
    "start_time": "2024-06-20T12:59:08.448Z"
   },
   {
    "duration": 0,
    "start_time": "2024-06-20T12:59:08.449Z"
   },
   {
    "duration": 0,
    "start_time": "2024-06-20T12:59:08.450Z"
   },
   {
    "duration": 0,
    "start_time": "2024-06-20T12:59:08.450Z"
   },
   {
    "duration": 0,
    "start_time": "2024-06-20T12:59:08.451Z"
   },
   {
    "duration": 0,
    "start_time": "2024-06-20T12:59:08.452Z"
   },
   {
    "duration": 0,
    "start_time": "2024-06-20T12:59:08.453Z"
   },
   {
    "duration": 0,
    "start_time": "2024-06-20T12:59:08.453Z"
   },
   {
    "duration": 0,
    "start_time": "2024-06-20T12:59:08.454Z"
   },
   {
    "duration": 0,
    "start_time": "2024-06-20T12:59:08.455Z"
   },
   {
    "duration": 0,
    "start_time": "2024-06-20T12:59:08.456Z"
   },
   {
    "duration": 0,
    "start_time": "2024-06-20T12:59:08.456Z"
   },
   {
    "duration": 0,
    "start_time": "2024-06-20T12:59:08.457Z"
   },
   {
    "duration": 0,
    "start_time": "2024-06-20T12:59:08.471Z"
   },
   {
    "duration": 0,
    "start_time": "2024-06-20T12:59:08.471Z"
   },
   {
    "duration": 3,
    "start_time": "2024-06-20T13:00:14.884Z"
   },
   {
    "duration": 123,
    "start_time": "2024-06-20T13:00:17.130Z"
   },
   {
    "duration": 3,
    "start_time": "2024-06-20T13:00:27.590Z"
   },
   {
    "duration": 122,
    "start_time": "2024-06-20T13:00:28.875Z"
   },
   {
    "duration": 4,
    "start_time": "2024-06-20T13:02:30.704Z"
   },
   {
    "duration": 3,
    "start_time": "2024-06-20T13:02:30.977Z"
   },
   {
    "duration": 5,
    "start_time": "2024-06-20T13:02:33.785Z"
   },
   {
    "duration": 20,
    "start_time": "2024-06-20T13:04:19.316Z"
   },
   {
    "duration": 5,
    "start_time": "2024-06-20T13:09:01.711Z"
   },
   {
    "duration": 6,
    "start_time": "2024-06-20T13:09:07.587Z"
   },
   {
    "duration": 2,
    "start_time": "2024-06-20T13:09:09.518Z"
   },
   {
    "duration": 9,
    "start_time": "2024-06-20T13:09:12.392Z"
   },
   {
    "duration": 10,
    "start_time": "2024-06-20T13:09:12.712Z"
   },
   {
    "duration": 10,
    "start_time": "2024-06-20T13:09:13.527Z"
   },
   {
    "duration": 10,
    "start_time": "2024-06-20T13:09:13.907Z"
   },
   {
    "duration": 9,
    "start_time": "2024-06-20T13:12:16.329Z"
   },
   {
    "duration": 21,
    "start_time": "2024-06-20T13:12:27.201Z"
   },
   {
    "duration": 3,
    "start_time": "2024-06-20T13:13:22.463Z"
   },
   {
    "duration": 5,
    "start_time": "2024-06-20T13:13:24.250Z"
   },
   {
    "duration": 9,
    "start_time": "2024-06-20T13:13:25.494Z"
   },
   {
    "duration": 2549,
    "start_time": "2024-06-20T13:13:31.147Z"
   },
   {
    "duration": 2547,
    "start_time": "2024-06-20T13:13:33.699Z"
   },
   {
    "duration": 2548,
    "start_time": "2024-06-20T13:13:36.248Z"
   },
   {
    "duration": 1448,
    "start_time": "2024-06-20T13:13:38.798Z"
   },
   {
    "duration": 3,
    "start_time": "2024-06-20T13:13:40.247Z"
   },
   {
    "duration": 159,
    "start_time": "2024-06-20T13:13:40.251Z"
   },
   {
    "duration": 13,
    "start_time": "2024-06-20T13:13:40.411Z"
   },
   {
    "duration": 6,
    "start_time": "2024-06-20T13:13:40.425Z"
   },
   {
    "duration": 6,
    "start_time": "2024-06-20T13:13:40.432Z"
   },
   {
    "duration": 6,
    "start_time": "2024-06-20T13:13:40.440Z"
   },
   {
    "duration": 38,
    "start_time": "2024-06-20T13:13:40.447Z"
   },
   {
    "duration": 41,
    "start_time": "2024-06-20T13:13:40.486Z"
   },
   {
    "duration": 5,
    "start_time": "2024-06-20T13:13:40.528Z"
   },
   {
    "duration": 46,
    "start_time": "2024-06-20T13:13:40.535Z"
   },
   {
    "duration": 3,
    "start_time": "2024-06-20T13:13:40.583Z"
   },
   {
    "duration": 35,
    "start_time": "2024-06-20T13:13:40.587Z"
   },
   {
    "duration": 34,
    "start_time": "2024-06-20T13:13:40.624Z"
   },
   {
    "duration": 3,
    "start_time": "2024-06-20T13:13:40.659Z"
   },
   {
    "duration": 31,
    "start_time": "2024-06-20T13:13:40.663Z"
   },
   {
    "duration": 3,
    "start_time": "2024-06-20T13:13:40.695Z"
   },
   {
    "duration": 36,
    "start_time": "2024-06-20T13:13:40.699Z"
   },
   {
    "duration": 9,
    "start_time": "2024-06-20T13:13:40.736Z"
   },
   {
    "duration": 16,
    "start_time": "2024-06-20T13:13:40.746Z"
   },
   {
    "duration": 9,
    "start_time": "2024-06-20T13:13:40.763Z"
   },
   {
    "duration": 869,
    "start_time": "2024-06-20T13:13:40.773Z"
   },
   {
    "duration": 4,
    "start_time": "2024-06-20T13:13:41.644Z"
   },
   {
    "duration": 8,
    "start_time": "2024-06-20T13:13:41.650Z"
   },
   {
    "duration": 357,
    "start_time": "2024-06-20T13:13:41.670Z"
   },
   {
    "duration": 9,
    "start_time": "2024-06-20T13:13:42.028Z"
   },
   {
    "duration": 46,
    "start_time": "2024-06-20T13:13:42.038Z"
   },
   {
    "duration": 9,
    "start_time": "2024-06-20T13:13:42.086Z"
   },
   {
    "duration": 8,
    "start_time": "2024-06-20T13:13:42.096Z"
   },
   {
    "duration": 4,
    "start_time": "2024-06-20T13:13:42.105Z"
   },
   {
    "duration": 20,
    "start_time": "2024-06-20T13:13:42.111Z"
   },
   {
    "duration": 4,
    "start_time": "2024-06-20T13:13:42.171Z"
   },
   {
    "duration": 8,
    "start_time": "2024-06-20T13:13:42.176Z"
   },
   {
    "duration": 8,
    "start_time": "2024-06-20T13:13:42.185Z"
   },
   {
    "duration": 4,
    "start_time": "2024-06-20T13:13:42.194Z"
   },
   {
    "duration": 225,
    "start_time": "2024-06-20T13:13:42.199Z"
   },
   {
    "duration": 6,
    "start_time": "2024-06-20T13:13:42.426Z"
   },
   {
    "duration": 3,
    "start_time": "2024-06-20T13:13:42.433Z"
   },
   {
    "duration": 103,
    "start_time": "2024-06-20T13:13:42.437Z"
   },
   {
    "duration": 5,
    "start_time": "2024-06-20T13:13:42.541Z"
   },
   {
    "duration": 48,
    "start_time": "2024-06-20T13:13:42.548Z"
   },
   {
    "duration": 34,
    "start_time": "2024-06-20T13:13:42.598Z"
   },
   {
    "duration": 91,
    "start_time": "2024-06-20T13:13:42.634Z"
   },
   {
    "duration": 4,
    "start_time": "2024-06-20T13:13:42.727Z"
   },
   {
    "duration": 99,
    "start_time": "2024-06-20T13:13:42.732Z"
   },
   {
    "duration": 39,
    "start_time": "2024-06-20T13:13:42.832Z"
   },
   {
    "duration": 15,
    "start_time": "2024-06-20T13:13:42.872Z"
   },
   {
    "duration": 14,
    "start_time": "2024-06-20T13:13:42.889Z"
   },
   {
    "duration": 6,
    "start_time": "2024-06-20T13:13:42.904Z"
   },
   {
    "duration": 34,
    "start_time": "2024-06-20T13:13:42.911Z"
   },
   {
    "duration": 91,
    "start_time": "2024-06-20T13:13:42.946Z"
   },
   {
    "duration": 4,
    "start_time": "2024-06-20T13:13:43.038Z"
   },
   {
    "duration": 47,
    "start_time": "2024-06-20T13:13:43.043Z"
   },
   {
    "duration": 6,
    "start_time": "2024-06-20T13:13:43.091Z"
   },
   {
    "duration": 3,
    "start_time": "2024-06-20T13:13:43.098Z"
   },
   {
    "duration": 99,
    "start_time": "2024-06-20T13:13:43.102Z"
   },
   {
    "duration": 28,
    "start_time": "2024-06-20T13:13:43.202Z"
   },
   {
    "duration": 3,
    "start_time": "2024-06-20T13:13:43.231Z"
   },
   {
    "duration": 14,
    "start_time": "2024-06-20T13:13:43.235Z"
   },
   {
    "duration": 32,
    "start_time": "2024-06-20T13:13:43.251Z"
   },
   {
    "duration": 4,
    "start_time": "2024-06-20T13:13:43.285Z"
   },
   {
    "duration": 8,
    "start_time": "2024-06-20T13:13:43.290Z"
   },
   {
    "duration": 13,
    "start_time": "2024-06-20T13:13:43.299Z"
   },
   {
    "duration": 20,
    "start_time": "2024-06-20T13:13:43.314Z"
   },
   {
    "duration": 62,
    "start_time": "2024-06-20T13:13:43.335Z"
   },
   {
    "duration": 760,
    "start_time": "2024-06-20T13:13:43.399Z"
   },
   {
    "duration": 1804,
    "start_time": "2024-06-20T13:13:44.160Z"
   },
   {
    "duration": 6,
    "start_time": "2024-06-20T13:13:45.965Z"
   },
   {
    "duration": 8,
    "start_time": "2024-06-20T13:13:45.973Z"
   },
   {
    "duration": 666,
    "start_time": "2024-06-20T13:13:45.982Z"
   },
   {
    "duration": 690,
    "start_time": "2024-06-20T13:13:46.649Z"
   },
   {
    "duration": 3,
    "start_time": "2024-06-20T13:13:47.340Z"
   },
   {
    "duration": 581,
    "start_time": "2024-06-20T13:13:47.344Z"
   },
   {
    "duration": 564,
    "start_time": "2024-06-20T13:13:47.927Z"
   },
   {
    "duration": 2,
    "start_time": "2024-06-20T13:13:48.493Z"
   },
   {
    "duration": 18,
    "start_time": "2024-06-20T13:13:48.496Z"
   },
   {
    "duration": 6,
    "start_time": "2024-06-20T13:13:48.515Z"
   },
   {
    "duration": 8,
    "start_time": "2024-06-20T13:13:48.522Z"
   },
   {
    "duration": 5,
    "start_time": "2024-06-20T13:13:48.536Z"
   },
   {
    "duration": 8,
    "start_time": "2024-06-20T13:13:48.542Z"
   },
   {
    "duration": 9,
    "start_time": "2024-06-20T13:13:48.551Z"
   },
   {
    "duration": 11,
    "start_time": "2024-06-20T13:13:48.561Z"
   },
   {
    "duration": 4,
    "start_time": "2024-06-20T13:13:48.573Z"
   },
   {
    "duration": 3,
    "start_time": "2024-06-20T13:13:48.578Z"
   },
   {
    "duration": 4,
    "start_time": "2024-06-20T13:13:48.582Z"
   },
   {
    "duration": 7,
    "start_time": "2024-06-20T13:13:48.587Z"
   },
   {
    "duration": 18,
    "start_time": "2024-06-20T13:13:48.595Z"
   },
   {
    "duration": 3,
    "start_time": "2024-06-20T13:13:48.615Z"
   },
   {
    "duration": 15,
    "start_time": "2024-06-20T13:13:48.619Z"
   },
   {
    "duration": 13,
    "start_time": "2024-06-20T13:13:48.635Z"
   },
   {
    "duration": 23,
    "start_time": "2024-06-20T13:13:48.649Z"
   },
   {
    "duration": 2928,
    "start_time": "2024-06-20T13:13:48.673Z"
   },
   {
    "duration": 17,
    "start_time": "2024-06-20T13:13:51.603Z"
   },
   {
    "duration": 39,
    "start_time": "2024-06-20T13:13:51.621Z"
   },
   {
    "duration": 2,
    "start_time": "2024-06-20T13:13:51.662Z"
   },
   {
    "duration": 24,
    "start_time": "2024-06-20T13:13:51.665Z"
   },
   {
    "duration": 14,
    "start_time": "2024-06-20T13:13:51.690Z"
   },
   {
    "duration": 128149,
    "start_time": "2024-06-20T13:13:51.705Z"
   },
   {
    "duration": 3,
    "start_time": "2024-06-20T13:15:59.855Z"
   },
   {
    "duration": 522,
    "start_time": "2024-06-20T13:15:59.871Z"
   },
   {
    "duration": 197,
    "start_time": "2024-06-20T13:16:00.395Z"
   },
   {
    "duration": 0,
    "start_time": "2024-06-20T13:16:00.594Z"
   },
   {
    "duration": 0,
    "start_time": "2024-06-20T13:16:00.595Z"
   },
   {
    "duration": 0,
    "start_time": "2024-06-20T13:16:00.596Z"
   },
   {
    "duration": 0,
    "start_time": "2024-06-20T13:16:00.596Z"
   },
   {
    "duration": 0,
    "start_time": "2024-06-20T13:16:00.597Z"
   },
   {
    "duration": 0,
    "start_time": "2024-06-20T13:16:00.598Z"
   },
   {
    "duration": 0,
    "start_time": "2024-06-20T13:16:00.599Z"
   },
   {
    "duration": 0,
    "start_time": "2024-06-20T13:16:00.600Z"
   },
   {
    "duration": 0,
    "start_time": "2024-06-20T13:16:00.601Z"
   },
   {
    "duration": 0,
    "start_time": "2024-06-20T13:16:00.602Z"
   },
   {
    "duration": 0,
    "start_time": "2024-06-20T13:16:00.603Z"
   },
   {
    "duration": 0,
    "start_time": "2024-06-20T13:16:00.604Z"
   },
   {
    "duration": 0,
    "start_time": "2024-06-20T13:16:00.605Z"
   },
   {
    "duration": 0,
    "start_time": "2024-06-20T13:16:00.607Z"
   },
   {
    "duration": 0,
    "start_time": "2024-06-20T13:16:00.608Z"
   },
   {
    "duration": 0,
    "start_time": "2024-06-20T13:16:00.609Z"
   },
   {
    "duration": 1,
    "start_time": "2024-06-20T13:16:00.610Z"
   },
   {
    "duration": 0,
    "start_time": "2024-06-20T13:16:00.612Z"
   },
   {
    "duration": 0,
    "start_time": "2024-06-20T13:16:00.613Z"
   },
   {
    "duration": 0,
    "start_time": "2024-06-20T13:16:00.614Z"
   },
   {
    "duration": 0,
    "start_time": "2024-06-20T13:16:00.615Z"
   },
   {
    "duration": 0,
    "start_time": "2024-06-20T13:16:00.617Z"
   },
   {
    "duration": 0,
    "start_time": "2024-06-20T13:16:00.618Z"
   },
   {
    "duration": 0,
    "start_time": "2024-06-20T13:16:00.620Z"
   },
   {
    "duration": 0,
    "start_time": "2024-06-20T13:16:00.621Z"
   },
   {
    "duration": 13,
    "start_time": "2024-06-20T13:16:16.945Z"
   },
   {
    "duration": 4,
    "start_time": "2024-06-20T13:16:22.847Z"
   },
   {
    "duration": 13,
    "start_time": "2024-06-20T13:16:23.200Z"
   },
   {
    "duration": 22,
    "start_time": "2024-06-20T13:16:23.510Z"
   },
   {
    "duration": 3,
    "start_time": "2024-06-20T13:16:23.802Z"
   },
   {
    "duration": 14,
    "start_time": "2024-06-20T13:16:24.103Z"
   },
   {
    "duration": 131,
    "start_time": "2024-06-20T13:16:24.398Z"
   },
   {
    "duration": 109,
    "start_time": "2024-06-20T13:16:24.667Z"
   },
   {
    "duration": 5,
    "start_time": "2024-06-20T13:16:25.001Z"
   },
   {
    "duration": 147,
    "start_time": "2024-06-20T13:16:25.273Z"
   },
   {
    "duration": 84,
    "start_time": "2024-06-20T13:16:25.536Z"
   },
   {
    "duration": 4,
    "start_time": "2024-06-20T13:16:25.838Z"
   },
   {
    "duration": 5,
    "start_time": "2024-06-20T13:16:26.201Z"
   },
   {
    "duration": 4,
    "start_time": "2024-06-20T13:16:26.404Z"
   },
   {
    "duration": 10,
    "start_time": "2024-06-20T13:16:26.679Z"
   },
   {
    "duration": 2,
    "start_time": "2024-06-20T13:16:26.965Z"
   },
   {
    "duration": 5,
    "start_time": "2024-06-20T13:16:27.253Z"
   },
   {
    "duration": 884,
    "start_time": "2024-06-20T13:16:27.556Z"
   },
   {
    "duration": 0,
    "start_time": "2024-06-20T13:16:28.442Z"
   },
   {
    "duration": 0,
    "start_time": "2024-06-20T13:16:28.443Z"
   },
   {
    "duration": 0,
    "start_time": "2024-06-20T13:16:28.444Z"
   },
   {
    "duration": 709,
    "start_time": "2024-06-20T13:16:28.606Z"
   },
   {
    "duration": 0,
    "start_time": "2024-06-20T13:16:29.317Z"
   },
   {
    "duration": 0,
    "start_time": "2024-06-20T13:16:29.318Z"
   },
   {
    "duration": 684,
    "start_time": "2024-06-20T13:16:59.208Z"
   },
   {
    "duration": 4,
    "start_time": "2024-06-20T13:17:03.761Z"
   },
   {
    "duration": 3,
    "start_time": "2024-06-20T13:17:16.683Z"
   },
   {
    "duration": 5,
    "start_time": "2024-06-20T13:17:28.151Z"
   },
   {
    "duration": 18,
    "start_time": "2024-06-20T13:17:30.255Z"
   },
   {
    "duration": 2,
    "start_time": "2024-06-20T13:17:30.528Z"
   },
   {
    "duration": 5,
    "start_time": "2024-06-20T13:17:30.810Z"
   },
   {
    "duration": 97,
    "start_time": "2024-06-20T13:17:31.077Z"
   },
   {
    "duration": 19,
    "start_time": "2024-06-20T13:18:29.177Z"
   },
   {
    "duration": 153,
    "start_time": "2024-06-20T13:22:03.058Z"
   },
   {
    "duration": 5,
    "start_time": "2024-06-20T13:23:43.686Z"
   },
   {
    "duration": 5,
    "start_time": "2024-06-20T13:23:51.706Z"
   },
   {
    "duration": 91,
    "start_time": "2024-06-20T13:23:52.022Z"
   },
   {
    "duration": 6,
    "start_time": "2024-06-20T13:24:01.208Z"
   },
   {
    "duration": 157,
    "start_time": "2024-06-20T13:24:01.504Z"
   },
   {
    "duration": 6,
    "start_time": "2024-06-20T13:24:21.845Z"
   },
   {
    "duration": 164,
    "start_time": "2024-06-20T13:24:23.041Z"
   },
   {
    "duration": 187,
    "start_time": "2024-06-20T13:25:21.197Z"
   },
   {
    "duration": 136,
    "start_time": "2024-06-20T13:25:51.068Z"
   },
   {
    "duration": 124,
    "start_time": "2024-06-20T13:25:57.071Z"
   },
   {
    "duration": 115,
    "start_time": "2024-06-20T13:26:58.647Z"
   },
   {
    "duration": 61,
    "start_time": "2024-06-20T13:26:59.254Z"
   },
   {
    "duration": 5,
    "start_time": "2024-06-20T13:27:56.053Z"
   },
   {
    "duration": 69,
    "start_time": "2024-06-20T13:27:57.423Z"
   },
   {
    "duration": 145,
    "start_time": "2024-06-20T13:28:40.453Z"
   },
   {
    "duration": 125,
    "start_time": "2024-06-20T13:28:53.765Z"
   },
   {
    "duration": 509,
    "start_time": "2024-06-20T13:29:48.099Z"
   },
   {
    "duration": 4,
    "start_time": "2024-06-20T13:31:04.356Z"
   },
   {
    "duration": 12,
    "start_time": "2024-06-20T13:31:04.630Z"
   },
   {
    "duration": 3,
    "start_time": "2024-06-20T13:31:15.629Z"
   },
   {
    "duration": 13,
    "start_time": "2024-06-20T13:31:15.634Z"
   },
   {
    "duration": 10703,
    "start_time": "2024-06-20T13:31:15.756Z"
   },
   {
    "duration": 12,
    "start_time": "2024-06-20T13:31:44.902Z"
   },
   {
    "duration": 3,
    "start_time": "2024-06-20T13:31:58.041Z"
   },
   {
    "duration": 12,
    "start_time": "2024-06-20T13:31:58.372Z"
   },
   {
    "duration": 2701,
    "start_time": "2024-06-20T13:31:58.543Z"
   },
   {
    "duration": 19,
    "start_time": "2024-06-20T13:32:19.412Z"
   },
   {
    "duration": 1692,
    "start_time": "2024-06-20T13:32:47.918Z"
   },
   {
    "duration": 18,
    "start_time": "2024-06-20T13:33:04.278Z"
   },
   {
    "duration": 1749,
    "start_time": "2024-06-20T13:33:48.214Z"
   },
   {
    "duration": 1798,
    "start_time": "2024-06-20T13:34:52.339Z"
   },
   {
    "duration": 1665,
    "start_time": "2024-06-20T13:35:25.589Z"
   },
   {
    "duration": 18,
    "start_time": "2024-06-20T13:36:08.516Z"
   },
   {
    "duration": 1674,
    "start_time": "2024-06-20T13:36:23.720Z"
   },
   {
    "duration": 1778,
    "start_time": "2024-06-20T13:36:46.551Z"
   },
   {
    "duration": 169,
    "start_time": "2024-06-20T13:37:42.231Z"
   },
   {
    "duration": 168,
    "start_time": "2024-06-20T13:37:46.107Z"
   },
   {
    "duration": 2,
    "start_time": "2024-06-20T13:37:50.069Z"
   },
   {
    "duration": 83,
    "start_time": "2024-06-20T13:37:50.381Z"
   },
   {
    "duration": 168,
    "start_time": "2024-06-20T13:37:50.652Z"
   },
   {
    "duration": 186,
    "start_time": "2024-06-20T13:38:27.025Z"
   },
   {
    "duration": 484,
    "start_time": "2024-06-20T13:38:36.627Z"
   },
   {
    "duration": 522,
    "start_time": "2024-06-20T13:39:42.098Z"
   },
   {
    "duration": 145,
    "start_time": "2024-06-20T13:40:11.366Z"
   },
   {
    "duration": 153,
    "start_time": "2024-06-20T13:40:23.576Z"
   },
   {
    "duration": 188,
    "start_time": "2024-06-20T13:40:46.155Z"
   },
   {
    "duration": 6,
    "start_time": "2024-06-20T13:41:06.891Z"
   },
   {
    "duration": 186,
    "start_time": "2024-06-20T13:41:07.147Z"
   },
   {
    "duration": 5,
    "start_time": "2024-06-20T13:41:24.869Z"
   },
   {
    "duration": 154,
    "start_time": "2024-06-20T13:41:26.700Z"
   },
   {
    "duration": 6,
    "start_time": "2024-06-20T13:41:35.049Z"
   },
   {
    "duration": 154,
    "start_time": "2024-06-20T13:41:36.076Z"
   },
   {
    "duration": 6,
    "start_time": "2024-06-20T13:43:05.156Z"
   },
   {
    "duration": 153,
    "start_time": "2024-06-20T13:43:05.494Z"
   },
   {
    "duration": 5,
    "start_time": "2024-06-20T13:46:52.577Z"
   },
   {
    "duration": 62,
    "start_time": "2024-06-20T13:46:53.888Z"
   },
   {
    "duration": 5,
    "start_time": "2024-06-20T13:47:55.754Z"
   },
   {
    "duration": 61,
    "start_time": "2024-06-20T13:47:56.019Z"
   },
   {
    "duration": 5,
    "start_time": "2024-06-20T13:48:21.713Z"
   },
   {
    "duration": 59,
    "start_time": "2024-06-20T13:48:22.060Z"
   },
   {
    "duration": 5,
    "start_time": "2024-06-20T13:48:54.498Z"
   },
   {
    "duration": 60,
    "start_time": "2024-06-20T13:48:56.311Z"
   },
   {
    "duration": 8,
    "start_time": "2024-06-20T13:50:15.162Z"
   },
   {
    "duration": 63,
    "start_time": "2024-06-20T13:50:16.293Z"
   },
   {
    "duration": 5,
    "start_time": "2024-06-20T13:51:22.681Z"
   },
   {
    "duration": 181,
    "start_time": "2024-06-20T13:51:23.547Z"
   },
   {
    "duration": 6,
    "start_time": "2024-06-20T13:51:43.270Z"
   },
   {
    "duration": 59,
    "start_time": "2024-06-20T13:51:43.455Z"
   },
   {
    "duration": 5,
    "start_time": "2024-06-20T13:52:36.385Z"
   },
   {
    "duration": 61,
    "start_time": "2024-06-20T13:52:37.490Z"
   },
   {
    "duration": 9,
    "start_time": "2024-06-20T13:52:57.491Z"
   },
   {
    "duration": 88,
    "start_time": "2024-06-20T13:52:57.784Z"
   },
   {
    "duration": 5,
    "start_time": "2024-06-20T13:53:43.990Z"
   },
   {
    "duration": 66,
    "start_time": "2024-06-20T13:53:44.286Z"
   },
   {
    "duration": 5,
    "start_time": "2024-06-20T13:54:04.601Z"
   },
   {
    "duration": 63,
    "start_time": "2024-06-20T13:54:04.892Z"
   },
   {
    "duration": 167,
    "start_time": "2024-06-20T13:55:18.748Z"
   },
   {
    "duration": 16,
    "start_time": "2024-06-20T13:55:33.474Z"
   },
   {
    "duration": 76,
    "start_time": "2024-06-20T13:56:03.304Z"
   },
   {
    "duration": 86,
    "start_time": "2024-06-20T13:56:54.961Z"
   },
   {
    "duration": 81,
    "start_time": "2024-06-20T13:57:15.327Z"
   },
   {
    "duration": 80,
    "start_time": "2024-06-20T13:57:24.688Z"
   },
   {
    "duration": 82,
    "start_time": "2024-06-20T13:57:54.340Z"
   },
   {
    "duration": 3,
    "start_time": "2024-06-20T14:01:20.538Z"
   },
   {
    "duration": 32,
    "start_time": "2024-06-20T14:01:20.906Z"
   },
   {
    "duration": 3,
    "start_time": "2024-06-20T14:01:28.183Z"
   },
   {
    "duration": 14,
    "start_time": "2024-06-20T14:01:28.517Z"
   },
   {
    "duration": 3,
    "start_time": "2024-06-20T14:02:52.995Z"
   },
   {
    "duration": 20,
    "start_time": "2024-06-20T14:02:54.860Z"
   },
   {
    "duration": 4,
    "start_time": "2024-06-20T14:02:57.821Z"
   },
   {
    "duration": 14,
    "start_time": "2024-06-20T14:02:58.102Z"
   },
   {
    "duration": 3,
    "start_time": "2024-06-20T14:03:11.973Z"
   },
   {
    "duration": 3,
    "start_time": "2024-06-20T14:05:29.624Z"
   },
   {
    "duration": 115,
    "start_time": "2024-06-20T14:05:29.875Z"
   },
   {
    "duration": 3,
    "start_time": "2024-06-20T14:05:45.255Z"
   },
   {
    "duration": 110,
    "start_time": "2024-06-20T14:05:45.524Z"
   },
   {
    "duration": 3,
    "start_time": "2024-06-20T14:05:55.482Z"
   },
   {
    "duration": 110,
    "start_time": "2024-06-20T14:05:55.707Z"
   },
   {
    "duration": 4,
    "start_time": "2024-06-20T14:06:41.439Z"
   },
   {
    "duration": 15,
    "start_time": "2024-06-20T14:06:43.483Z"
   },
   {
    "duration": 3,
    "start_time": "2024-06-20T14:06:51.436Z"
   },
   {
    "duration": 139,
    "start_time": "2024-06-20T14:06:51.860Z"
   },
   {
    "duration": 7,
    "start_time": "2024-06-20T14:07:18.359Z"
   },
   {
    "duration": 885,
    "start_time": "2024-06-20T14:07:18.741Z"
   },
   {
    "duration": 7,
    "start_time": "2024-06-20T14:07:39.862Z"
   },
   {
    "duration": 5,
    "start_time": "2024-06-20T14:07:40.184Z"
   },
   {
    "duration": 915,
    "start_time": "2024-06-20T14:07:40.851Z"
   },
   {
    "duration": 35,
    "start_time": "2024-06-20T14:09:30.019Z"
   },
   {
    "duration": 35,
    "start_time": "2024-06-20T14:09:53.202Z"
   },
   {
    "duration": 76,
    "start_time": "2024-06-20T14:10:09.973Z"
   },
   {
    "duration": 113,
    "start_time": "2024-06-20T14:10:12.801Z"
   },
   {
    "duration": 34,
    "start_time": "2024-06-20T14:10:39.434Z"
   },
   {
    "duration": 2620,
    "start_time": "2024-06-20T14:10:47.994Z"
   },
   {
    "duration": 2517,
    "start_time": "2024-06-20T14:10:50.616Z"
   },
   {
    "duration": 2665,
    "start_time": "2024-06-20T14:10:53.134Z"
   },
   {
    "duration": 1607,
    "start_time": "2024-06-20T14:10:55.802Z"
   },
   {
    "duration": 2,
    "start_time": "2024-06-20T14:10:57.410Z"
   },
   {
    "duration": 206,
    "start_time": "2024-06-20T14:10:57.413Z"
   },
   {
    "duration": 14,
    "start_time": "2024-06-20T14:10:57.620Z"
   },
   {
    "duration": 11,
    "start_time": "2024-06-20T14:10:57.636Z"
   },
   {
    "duration": 12,
    "start_time": "2024-06-20T14:10:57.649Z"
   },
   {
    "duration": 6,
    "start_time": "2024-06-20T14:10:57.663Z"
   },
   {
    "duration": 6,
    "start_time": "2024-06-20T14:10:57.670Z"
   },
   {
    "duration": 17,
    "start_time": "2024-06-20T14:10:57.677Z"
   },
   {
    "duration": 5,
    "start_time": "2024-06-20T14:10:57.695Z"
   },
   {
    "duration": 55,
    "start_time": "2024-06-20T14:10:57.701Z"
   },
   {
    "duration": 2,
    "start_time": "2024-06-20T14:10:57.758Z"
   },
   {
    "duration": 4,
    "start_time": "2024-06-20T14:10:57.762Z"
   },
   {
    "duration": 28,
    "start_time": "2024-06-20T14:10:57.767Z"
   },
   {
    "duration": 3,
    "start_time": "2024-06-20T14:10:57.796Z"
   },
   {
    "duration": 27,
    "start_time": "2024-06-20T14:10:57.800Z"
   },
   {
    "duration": 3,
    "start_time": "2024-06-20T14:10:57.829Z"
   },
   {
    "duration": 57,
    "start_time": "2024-06-20T14:10:57.833Z"
   },
   {
    "duration": 9,
    "start_time": "2024-06-20T14:10:57.891Z"
   },
   {
    "duration": 6,
    "start_time": "2024-06-20T14:10:57.901Z"
   },
   {
    "duration": 4,
    "start_time": "2024-06-20T14:10:57.908Z"
   },
   {
    "duration": 886,
    "start_time": "2024-06-20T14:10:57.914Z"
   },
   {
    "duration": 5,
    "start_time": "2024-06-20T14:10:58.802Z"
   },
   {
    "duration": 20,
    "start_time": "2024-06-20T14:10:58.808Z"
   },
   {
    "duration": 389,
    "start_time": "2024-06-20T14:10:58.832Z"
   },
   {
    "duration": 13,
    "start_time": "2024-06-20T14:10:59.223Z"
   },
   {
    "duration": 54,
    "start_time": "2024-06-20T14:10:59.237Z"
   },
   {
    "duration": 9,
    "start_time": "2024-06-20T14:10:59.292Z"
   },
   {
    "duration": 3,
    "start_time": "2024-06-20T14:10:59.302Z"
   },
   {
    "duration": 6,
    "start_time": "2024-06-20T14:10:59.306Z"
   },
   {
    "duration": 60,
    "start_time": "2024-06-20T14:10:59.313Z"
   },
   {
    "duration": 4,
    "start_time": "2024-06-20T14:10:59.374Z"
   },
   {
    "duration": 10,
    "start_time": "2024-06-20T14:10:59.379Z"
   },
   {
    "duration": 8,
    "start_time": "2024-06-20T14:10:59.390Z"
   },
   {
    "duration": 4,
    "start_time": "2024-06-20T14:10:59.399Z"
   },
   {
    "duration": 236,
    "start_time": "2024-06-20T14:10:59.404Z"
   },
   {
    "duration": 6,
    "start_time": "2024-06-20T14:10:59.642Z"
   },
   {
    "duration": 9,
    "start_time": "2024-06-20T14:10:59.650Z"
   },
   {
    "duration": 80,
    "start_time": "2024-06-20T14:10:59.670Z"
   },
   {
    "duration": 6,
    "start_time": "2024-06-20T14:10:59.751Z"
   },
   {
    "duration": 102,
    "start_time": "2024-06-20T14:10:59.758Z"
   },
   {
    "duration": 0,
    "start_time": "2024-06-20T14:10:59.862Z"
   },
   {
    "duration": 0,
    "start_time": "2024-06-20T14:10:59.864Z"
   },
   {
    "duration": 0,
    "start_time": "2024-06-20T14:10:59.865Z"
   },
   {
    "duration": 0,
    "start_time": "2024-06-20T14:10:59.866Z"
   },
   {
    "duration": 0,
    "start_time": "2024-06-20T14:10:59.867Z"
   },
   {
    "duration": 0,
    "start_time": "2024-06-20T14:10:59.868Z"
   },
   {
    "duration": 0,
    "start_time": "2024-06-20T14:10:59.869Z"
   },
   {
    "duration": 0,
    "start_time": "2024-06-20T14:10:59.870Z"
   },
   {
    "duration": 0,
    "start_time": "2024-06-20T14:10:59.871Z"
   },
   {
    "duration": 0,
    "start_time": "2024-06-20T14:10:59.873Z"
   },
   {
    "duration": 0,
    "start_time": "2024-06-20T14:10:59.874Z"
   },
   {
    "duration": 0,
    "start_time": "2024-06-20T14:10:59.875Z"
   },
   {
    "duration": 0,
    "start_time": "2024-06-20T14:10:59.876Z"
   },
   {
    "duration": 0,
    "start_time": "2024-06-20T14:10:59.878Z"
   },
   {
    "duration": 0,
    "start_time": "2024-06-20T14:10:59.879Z"
   },
   {
    "duration": 0,
    "start_time": "2024-06-20T14:10:59.880Z"
   },
   {
    "duration": 0,
    "start_time": "2024-06-20T14:10:59.880Z"
   },
   {
    "duration": 0,
    "start_time": "2024-06-20T14:10:59.881Z"
   },
   {
    "duration": 0,
    "start_time": "2024-06-20T14:10:59.883Z"
   },
   {
    "duration": 0,
    "start_time": "2024-06-20T14:10:59.884Z"
   },
   {
    "duration": 0,
    "start_time": "2024-06-20T14:10:59.885Z"
   },
   {
    "duration": 0,
    "start_time": "2024-06-20T14:10:59.886Z"
   },
   {
    "duration": 0,
    "start_time": "2024-06-20T14:10:59.887Z"
   },
   {
    "duration": 0,
    "start_time": "2024-06-20T14:10:59.888Z"
   },
   {
    "duration": 0,
    "start_time": "2024-06-20T14:10:59.889Z"
   },
   {
    "duration": 0,
    "start_time": "2024-06-20T14:10:59.890Z"
   },
   {
    "duration": 0,
    "start_time": "2024-06-20T14:10:59.891Z"
   },
   {
    "duration": 0,
    "start_time": "2024-06-20T14:10:59.893Z"
   },
   {
    "duration": 0,
    "start_time": "2024-06-20T14:10:59.895Z"
   },
   {
    "duration": 0,
    "start_time": "2024-06-20T14:10:59.896Z"
   },
   {
    "duration": 0,
    "start_time": "2024-06-20T14:10:59.897Z"
   },
   {
    "duration": 0,
    "start_time": "2024-06-20T14:10:59.899Z"
   },
   {
    "duration": 0,
    "start_time": "2024-06-20T14:10:59.900Z"
   },
   {
    "duration": 0,
    "start_time": "2024-06-20T14:10:59.901Z"
   },
   {
    "duration": 0,
    "start_time": "2024-06-20T14:10:59.902Z"
   },
   {
    "duration": 0,
    "start_time": "2024-06-20T14:10:59.904Z"
   },
   {
    "duration": 0,
    "start_time": "2024-06-20T14:10:59.905Z"
   },
   {
    "duration": 0,
    "start_time": "2024-06-20T14:10:59.906Z"
   },
   {
    "duration": 0,
    "start_time": "2024-06-20T14:10:59.907Z"
   },
   {
    "duration": 0,
    "start_time": "2024-06-20T14:10:59.908Z"
   },
   {
    "duration": 0,
    "start_time": "2024-06-20T14:10:59.909Z"
   },
   {
    "duration": 0,
    "start_time": "2024-06-20T14:10:59.910Z"
   },
   {
    "duration": 0,
    "start_time": "2024-06-20T14:10:59.971Z"
   },
   {
    "duration": 0,
    "start_time": "2024-06-20T14:10:59.972Z"
   },
   {
    "duration": 0,
    "start_time": "2024-06-20T14:10:59.972Z"
   },
   {
    "duration": 0,
    "start_time": "2024-06-20T14:10:59.974Z"
   },
   {
    "duration": 0,
    "start_time": "2024-06-20T14:10:59.975Z"
   },
   {
    "duration": 0,
    "start_time": "2024-06-20T14:10:59.976Z"
   },
   {
    "duration": 0,
    "start_time": "2024-06-20T14:10:59.977Z"
   },
   {
    "duration": 0,
    "start_time": "2024-06-20T14:10:59.978Z"
   },
   {
    "duration": 0,
    "start_time": "2024-06-20T14:10:59.979Z"
   },
   {
    "duration": 0,
    "start_time": "2024-06-20T14:10:59.980Z"
   },
   {
    "duration": 0,
    "start_time": "2024-06-20T14:10:59.981Z"
   },
   {
    "duration": 0,
    "start_time": "2024-06-20T14:10:59.982Z"
   },
   {
    "duration": 0,
    "start_time": "2024-06-20T14:10:59.983Z"
   },
   {
    "duration": 0,
    "start_time": "2024-06-20T14:10:59.984Z"
   },
   {
    "duration": 0,
    "start_time": "2024-06-20T14:10:59.985Z"
   },
   {
    "duration": 0,
    "start_time": "2024-06-20T14:10:59.986Z"
   },
   {
    "duration": 0,
    "start_time": "2024-06-20T14:10:59.987Z"
   },
   {
    "duration": 0,
    "start_time": "2024-06-20T14:10:59.988Z"
   },
   {
    "duration": 0,
    "start_time": "2024-06-20T14:10:59.989Z"
   },
   {
    "duration": 0,
    "start_time": "2024-06-20T14:10:59.990Z"
   },
   {
    "duration": 0,
    "start_time": "2024-06-20T14:10:59.991Z"
   },
   {
    "duration": 0,
    "start_time": "2024-06-20T14:10:59.992Z"
   },
   {
    "duration": 0,
    "start_time": "2024-06-20T14:10:59.993Z"
   },
   {
    "duration": 0,
    "start_time": "2024-06-20T14:10:59.994Z"
   },
   {
    "duration": 0,
    "start_time": "2024-06-20T14:10:59.998Z"
   },
   {
    "duration": 0,
    "start_time": "2024-06-20T14:10:59.999Z"
   },
   {
    "duration": 0,
    "start_time": "2024-06-20T14:11:00.000Z"
   },
   {
    "duration": 0,
    "start_time": "2024-06-20T14:11:00.002Z"
   },
   {
    "duration": 0,
    "start_time": "2024-06-20T14:11:00.003Z"
   },
   {
    "duration": 0,
    "start_time": "2024-06-20T14:11:00.004Z"
   },
   {
    "duration": 0,
    "start_time": "2024-06-20T14:11:00.005Z"
   },
   {
    "duration": 0,
    "start_time": "2024-06-20T14:11:00.007Z"
   },
   {
    "duration": 0,
    "start_time": "2024-06-20T14:11:00.009Z"
   },
   {
    "duration": 0,
    "start_time": "2024-06-20T14:11:00.010Z"
   },
   {
    "duration": 0,
    "start_time": "2024-06-20T14:11:00.011Z"
   },
   {
    "duration": 0,
    "start_time": "2024-06-20T14:11:00.071Z"
   },
   {
    "duration": 0,
    "start_time": "2024-06-20T14:11:00.072Z"
   },
   {
    "duration": 0,
    "start_time": "2024-06-20T14:11:00.073Z"
   },
   {
    "duration": 0,
    "start_time": "2024-06-20T14:11:00.074Z"
   },
   {
    "duration": 0,
    "start_time": "2024-06-20T14:11:00.075Z"
   },
   {
    "duration": 0,
    "start_time": "2024-06-20T14:11:00.075Z"
   },
   {
    "duration": 0,
    "start_time": "2024-06-20T14:11:00.076Z"
   },
   {
    "duration": 2580,
    "start_time": "2024-06-20T15:37:51.680Z"
   },
   {
    "duration": 2492,
    "start_time": "2024-06-20T15:37:54.262Z"
   },
   {
    "duration": 2565,
    "start_time": "2024-06-20T15:37:56.756Z"
   },
   {
    "duration": 2010,
    "start_time": "2024-06-20T15:37:59.323Z"
   },
   {
    "duration": 3,
    "start_time": "2024-06-20T15:38:01.334Z"
   },
   {
    "duration": 325,
    "start_time": "2024-06-20T15:38:01.338Z"
   },
   {
    "duration": 15,
    "start_time": "2024-06-20T15:38:01.664Z"
   },
   {
    "duration": 48,
    "start_time": "2024-06-20T15:38:01.680Z"
   },
   {
    "duration": 27,
    "start_time": "2024-06-20T15:38:01.729Z"
   },
   {
    "duration": 17,
    "start_time": "2024-06-20T15:38:01.759Z"
   },
   {
    "duration": 20,
    "start_time": "2024-06-20T15:38:01.777Z"
   },
   {
    "duration": 38,
    "start_time": "2024-06-20T15:38:01.798Z"
   },
   {
    "duration": 32,
    "start_time": "2024-06-20T15:38:01.837Z"
   },
   {
    "duration": 110,
    "start_time": "2024-06-20T15:38:01.870Z"
   },
   {
    "duration": 4,
    "start_time": "2024-06-20T15:38:01.981Z"
   },
   {
    "duration": 37,
    "start_time": "2024-06-20T15:38:01.986Z"
   },
   {
    "duration": 148,
    "start_time": "2024-06-20T15:38:02.024Z"
   },
   {
    "duration": 3,
    "start_time": "2024-06-20T15:38:02.174Z"
   },
   {
    "duration": 110,
    "start_time": "2024-06-20T15:38:02.178Z"
   },
   {
    "duration": 4,
    "start_time": "2024-06-20T15:38:02.289Z"
   },
   {
    "duration": 101,
    "start_time": "2024-06-20T15:38:02.294Z"
   },
   {
    "duration": 77,
    "start_time": "2024-06-20T15:38:02.397Z"
   },
   {
    "duration": 9,
    "start_time": "2024-06-20T15:38:02.476Z"
   },
   {
    "duration": 8,
    "start_time": "2024-06-20T15:38:02.487Z"
   },
   {
    "duration": 1608,
    "start_time": "2024-06-20T15:38:02.496Z"
   },
   {
    "duration": 5,
    "start_time": "2024-06-20T15:38:04.105Z"
   },
   {
    "duration": 63,
    "start_time": "2024-06-20T15:38:04.112Z"
   },
   {
    "duration": 707,
    "start_time": "2024-06-20T15:38:04.180Z"
   },
   {
    "duration": 10,
    "start_time": "2024-06-20T15:38:04.888Z"
   },
   {
    "duration": 177,
    "start_time": "2024-06-20T15:38:04.899Z"
   },
   {
    "duration": 13,
    "start_time": "2024-06-20T15:38:05.078Z"
   },
   {
    "duration": 78,
    "start_time": "2024-06-20T15:38:05.093Z"
   },
   {
    "duration": 19,
    "start_time": "2024-06-20T15:38:05.173Z"
   },
   {
    "duration": 12,
    "start_time": "2024-06-20T15:38:05.193Z"
   },
   {
    "duration": 66,
    "start_time": "2024-06-20T15:38:05.206Z"
   },
   {
    "duration": 3,
    "start_time": "2024-06-20T15:38:05.274Z"
   },
   {
    "duration": 8,
    "start_time": "2024-06-20T15:38:05.279Z"
   },
   {
    "duration": 37,
    "start_time": "2024-06-20T15:38:05.289Z"
   },
   {
    "duration": 443,
    "start_time": "2024-06-20T15:38:05.370Z"
   },
   {
    "duration": 62,
    "start_time": "2024-06-20T15:38:05.814Z"
   },
   {
    "duration": 7,
    "start_time": "2024-06-20T15:38:05.877Z"
   },
   {
    "duration": 133,
    "start_time": "2024-06-20T15:38:05.885Z"
   },
   {
    "duration": 6,
    "start_time": "2024-06-20T15:38:06.070Z"
   },
   {
    "duration": 67,
    "start_time": "2024-06-20T15:38:06.077Z"
   },
   {
    "duration": 0,
    "start_time": "2024-06-20T15:38:06.171Z"
   },
   {
    "duration": 0,
    "start_time": "2024-06-20T15:38:06.172Z"
   },
   {
    "duration": 0,
    "start_time": "2024-06-20T15:38:06.173Z"
   },
   {
    "duration": 0,
    "start_time": "2024-06-20T15:38:06.174Z"
   },
   {
    "duration": 0,
    "start_time": "2024-06-20T15:38:06.175Z"
   },
   {
    "duration": 0,
    "start_time": "2024-06-20T15:38:06.176Z"
   },
   {
    "duration": 0,
    "start_time": "2024-06-20T15:38:06.177Z"
   },
   {
    "duration": 0,
    "start_time": "2024-06-20T15:38:06.177Z"
   },
   {
    "duration": 0,
    "start_time": "2024-06-20T15:38:06.178Z"
   },
   {
    "duration": 0,
    "start_time": "2024-06-20T15:38:06.179Z"
   },
   {
    "duration": 0,
    "start_time": "2024-06-20T15:38:06.180Z"
   },
   {
    "duration": 0,
    "start_time": "2024-06-20T15:38:06.181Z"
   },
   {
    "duration": 0,
    "start_time": "2024-06-20T15:38:06.182Z"
   },
   {
    "duration": 0,
    "start_time": "2024-06-20T15:38:06.183Z"
   },
   {
    "duration": 0,
    "start_time": "2024-06-20T15:38:06.183Z"
   },
   {
    "duration": 0,
    "start_time": "2024-06-20T15:38:06.184Z"
   },
   {
    "duration": 0,
    "start_time": "2024-06-20T15:38:06.185Z"
   },
   {
    "duration": 0,
    "start_time": "2024-06-20T15:38:06.186Z"
   },
   {
    "duration": 0,
    "start_time": "2024-06-20T15:38:06.187Z"
   },
   {
    "duration": 0,
    "start_time": "2024-06-20T15:38:06.187Z"
   },
   {
    "duration": 0,
    "start_time": "2024-06-20T15:38:06.188Z"
   },
   {
    "duration": 0,
    "start_time": "2024-06-20T15:38:06.189Z"
   },
   {
    "duration": 0,
    "start_time": "2024-06-20T15:38:06.190Z"
   },
   {
    "duration": 0,
    "start_time": "2024-06-20T15:38:06.191Z"
   },
   {
    "duration": 0,
    "start_time": "2024-06-20T15:38:06.192Z"
   },
   {
    "duration": 0,
    "start_time": "2024-06-20T15:38:06.193Z"
   },
   {
    "duration": 0,
    "start_time": "2024-06-20T15:38:06.193Z"
   },
   {
    "duration": 0,
    "start_time": "2024-06-20T15:38:06.194Z"
   },
   {
    "duration": 0,
    "start_time": "2024-06-20T15:38:06.195Z"
   },
   {
    "duration": 0,
    "start_time": "2024-06-20T15:38:06.196Z"
   },
   {
    "duration": 0,
    "start_time": "2024-06-20T15:38:06.196Z"
   },
   {
    "duration": 0,
    "start_time": "2024-06-20T15:38:06.197Z"
   },
   {
    "duration": 0,
    "start_time": "2024-06-20T15:38:06.198Z"
   },
   {
    "duration": 0,
    "start_time": "2024-06-20T15:38:06.272Z"
   },
   {
    "duration": 0,
    "start_time": "2024-06-20T15:38:06.272Z"
   },
   {
    "duration": 0,
    "start_time": "2024-06-20T15:38:06.273Z"
   },
   {
    "duration": 0,
    "start_time": "2024-06-20T15:38:06.274Z"
   },
   {
    "duration": 0,
    "start_time": "2024-06-20T15:38:06.275Z"
   },
   {
    "duration": 0,
    "start_time": "2024-06-20T15:38:06.276Z"
   },
   {
    "duration": 0,
    "start_time": "2024-06-20T15:38:06.277Z"
   },
   {
    "duration": 0,
    "start_time": "2024-06-20T15:38:06.277Z"
   },
   {
    "duration": 0,
    "start_time": "2024-06-20T15:38:06.278Z"
   },
   {
    "duration": 0,
    "start_time": "2024-06-20T15:38:06.279Z"
   },
   {
    "duration": 0,
    "start_time": "2024-06-20T15:38:06.280Z"
   },
   {
    "duration": 0,
    "start_time": "2024-06-20T15:38:06.280Z"
   },
   {
    "duration": 0,
    "start_time": "2024-06-20T15:38:06.282Z"
   },
   {
    "duration": 0,
    "start_time": "2024-06-20T15:38:06.283Z"
   },
   {
    "duration": 0,
    "start_time": "2024-06-20T15:38:06.284Z"
   },
   {
    "duration": 0,
    "start_time": "2024-06-20T15:38:06.285Z"
   },
   {
    "duration": 0,
    "start_time": "2024-06-20T15:38:06.285Z"
   },
   {
    "duration": 0,
    "start_time": "2024-06-20T15:38:06.286Z"
   },
   {
    "duration": 0,
    "start_time": "2024-06-20T15:38:06.287Z"
   },
   {
    "duration": 0,
    "start_time": "2024-06-20T15:38:06.288Z"
   },
   {
    "duration": 0,
    "start_time": "2024-06-20T15:38:06.289Z"
   },
   {
    "duration": 0,
    "start_time": "2024-06-20T15:38:06.290Z"
   },
   {
    "duration": 0,
    "start_time": "2024-06-20T15:38:06.291Z"
   },
   {
    "duration": 0,
    "start_time": "2024-06-20T15:38:06.292Z"
   },
   {
    "duration": 0,
    "start_time": "2024-06-20T15:38:06.293Z"
   },
   {
    "duration": 0,
    "start_time": "2024-06-20T15:38:06.294Z"
   },
   {
    "duration": 0,
    "start_time": "2024-06-20T15:38:06.295Z"
   },
   {
    "duration": 0,
    "start_time": "2024-06-20T15:38:06.295Z"
   },
   {
    "duration": 0,
    "start_time": "2024-06-20T15:38:06.371Z"
   },
   {
    "duration": 0,
    "start_time": "2024-06-20T15:38:06.372Z"
   },
   {
    "duration": 0,
    "start_time": "2024-06-20T15:38:06.373Z"
   },
   {
    "duration": 0,
    "start_time": "2024-06-20T15:38:06.374Z"
   },
   {
    "duration": 0,
    "start_time": "2024-06-20T15:38:06.375Z"
   },
   {
    "duration": 0,
    "start_time": "2024-06-20T15:38:06.376Z"
   },
   {
    "duration": 0,
    "start_time": "2024-06-20T15:38:06.377Z"
   },
   {
    "duration": 0,
    "start_time": "2024-06-20T15:38:06.377Z"
   },
   {
    "duration": 0,
    "start_time": "2024-06-20T15:38:06.378Z"
   },
   {
    "duration": 0,
    "start_time": "2024-06-20T15:38:06.379Z"
   },
   {
    "duration": 0,
    "start_time": "2024-06-20T15:38:06.380Z"
   },
   {
    "duration": 0,
    "start_time": "2024-06-20T15:38:06.381Z"
   },
   {
    "duration": 0,
    "start_time": "2024-06-20T15:38:06.382Z"
   },
   {
    "duration": 0,
    "start_time": "2024-06-20T15:38:06.383Z"
   },
   {
    "duration": 0,
    "start_time": "2024-06-20T15:38:06.384Z"
   },
   {
    "duration": 0,
    "start_time": "2024-06-20T15:38:06.385Z"
   },
   {
    "duration": 0,
    "start_time": "2024-06-20T15:38:06.386Z"
   },
   {
    "duration": 0,
    "start_time": "2024-06-20T15:38:06.386Z"
   },
   {
    "duration": 0,
    "start_time": "2024-06-20T15:38:06.388Z"
   },
   {
    "duration": 0,
    "start_time": "2024-06-20T15:38:06.388Z"
   },
   {
    "duration": 0,
    "start_time": "2024-06-20T15:38:06.389Z"
   },
   {
    "duration": 0,
    "start_time": "2024-06-20T15:38:06.390Z"
   },
   {
    "duration": 0,
    "start_time": "2024-06-20T15:38:06.391Z"
   },
   {
    "duration": 35,
    "start_time": "2024-06-20T15:47:34.530Z"
   },
   {
    "duration": 45,
    "start_time": "2024-06-20T15:48:00.155Z"
   },
   {
    "duration": 34,
    "start_time": "2024-06-20T15:48:19.639Z"
   },
   {
    "duration": 2588,
    "start_time": "2024-06-20T15:55:16.236Z"
   },
   {
    "duration": 2530,
    "start_time": "2024-06-20T15:55:18.826Z"
   },
   {
    "duration": 2667,
    "start_time": "2024-06-20T15:55:25.605Z"
   },
   {
    "duration": 2666,
    "start_time": "2024-06-20T15:55:28.285Z"
   },
   {
    "duration": 2585,
    "start_time": "2024-06-20T15:55:31.392Z"
   },
   {
    "duration": 5,
    "start_time": "2024-06-20T15:55:34.002Z"
   },
   {
    "duration": 7,
    "start_time": "2024-06-20T15:55:34.025Z"
   },
   {
    "duration": 258,
    "start_time": "2024-06-20T15:55:34.076Z"
   },
   {
    "duration": 13,
    "start_time": "2024-06-20T15:55:34.344Z"
   },
   {
    "duration": 16,
    "start_time": "2024-06-20T15:55:34.370Z"
   },
   {
    "duration": 8,
    "start_time": "2024-06-20T15:55:34.399Z"
   },
   {
    "duration": 10,
    "start_time": "2024-06-20T15:55:34.416Z"
   },
   {
    "duration": 4,
    "start_time": "2024-06-20T15:55:34.518Z"
   },
   {
    "duration": 47,
    "start_time": "2024-06-20T15:55:34.531Z"
   },
   {
    "duration": 5,
    "start_time": "2024-06-20T15:55:34.583Z"
   },
   {
    "duration": 44,
    "start_time": "2024-06-20T15:55:34.674Z"
   },
   {
    "duration": 6,
    "start_time": "2024-06-20T15:55:34.771Z"
   },
   {
    "duration": 3,
    "start_time": "2024-06-20T15:55:34.809Z"
   },
   {
    "duration": 79,
    "start_time": "2024-06-20T15:55:34.820Z"
   },
   {
    "duration": 3,
    "start_time": "2024-06-20T15:55:34.983Z"
   },
   {
    "duration": 69,
    "start_time": "2024-06-20T15:55:35.015Z"
   },
   {
    "duration": 19,
    "start_time": "2024-06-20T15:55:35.090Z"
   },
   {
    "duration": 62,
    "start_time": "2024-06-20T15:55:35.123Z"
   },
   {
    "duration": 11,
    "start_time": "2024-06-20T15:55:36.099Z"
   },
   {
    "duration": 20,
    "start_time": "2024-06-20T15:55:36.126Z"
   },
   {
    "duration": 15,
    "start_time": "2024-06-20T15:55:36.154Z"
   },
   {
    "duration": 1041,
    "start_time": "2024-06-20T15:55:36.527Z"
   },
   {
    "duration": 8,
    "start_time": "2024-06-20T15:55:37.581Z"
   },
   {
    "duration": 53,
    "start_time": "2024-06-20T15:55:37.624Z"
   },
   {
    "duration": 146,
    "start_time": "2024-06-20T15:55:37.695Z"
   },
   {
    "duration": 26,
    "start_time": "2024-06-20T15:55:37.846Z"
   },
   {
    "duration": 31,
    "start_time": "2024-06-20T15:55:37.877Z"
   },
   {
    "duration": 58,
    "start_time": "2024-06-20T15:55:37.917Z"
   },
   {
    "duration": 6,
    "start_time": "2024-06-20T15:55:37.985Z"
   },
   {
    "duration": 4,
    "start_time": "2024-06-20T15:55:38.004Z"
   },
   {
    "duration": 51,
    "start_time": "2024-06-20T15:55:38.020Z"
   },
   {
    "duration": 8,
    "start_time": "2024-06-20T15:55:38.078Z"
   },
   {
    "duration": 3,
    "start_time": "2024-06-20T15:55:38.337Z"
   },
   {
    "duration": 7,
    "start_time": "2024-06-20T15:55:38.377Z"
   },
   {
    "duration": 4,
    "start_time": "2024-06-20T15:55:38.393Z"
   },
   {
    "duration": 154,
    "start_time": "2024-06-20T15:55:38.619Z"
   },
   {
    "duration": 17,
    "start_time": "2024-06-20T15:55:38.782Z"
   },
   {
    "duration": 2,
    "start_time": "2024-06-20T15:55:38.894Z"
   },
   {
    "duration": 150,
    "start_time": "2024-06-20T15:55:38.993Z"
   },
   {
    "duration": 5,
    "start_time": "2024-06-20T15:55:39.226Z"
   },
   {
    "duration": 73,
    "start_time": "2024-06-20T15:55:39.246Z"
   },
   {
    "duration": 35,
    "start_time": "2024-06-20T15:55:39.473Z"
   },
   {
    "duration": 82,
    "start_time": "2024-06-20T15:55:39.597Z"
   },
   {
    "duration": 5,
    "start_time": "2024-06-20T15:55:39.691Z"
   },
   {
    "duration": 115,
    "start_time": "2024-06-20T15:55:39.714Z"
   },
   {
    "duration": 52,
    "start_time": "2024-06-20T15:55:39.836Z"
   },
   {
    "duration": 44,
    "start_time": "2024-06-20T15:55:39.933Z"
   },
   {
    "duration": 3,
    "start_time": "2024-06-20T15:55:40.095Z"
   },
   {
    "duration": 17,
    "start_time": "2024-06-20T15:55:40.112Z"
   },
   {
    "duration": 39,
    "start_time": "2024-06-20T15:55:40.196Z"
   },
   {
    "duration": 157,
    "start_time": "2024-06-20T15:55:40.245Z"
   },
   {
    "duration": 20,
    "start_time": "2024-06-20T15:55:40.406Z"
   },
   {
    "duration": 31,
    "start_time": "2024-06-20T15:55:40.526Z"
   },
   {
    "duration": 6,
    "start_time": "2024-06-20T15:55:40.604Z"
   },
   {
    "duration": 5,
    "start_time": "2024-06-20T15:55:40.621Z"
   },
   {
    "duration": 94,
    "start_time": "2024-06-20T15:55:40.691Z"
   },
   {
    "duration": 29,
    "start_time": "2024-06-20T15:55:40.809Z"
   },
   {
    "duration": 4,
    "start_time": "2024-06-20T15:55:40.872Z"
   },
   {
    "duration": 17,
    "start_time": "2024-06-20T15:55:40.886Z"
   },
   {
    "duration": 64,
    "start_time": "2024-06-20T15:55:40.908Z"
   },
   {
    "duration": 5,
    "start_time": "2024-06-20T15:55:41.000Z"
   },
   {
    "duration": 4,
    "start_time": "2024-06-20T15:55:41.111Z"
   },
   {
    "duration": 3,
    "start_time": "2024-06-20T15:55:41.923Z"
   },
   {
    "duration": 19,
    "start_time": "2024-06-20T15:55:43.776Z"
   },
   {
    "duration": 108,
    "start_time": "2024-06-20T15:55:43.800Z"
   },
   {
    "duration": 828,
    "start_time": "2024-06-20T15:55:43.914Z"
   },
   {
    "duration": 1725,
    "start_time": "2024-06-20T15:55:45.446Z"
   },
   {
    "duration": 3,
    "start_time": "2024-06-20T15:55:47.855Z"
   },
   {
    "duration": 6,
    "start_time": "2024-06-20T15:55:47.874Z"
   },
   {
    "duration": 694,
    "start_time": "2024-06-20T15:55:48.632Z"
   },
   {
    "duration": 648,
    "start_time": "2024-06-20T15:55:49.934Z"
   },
   {
    "duration": 20,
    "start_time": "2024-06-20T15:55:50.587Z"
   },
   {
    "duration": 611,
    "start_time": "2024-06-20T15:55:50.633Z"
   },
   {
    "duration": 51,
    "start_time": "2024-06-20T15:55:51.251Z"
   },
   {
    "duration": 24,
    "start_time": "2024-06-20T15:55:51.334Z"
   },
   {
    "duration": 12,
    "start_time": "2024-06-20T15:55:51.372Z"
   },
   {
    "duration": 7,
    "start_time": "2024-06-20T15:55:51.391Z"
   },
   {
    "duration": 3,
    "start_time": "2024-06-20T15:55:51.408Z"
   },
   {
    "duration": 18,
    "start_time": "2024-06-20T15:55:51.419Z"
   },
   {
    "duration": 6,
    "start_time": "2024-06-20T15:55:51.475Z"
   },
   {
    "duration": 7,
    "start_time": "2024-06-20T15:55:51.489Z"
   },
   {
    "duration": 5,
    "start_time": "2024-06-20T15:55:51.503Z"
   },
   {
    "duration": 4,
    "start_time": "2024-06-20T15:55:51.516Z"
   },
   {
    "duration": 3,
    "start_time": "2024-06-20T15:55:51.572Z"
   },
   {
    "duration": 12,
    "start_time": "2024-06-20T15:55:51.576Z"
   },
   {
    "duration": 14,
    "start_time": "2024-06-20T15:55:51.589Z"
   },
   {
    "duration": 16,
    "start_time": "2024-06-20T15:55:51.604Z"
   },
   {
    "duration": 7,
    "start_time": "2024-06-20T15:55:51.622Z"
   },
   {
    "duration": 43,
    "start_time": "2024-06-20T15:55:51.630Z"
   },
   {
    "duration": 15,
    "start_time": "2024-06-20T15:55:51.674Z"
   },
   {
    "duration": 19,
    "start_time": "2024-06-20T15:55:51.691Z"
   },
   {
    "duration": 3017,
    "start_time": "2024-06-20T15:55:51.711Z"
   },
   {
    "duration": 43,
    "start_time": "2024-06-20T15:55:54.730Z"
   },
   {
    "duration": 31,
    "start_time": "2024-06-20T15:55:54.774Z"
   },
   {
    "duration": 2,
    "start_time": "2024-06-20T15:55:54.806Z"
   },
   {
    "duration": 28,
    "start_time": "2024-06-20T15:55:54.809Z"
   },
   {
    "duration": 3,
    "start_time": "2024-06-20T15:55:54.838Z"
   },
   {
    "duration": 130537,
    "start_time": "2024-06-20T15:55:54.842Z"
   },
   {
    "duration": 4,
    "start_time": "2024-06-20T15:58:05.381Z"
   },
   {
    "duration": 512,
    "start_time": "2024-06-20T15:58:05.386Z"
   },
   {
    "duration": 17,
    "start_time": "2024-06-20T15:58:05.899Z"
   },
   {
    "duration": 3,
    "start_time": "2024-06-20T15:58:05.918Z"
   },
   {
    "duration": 15,
    "start_time": "2024-06-20T15:58:05.923Z"
   },
   {
    "duration": 23,
    "start_time": "2024-06-20T15:58:05.971Z"
   },
   {
    "duration": 3,
    "start_time": "2024-06-20T15:58:05.995Z"
   },
   {
    "duration": 25,
    "start_time": "2024-06-20T15:58:06.000Z"
   },
   {
    "duration": 167,
    "start_time": "2024-06-20T15:58:06.027Z"
   },
   {
    "duration": 131,
    "start_time": "2024-06-20T15:58:06.195Z"
   },
   {
    "duration": 5,
    "start_time": "2024-06-20T15:58:06.327Z"
   },
   {
    "duration": 194,
    "start_time": "2024-06-20T15:58:06.333Z"
   },
   {
    "duration": 124,
    "start_time": "2024-06-20T15:58:06.528Z"
   },
   {
    "duration": 5,
    "start_time": "2024-06-20T15:58:06.653Z"
   },
   {
    "duration": 16,
    "start_time": "2024-06-20T15:58:06.659Z"
   },
   {
    "duration": 10,
    "start_time": "2024-06-20T15:58:06.677Z"
   },
   {
    "duration": 33,
    "start_time": "2024-06-20T15:58:06.688Z"
   },
   {
    "duration": 25,
    "start_time": "2024-06-20T15:58:06.722Z"
   },
   {
    "duration": 9,
    "start_time": "2024-06-20T15:58:06.748Z"
   },
   {
    "duration": 185,
    "start_time": "2024-06-20T15:58:06.759Z"
   },
   {
    "duration": 27,
    "start_time": "2024-06-20T15:58:06.946Z"
   },
   {
    "duration": 3,
    "start_time": "2024-06-20T15:58:06.975Z"
   },
   {
    "duration": 4,
    "start_time": "2024-06-20T15:58:06.979Z"
   },
   {
    "duration": 4,
    "start_time": "2024-06-20T15:58:06.984Z"
   },
   {
    "duration": 5,
    "start_time": "2024-06-20T15:58:06.989Z"
   },
   {
    "duration": 7,
    "start_time": "2024-06-20T15:58:06.995Z"
   },
   {
    "duration": 170,
    "start_time": "2024-06-20T15:58:07.003Z"
   },
   {
    "duration": 6,
    "start_time": "2024-06-20T15:59:03.399Z"
   },
   {
    "duration": 100,
    "start_time": "2024-06-20T15:59:03.674Z"
   },
   {
    "duration": 184,
    "start_time": "2024-06-20T15:59:09.109Z"
   },
   {
    "duration": 113,
    "start_time": "2024-06-20T15:59:49.279Z"
   },
   {
    "duration": 106,
    "start_time": "2024-06-20T16:00:06.182Z"
   },
   {
    "duration": 113,
    "start_time": "2024-06-20T16:00:18.562Z"
   },
   {
    "duration": 184,
    "start_time": "2024-06-20T16:03:43.854Z"
   },
   {
    "duration": 110,
    "start_time": "2024-06-20T16:03:56.516Z"
   },
   {
    "duration": 2572,
    "start_time": "2024-06-20T16:05:03.521Z"
   },
   {
    "duration": 2510,
    "start_time": "2024-06-20T16:05:06.095Z"
   },
   {
    "duration": 2491,
    "start_time": "2024-06-20T16:05:08.607Z"
   },
   {
    "duration": 1442,
    "start_time": "2024-06-20T16:05:11.100Z"
   },
   {
    "duration": 2,
    "start_time": "2024-06-20T16:05:12.544Z"
   },
   {
    "duration": 173,
    "start_time": "2024-06-20T16:05:12.547Z"
   },
   {
    "duration": 17,
    "start_time": "2024-06-20T16:05:12.722Z"
   },
   {
    "duration": 33,
    "start_time": "2024-06-20T16:05:12.740Z"
   },
   {
    "duration": 8,
    "start_time": "2024-06-20T16:05:12.775Z"
   },
   {
    "duration": 7,
    "start_time": "2024-06-20T16:05:12.785Z"
   },
   {
    "duration": 8,
    "start_time": "2024-06-20T16:05:12.793Z"
   },
   {
    "duration": 12,
    "start_time": "2024-06-20T16:05:12.802Z"
   },
   {
    "duration": 4,
    "start_time": "2024-06-20T16:05:12.815Z"
   },
   {
    "duration": 80,
    "start_time": "2024-06-20T16:05:12.821Z"
   },
   {
    "duration": 3,
    "start_time": "2024-06-20T16:05:12.903Z"
   },
   {
    "duration": 5,
    "start_time": "2024-06-20T16:05:12.907Z"
   },
   {
    "duration": 68,
    "start_time": "2024-06-20T16:05:12.913Z"
   },
   {
    "duration": 3,
    "start_time": "2024-06-20T16:05:12.983Z"
   },
   {
    "duration": 29,
    "start_time": "2024-06-20T16:05:12.987Z"
   },
   {
    "duration": 2,
    "start_time": "2024-06-20T16:05:13.018Z"
   },
   {
    "duration": 79,
    "start_time": "2024-06-20T16:05:13.022Z"
   },
   {
    "duration": 14,
    "start_time": "2024-06-20T16:05:13.102Z"
   },
   {
    "duration": 54,
    "start_time": "2024-06-20T16:05:13.117Z"
   },
   {
    "duration": 15,
    "start_time": "2024-06-20T16:05:13.172Z"
   },
   {
    "duration": 871,
    "start_time": "2024-06-20T16:05:13.188Z"
   },
   {
    "duration": 5,
    "start_time": "2024-06-20T16:05:14.061Z"
   },
   {
    "duration": 18,
    "start_time": "2024-06-20T16:05:14.070Z"
   },
   {
    "duration": 379,
    "start_time": "2024-06-20T16:05:14.092Z"
   },
   {
    "duration": 14,
    "start_time": "2024-06-20T16:05:14.473Z"
   },
   {
    "duration": 30,
    "start_time": "2024-06-20T16:05:14.488Z"
   },
   {
    "duration": 10,
    "start_time": "2024-06-20T16:05:14.571Z"
   },
   {
    "duration": 3,
    "start_time": "2024-06-20T16:05:14.582Z"
   },
   {
    "duration": 13,
    "start_time": "2024-06-20T16:05:14.586Z"
   },
   {
    "duration": 6,
    "start_time": "2024-06-20T16:05:14.601Z"
   },
   {
    "duration": 4,
    "start_time": "2024-06-20T16:05:14.608Z"
   },
   {
    "duration": 58,
    "start_time": "2024-06-20T16:05:14.613Z"
   },
   {
    "duration": 4,
    "start_time": "2024-06-20T16:05:14.673Z"
   },
   {
    "duration": 5,
    "start_time": "2024-06-20T16:05:14.678Z"
   },
   {
    "duration": 398,
    "start_time": "2024-06-20T16:05:14.684Z"
   },
   {
    "duration": 7,
    "start_time": "2024-06-20T16:05:15.083Z"
   },
   {
    "duration": 32,
    "start_time": "2024-06-20T16:05:15.092Z"
   },
   {
    "duration": 142,
    "start_time": "2024-06-20T16:05:15.125Z"
   },
   {
    "duration": 5,
    "start_time": "2024-06-20T16:05:15.268Z"
   },
   {
    "duration": 56,
    "start_time": "2024-06-20T16:05:15.274Z"
   },
   {
    "duration": 54,
    "start_time": "2024-06-20T16:05:15.331Z"
   },
   {
    "duration": 117,
    "start_time": "2024-06-20T16:05:15.386Z"
   },
   {
    "duration": 5,
    "start_time": "2024-06-20T16:05:15.504Z"
   },
   {
    "duration": 156,
    "start_time": "2024-06-20T16:05:15.510Z"
   },
   {
    "duration": 44,
    "start_time": "2024-06-20T16:05:15.668Z"
   },
   {
    "duration": 18,
    "start_time": "2024-06-20T16:05:15.713Z"
   },
   {
    "duration": 10,
    "start_time": "2024-06-20T16:05:15.732Z"
   },
   {
    "duration": 28,
    "start_time": "2024-06-20T16:05:15.743Z"
   },
   {
    "duration": 38,
    "start_time": "2024-06-20T16:05:15.773Z"
   },
   {
    "duration": 125,
    "start_time": "2024-06-20T16:05:15.812Z"
   },
   {
    "duration": 3,
    "start_time": "2024-06-20T16:05:15.938Z"
   },
   {
    "duration": 59,
    "start_time": "2024-06-20T16:05:15.942Z"
   },
   {
    "duration": 8,
    "start_time": "2024-06-20T16:05:16.003Z"
   },
   {
    "duration": 5,
    "start_time": "2024-06-20T16:05:16.012Z"
   },
   {
    "duration": 156,
    "start_time": "2024-06-20T16:05:16.019Z"
   },
   {
    "duration": 32,
    "start_time": "2024-06-20T16:05:16.177Z"
   },
   {
    "duration": 4,
    "start_time": "2024-06-20T16:05:16.210Z"
   },
   {
    "duration": 57,
    "start_time": "2024-06-20T16:05:16.215Z"
   },
   {
    "duration": 14,
    "start_time": "2024-06-20T16:05:16.273Z"
   },
   {
    "duration": 4,
    "start_time": "2024-06-20T16:05:16.289Z"
   },
   {
    "duration": 5,
    "start_time": "2024-06-20T16:05:16.294Z"
   },
   {
    "duration": 38,
    "start_time": "2024-06-20T16:05:16.300Z"
   },
   {
    "duration": 28,
    "start_time": "2024-06-20T16:05:16.339Z"
   },
   {
    "duration": 57,
    "start_time": "2024-06-20T16:05:16.367Z"
   },
   {
    "duration": 835,
    "start_time": "2024-06-20T16:05:16.425Z"
   },
   {
    "duration": 1796,
    "start_time": "2024-06-20T16:05:17.261Z"
   },
   {
    "duration": 3,
    "start_time": "2024-06-20T16:05:19.059Z"
   },
   {
    "duration": 17,
    "start_time": "2024-06-20T16:05:19.063Z"
   },
   {
    "duration": 692,
    "start_time": "2024-06-20T16:05:19.082Z"
   },
   {
    "duration": 681,
    "start_time": "2024-06-20T16:05:19.776Z"
   },
   {
    "duration": 14,
    "start_time": "2024-06-20T16:05:20.458Z"
   },
   {
    "duration": 581,
    "start_time": "2024-06-20T16:05:20.474Z"
   },
   {
    "duration": 584,
    "start_time": "2024-06-20T16:05:21.057Z"
   },
   {
    "duration": 4,
    "start_time": "2024-06-20T16:05:21.642Z"
   },
   {
    "duration": 31,
    "start_time": "2024-06-20T16:05:21.648Z"
   },
   {
    "duration": 7,
    "start_time": "2024-06-20T16:05:21.681Z"
   },
   {
    "duration": 5,
    "start_time": "2024-06-20T16:05:21.689Z"
   },
   {
    "duration": 7,
    "start_time": "2024-06-20T16:05:21.700Z"
   },
   {
    "duration": 6,
    "start_time": "2024-06-20T16:05:21.708Z"
   },
   {
    "duration": 7,
    "start_time": "2024-06-20T16:05:21.716Z"
   },
   {
    "duration": 6,
    "start_time": "2024-06-20T16:05:21.724Z"
   },
   {
    "duration": 7,
    "start_time": "2024-06-20T16:05:21.770Z"
   },
   {
    "duration": 9,
    "start_time": "2024-06-20T16:05:21.779Z"
   },
   {
    "duration": 6,
    "start_time": "2024-06-20T16:05:21.789Z"
   },
   {
    "duration": 6,
    "start_time": "2024-06-20T16:05:21.796Z"
   },
   {
    "duration": 19,
    "start_time": "2024-06-20T16:05:21.803Z"
   },
   {
    "duration": 28,
    "start_time": "2024-06-20T16:05:21.823Z"
   },
   {
    "duration": 16,
    "start_time": "2024-06-20T16:05:21.852Z"
   },
   {
    "duration": 8,
    "start_time": "2024-06-20T16:05:21.870Z"
   },
   {
    "duration": 22,
    "start_time": "2024-06-20T16:05:21.879Z"
   },
   {
    "duration": 2938,
    "start_time": "2024-06-20T16:05:21.903Z"
   },
   {
    "duration": 17,
    "start_time": "2024-06-20T16:05:24.843Z"
   },
   {
    "duration": 30,
    "start_time": "2024-06-20T16:05:24.862Z"
   },
   {
    "duration": 2,
    "start_time": "2024-06-20T16:05:24.894Z"
   },
   {
    "duration": 37,
    "start_time": "2024-06-20T16:05:24.898Z"
   },
   {
    "duration": 6,
    "start_time": "2024-06-20T16:05:24.937Z"
   },
   {
    "duration": 131098,
    "start_time": "2024-06-20T16:05:24.945Z"
   },
   {
    "duration": 3,
    "start_time": "2024-06-20T16:07:36.045Z"
   },
   {
    "duration": 566,
    "start_time": "2024-06-20T16:07:36.049Z"
   },
   {
    "duration": 14,
    "start_time": "2024-06-20T16:07:36.616Z"
   },
   {
    "duration": 3,
    "start_time": "2024-06-20T16:07:36.631Z"
   },
   {
    "duration": 20,
    "start_time": "2024-06-20T16:07:36.635Z"
   },
   {
    "duration": 41,
    "start_time": "2024-06-20T16:07:36.656Z"
   },
   {
    "duration": 3,
    "start_time": "2024-06-20T16:07:36.698Z"
   },
   {
    "duration": 55,
    "start_time": "2024-06-20T16:07:36.702Z"
   },
   {
    "duration": 170,
    "start_time": "2024-06-20T16:07:36.759Z"
   },
   {
    "duration": 139,
    "start_time": "2024-06-20T16:07:36.930Z"
   },
   {
    "duration": 5,
    "start_time": "2024-06-20T16:07:37.072Z"
   },
   {
    "duration": 215,
    "start_time": "2024-06-20T16:07:37.079Z"
   },
   {
    "duration": 130,
    "start_time": "2024-06-20T16:07:37.295Z"
   },
   {
    "duration": 4,
    "start_time": "2024-06-20T16:07:37.426Z"
   },
   {
    "duration": 34,
    "start_time": "2024-06-20T16:07:37.431Z"
   },
   {
    "duration": 20,
    "start_time": "2024-06-20T16:07:37.466Z"
   },
   {
    "duration": 46,
    "start_time": "2024-06-20T16:07:37.488Z"
   },
   {
    "duration": 21,
    "start_time": "2024-06-20T16:07:37.535Z"
   },
   {
    "duration": 5,
    "start_time": "2024-06-20T16:07:37.557Z"
   },
   {
    "duration": 189,
    "start_time": "2024-06-20T16:07:37.563Z"
   },
   {
    "duration": 37,
    "start_time": "2024-06-20T16:07:37.753Z"
   },
   {
    "duration": 4,
    "start_time": "2024-06-20T16:07:37.792Z"
   },
   {
    "duration": 12,
    "start_time": "2024-06-20T16:07:37.797Z"
   },
   {
    "duration": 22,
    "start_time": "2024-06-20T16:07:37.811Z"
   },
   {
    "duration": 8,
    "start_time": "2024-06-20T16:07:37.835Z"
   },
   {
    "duration": 29,
    "start_time": "2024-06-20T16:07:37.844Z"
   },
   {
    "duration": 123,
    "start_time": "2024-06-20T16:07:37.875Z"
   },
   {
    "duration": 112,
    "start_time": "2024-06-20T16:08:10.361Z"
   },
   {
    "duration": 3,
    "start_time": "2024-06-20T16:09:26.717Z"
   },
   {
    "duration": 3,
    "start_time": "2024-06-20T16:09:45.830Z"
   },
   {
    "duration": 3,
    "start_time": "2024-06-20T16:10:10.543Z"
   },
   {
    "duration": 189,
    "start_time": "2024-06-20T16:10:35.858Z"
   },
   {
    "duration": 180,
    "start_time": "2024-06-20T16:10:39.370Z"
   },
   {
    "duration": 297,
    "start_time": "2024-06-20T16:10:49.064Z"
   },
   {
    "duration": 173,
    "start_time": "2024-06-20T16:10:54.618Z"
   },
   {
    "duration": 110,
    "start_time": "2024-06-20T16:11:05.461Z"
   },
   {
    "duration": 112,
    "start_time": "2024-06-20T16:11:19.004Z"
   },
   {
    "duration": 58,
    "start_time": "2024-06-20T16:11:23.206Z"
   },
   {
    "duration": 73,
    "start_time": "2024-06-20T16:11:59.037Z"
   },
   {
    "duration": 65,
    "start_time": "2024-06-20T16:12:21.204Z"
   },
   {
    "duration": 179,
    "start_time": "2024-06-20T16:12:29.718Z"
   },
   {
    "duration": 7,
    "start_time": "2024-06-20T16:12:31.837Z"
   },
   {
    "duration": 3,
    "start_time": "2024-06-20T16:12:32.212Z"
   },
   {
    "duration": 5,
    "start_time": "2024-06-20T16:12:32.704Z"
   },
   {
    "duration": 184,
    "start_time": "2024-06-20T16:12:33.734Z"
   },
   {
    "duration": 90,
    "start_time": "2024-06-20T16:12:39.650Z"
   },
   {
    "duration": 210,
    "start_time": "2024-06-20T16:12:54.300Z"
   },
   {
    "duration": 48,
    "start_time": "2024-06-20T16:12:57.372Z"
   },
   {
    "duration": 42,
    "start_time": "2024-06-20T16:13:04.044Z"
   },
   {
    "duration": 35,
    "start_time": "2024-06-20T16:13:16.868Z"
   },
   {
    "duration": 107,
    "start_time": "2024-06-20T16:13:25.447Z"
   },
   {
    "duration": 110,
    "start_time": "2024-06-20T16:13:41.612Z"
   },
   {
    "duration": 2637,
    "start_time": "2024-06-20T16:13:56.369Z"
   },
   {
    "duration": 2570,
    "start_time": "2024-06-20T16:13:59.009Z"
   },
   {
    "duration": 2572,
    "start_time": "2024-06-20T16:14:01.581Z"
   },
   {
    "duration": 5,
    "start_time": "2024-06-20T16:14:04.156Z"
   },
   {
    "duration": 11,
    "start_time": "2024-06-20T16:14:04.162Z"
   },
   {
    "duration": 162,
    "start_time": "2024-06-20T16:14:04.174Z"
   },
   {
    "duration": 11,
    "start_time": "2024-06-20T16:14:04.337Z"
   },
   {
    "duration": 24,
    "start_time": "2024-06-20T16:14:04.350Z"
   },
   {
    "duration": 9,
    "start_time": "2024-06-20T16:14:04.375Z"
   },
   {
    "duration": 7,
    "start_time": "2024-06-20T16:14:04.387Z"
   },
   {
    "duration": 8,
    "start_time": "2024-06-20T16:14:04.395Z"
   },
   {
    "duration": 17,
    "start_time": "2024-06-20T16:14:04.404Z"
   },
   {
    "duration": 4,
    "start_time": "2024-06-20T16:14:04.422Z"
   },
   {
    "duration": 87,
    "start_time": "2024-06-20T16:14:04.427Z"
   },
   {
    "duration": 3,
    "start_time": "2024-06-20T16:14:04.516Z"
   },
   {
    "duration": 16,
    "start_time": "2024-06-20T16:14:04.521Z"
   },
   {
    "duration": 55,
    "start_time": "2024-06-20T16:14:04.538Z"
   },
   {
    "duration": 3,
    "start_time": "2024-06-20T16:14:04.594Z"
   },
   {
    "duration": 76,
    "start_time": "2024-06-20T16:14:04.598Z"
   },
   {
    "duration": 3,
    "start_time": "2024-06-20T16:14:04.675Z"
   },
   {
    "duration": 32,
    "start_time": "2024-06-20T16:14:04.679Z"
   },
   {
    "duration": 9,
    "start_time": "2024-06-20T16:14:04.712Z"
   },
   {
    "duration": 49,
    "start_time": "2024-06-20T16:14:04.722Z"
   },
   {
    "duration": 4,
    "start_time": "2024-06-20T16:14:04.772Z"
   },
   {
    "duration": 1069,
    "start_time": "2024-06-20T16:14:04.777Z"
   },
   {
    "duration": 5,
    "start_time": "2024-06-20T16:14:05.847Z"
   },
   {
    "duration": 34,
    "start_time": "2024-06-20T16:14:05.854Z"
   },
   {
    "duration": 158,
    "start_time": "2024-06-20T16:14:05.894Z"
   },
   {
    "duration": 18,
    "start_time": "2024-06-20T16:14:06.054Z"
   },
   {
    "duration": 35,
    "start_time": "2024-06-20T16:14:06.074Z"
   },
   {
    "duration": 9,
    "start_time": "2024-06-20T16:14:06.111Z"
   },
   {
    "duration": 3,
    "start_time": "2024-06-20T16:14:06.171Z"
   },
   {
    "duration": 15,
    "start_time": "2024-06-20T16:14:06.175Z"
   },
   {
    "duration": 13,
    "start_time": "2024-06-20T16:14:06.191Z"
   },
   {
    "duration": 7,
    "start_time": "2024-06-20T16:14:06.206Z"
   },
   {
    "duration": 11,
    "start_time": "2024-06-20T16:14:06.214Z"
   },
   {
    "duration": 11,
    "start_time": "2024-06-20T16:14:06.226Z"
   },
   {
    "duration": 3,
    "start_time": "2024-06-20T16:14:06.239Z"
   },
   {
    "duration": 130,
    "start_time": "2024-06-20T16:14:06.271Z"
   },
   {
    "duration": 6,
    "start_time": "2024-06-20T16:14:06.402Z"
   },
   {
    "duration": 7,
    "start_time": "2024-06-20T16:14:06.410Z"
   },
   {
    "duration": 148,
    "start_time": "2024-06-20T16:14:06.418Z"
   },
   {
    "duration": 6,
    "start_time": "2024-06-20T16:14:06.568Z"
   },
   {
    "duration": 40,
    "start_time": "2024-06-20T16:14:06.575Z"
   },
   {
    "duration": 68,
    "start_time": "2024-06-20T16:14:06.616Z"
   },
   {
    "duration": 123,
    "start_time": "2024-06-20T16:14:06.685Z"
   },
   {
    "duration": 4,
    "start_time": "2024-06-20T16:14:06.810Z"
   },
   {
    "duration": 149,
    "start_time": "2024-06-20T16:14:06.815Z"
   },
   {
    "duration": 33,
    "start_time": "2024-06-20T16:14:06.965Z"
   },
   {
    "duration": 9,
    "start_time": "2024-06-20T16:14:06.999Z"
   },
   {
    "duration": 3,
    "start_time": "2024-06-20T16:14:07.009Z"
   },
   {
    "duration": 6,
    "start_time": "2024-06-20T16:14:07.013Z"
   },
   {
    "duration": 82,
    "start_time": "2024-06-20T16:14:07.020Z"
   },
   {
    "duration": 102,
    "start_time": "2024-06-20T16:14:07.103Z"
   },
   {
    "duration": 3,
    "start_time": "2024-06-20T16:14:07.207Z"
   },
   {
    "duration": 60,
    "start_time": "2024-06-20T16:14:07.211Z"
   },
   {
    "duration": 6,
    "start_time": "2024-06-20T16:14:07.272Z"
   },
   {
    "duration": 10,
    "start_time": "2024-06-20T16:14:07.279Z"
   },
   {
    "duration": 133,
    "start_time": "2024-06-20T16:14:07.290Z"
   },
   {
    "duration": 27,
    "start_time": "2024-06-20T16:14:07.424Z"
   },
   {
    "duration": 25,
    "start_time": "2024-06-20T16:14:07.452Z"
   },
   {
    "duration": 24,
    "start_time": "2024-06-20T16:14:07.478Z"
   },
   {
    "duration": 15,
    "start_time": "2024-06-20T16:14:07.503Z"
   },
   {
    "duration": 5,
    "start_time": "2024-06-20T16:14:07.520Z"
   },
   {
    "duration": 8,
    "start_time": "2024-06-20T16:14:07.527Z"
   },
   {
    "duration": 5,
    "start_time": "2024-06-20T16:14:07.536Z"
   },
   {
    "duration": 22,
    "start_time": "2024-06-20T16:14:07.570Z"
   },
   {
    "duration": 86,
    "start_time": "2024-06-20T16:14:07.593Z"
   },
   {
    "duration": 803,
    "start_time": "2024-06-20T16:14:07.684Z"
   },
   {
    "duration": 1708,
    "start_time": "2024-06-20T16:14:08.489Z"
   },
   {
    "duration": 2,
    "start_time": "2024-06-20T16:14:10.199Z"
   },
   {
    "duration": 19,
    "start_time": "2024-06-20T16:14:10.203Z"
   },
   {
    "duration": 672,
    "start_time": "2024-06-20T16:14:10.223Z"
   },
   {
    "duration": 675,
    "start_time": "2024-06-20T16:14:10.896Z"
   },
   {
    "duration": 4,
    "start_time": "2024-06-20T16:14:11.572Z"
   },
   {
    "duration": 572,
    "start_time": "2024-06-20T16:14:11.577Z"
   },
   {
    "duration": 569,
    "start_time": "2024-06-20T16:14:12.150Z"
   },
   {
    "duration": 3,
    "start_time": "2024-06-20T16:14:12.720Z"
   },
   {
    "duration": 17,
    "start_time": "2024-06-20T16:14:12.724Z"
   },
   {
    "duration": 7,
    "start_time": "2024-06-20T16:14:12.742Z"
   },
   {
    "duration": 3,
    "start_time": "2024-06-20T16:14:12.770Z"
   },
   {
    "duration": 5,
    "start_time": "2024-06-20T16:14:12.780Z"
   },
   {
    "duration": 5,
    "start_time": "2024-06-20T16:14:12.786Z"
   },
   {
    "duration": 6,
    "start_time": "2024-06-20T16:14:12.793Z"
   },
   {
    "duration": 4,
    "start_time": "2024-06-20T16:14:12.801Z"
   },
   {
    "duration": 5,
    "start_time": "2024-06-20T16:14:12.807Z"
   },
   {
    "duration": 5,
    "start_time": "2024-06-20T16:14:12.813Z"
   },
   {
    "duration": 4,
    "start_time": "2024-06-20T16:14:12.871Z"
   },
   {
    "duration": 15,
    "start_time": "2024-06-20T16:14:12.877Z"
   },
   {
    "duration": 16,
    "start_time": "2024-06-20T16:14:12.894Z"
   },
   {
    "duration": 7,
    "start_time": "2024-06-20T16:14:12.912Z"
   },
   {
    "duration": 6,
    "start_time": "2024-06-20T16:14:12.921Z"
   },
   {
    "duration": 43,
    "start_time": "2024-06-20T16:14:12.928Z"
   },
   {
    "duration": 16,
    "start_time": "2024-06-20T16:14:12.973Z"
   },
   {
    "duration": 2852,
    "start_time": "2024-06-20T16:14:12.990Z"
   },
   {
    "duration": 33,
    "start_time": "2024-06-20T16:14:15.844Z"
   },
   {
    "duration": 28,
    "start_time": "2024-06-20T16:14:15.879Z"
   },
   {
    "duration": 3,
    "start_time": "2024-06-20T16:14:15.908Z"
   },
   {
    "duration": 20,
    "start_time": "2024-06-20T16:14:15.913Z"
   },
   {
    "duration": 4,
    "start_time": "2024-06-20T16:14:15.935Z"
   },
   {
    "duration": 126457,
    "start_time": "2024-06-20T16:14:15.940Z"
   },
   {
    "duration": 3,
    "start_time": "2024-06-20T16:16:22.398Z"
   },
   {
    "duration": 501,
    "start_time": "2024-06-20T16:16:22.403Z"
   },
   {
    "duration": 13,
    "start_time": "2024-06-20T16:16:22.905Z"
   },
   {
    "duration": 11,
    "start_time": "2024-06-20T16:16:22.919Z"
   },
   {
    "duration": 20,
    "start_time": "2024-06-20T16:16:22.931Z"
   },
   {
    "duration": 36,
    "start_time": "2024-06-20T16:16:22.952Z"
   },
   {
    "duration": 2,
    "start_time": "2024-06-20T16:16:22.990Z"
   },
   {
    "duration": 34,
    "start_time": "2024-06-20T16:16:22.993Z"
   },
   {
    "duration": 187,
    "start_time": "2024-06-20T16:16:23.029Z"
   },
   {
    "duration": 139,
    "start_time": "2024-06-20T16:16:23.217Z"
   },
   {
    "duration": 4,
    "start_time": "2024-06-20T16:16:23.358Z"
   },
   {
    "duration": 197,
    "start_time": "2024-06-20T16:16:23.371Z"
   },
   {
    "duration": 127,
    "start_time": "2024-06-20T16:16:23.569Z"
   },
   {
    "duration": 4,
    "start_time": "2024-06-20T16:16:23.697Z"
   },
   {
    "duration": 28,
    "start_time": "2024-06-20T16:16:23.702Z"
   },
   {
    "duration": 17,
    "start_time": "2024-06-20T16:16:23.731Z"
   },
   {
    "duration": 20,
    "start_time": "2024-06-20T16:16:23.749Z"
   },
   {
    "duration": 3,
    "start_time": "2024-06-20T16:16:23.770Z"
   },
   {
    "duration": 124,
    "start_time": "2024-06-20T16:16:23.774Z"
   },
   {
    "duration": 175,
    "start_time": "2024-06-20T16:16:23.899Z"
   },
   {
    "duration": 21,
    "start_time": "2024-06-20T16:16:24.076Z"
   },
   {
    "duration": 2630,
    "start_time": "2024-06-20T16:16:25.026Z"
   },
   {
    "duration": 2591,
    "start_time": "2024-06-20T16:16:27.659Z"
   },
   {
    "duration": 2526,
    "start_time": "2024-06-20T16:16:30.253Z"
   },
   {
    "duration": 6,
    "start_time": "2024-06-20T16:16:32.782Z"
   },
   {
    "duration": 7,
    "start_time": "2024-06-20T16:16:32.790Z"
   },
   {
    "duration": 195,
    "start_time": "2024-06-20T16:16:32.799Z"
   },
   {
    "duration": 12,
    "start_time": "2024-06-20T16:16:32.995Z"
   },
   {
    "duration": 9,
    "start_time": "2024-06-20T16:16:33.008Z"
   },
   {
    "duration": 11,
    "start_time": "2024-06-20T16:16:33.018Z"
   },
   {
    "duration": 7,
    "start_time": "2024-06-20T16:16:33.032Z"
   },
   {
    "duration": 31,
    "start_time": "2024-06-20T16:16:33.041Z"
   },
   {
    "duration": 16,
    "start_time": "2024-06-20T16:16:33.074Z"
   },
   {
    "duration": 6,
    "start_time": "2024-06-20T16:16:33.091Z"
   },
   {
    "duration": 99,
    "start_time": "2024-06-20T16:16:33.099Z"
   },
   {
    "duration": 4,
    "start_time": "2024-06-20T16:16:33.199Z"
   },
   {
    "duration": 16,
    "start_time": "2024-06-20T16:16:33.204Z"
   },
   {
    "duration": 59,
    "start_time": "2024-06-20T16:16:33.222Z"
   },
   {
    "duration": 4,
    "start_time": "2024-06-20T16:16:33.282Z"
   },
   {
    "duration": 87,
    "start_time": "2024-06-20T16:16:33.287Z"
   },
   {
    "duration": 4,
    "start_time": "2024-06-20T16:16:33.376Z"
   },
   {
    "duration": 31,
    "start_time": "2024-06-20T16:16:33.382Z"
   },
   {
    "duration": 58,
    "start_time": "2024-06-20T16:16:33.414Z"
   },
   {
    "duration": 2,
    "start_time": "2024-06-20T16:16:33.473Z"
   },
   {
    "duration": 21,
    "start_time": "2024-06-20T16:16:33.477Z"
   },
   {
    "duration": 902,
    "start_time": "2024-06-20T16:16:33.500Z"
   },
   {
    "duration": 7,
    "start_time": "2024-06-20T16:16:34.404Z"
   },
   {
    "duration": 12,
    "start_time": "2024-06-20T16:16:34.413Z"
   },
   {
    "duration": 158,
    "start_time": "2024-06-20T16:16:34.429Z"
   },
   {
    "duration": 10,
    "start_time": "2024-06-20T16:16:34.588Z"
   },
   {
    "duration": 26,
    "start_time": "2024-06-20T16:16:34.599Z"
   },
   {
    "duration": 49,
    "start_time": "2024-06-20T16:16:34.626Z"
   },
   {
    "duration": 7,
    "start_time": "2024-06-20T16:16:34.677Z"
   },
   {
    "duration": 11,
    "start_time": "2024-06-20T16:16:34.686Z"
   },
   {
    "duration": 7,
    "start_time": "2024-06-20T16:16:34.698Z"
   },
   {
    "duration": 16,
    "start_time": "2024-06-20T16:16:34.706Z"
   },
   {
    "duration": 11,
    "start_time": "2024-06-20T16:16:34.723Z"
   },
   {
    "duration": 22,
    "start_time": "2024-06-20T16:16:34.735Z"
   },
   {
    "duration": 15,
    "start_time": "2024-06-20T16:16:34.759Z"
   },
   {
    "duration": 134,
    "start_time": "2024-06-20T16:16:34.775Z"
   },
   {
    "duration": 8,
    "start_time": "2024-06-20T16:16:34.910Z"
   },
   {
    "duration": 13,
    "start_time": "2024-06-20T16:16:34.919Z"
   },
   {
    "duration": 146,
    "start_time": "2024-06-20T16:16:34.933Z"
   },
   {
    "duration": 7,
    "start_time": "2024-06-20T16:16:35.080Z"
   },
   {
    "duration": 42,
    "start_time": "2024-06-20T16:16:35.088Z"
   },
   {
    "duration": 68,
    "start_time": "2024-06-20T16:16:35.131Z"
   },
   {
    "duration": 122,
    "start_time": "2024-06-20T16:16:35.201Z"
   },
   {
    "duration": 4,
    "start_time": "2024-06-20T16:16:35.325Z"
   },
   {
    "duration": 166,
    "start_time": "2024-06-20T16:16:35.330Z"
   },
   {
    "duration": 33,
    "start_time": "2024-06-20T16:16:35.497Z"
   },
   {
    "duration": 25,
    "start_time": "2024-06-20T16:16:35.531Z"
   },
   {
    "duration": 6,
    "start_time": "2024-06-20T16:16:35.571Z"
   },
   {
    "duration": 28,
    "start_time": "2024-06-20T16:16:35.578Z"
   },
   {
    "duration": 49,
    "start_time": "2024-06-20T16:16:35.607Z"
   },
   {
    "duration": 114,
    "start_time": "2024-06-20T16:16:35.658Z"
   },
   {
    "duration": 3,
    "start_time": "2024-06-20T16:16:35.773Z"
   },
   {
    "duration": 41,
    "start_time": "2024-06-20T16:16:35.778Z"
   },
   {
    "duration": 63,
    "start_time": "2024-06-20T16:16:35.820Z"
   },
   {
    "duration": 3,
    "start_time": "2024-06-20T16:16:35.884Z"
   },
   {
    "duration": 120,
    "start_time": "2024-06-20T16:16:35.889Z"
   },
   {
    "duration": 65,
    "start_time": "2024-06-20T16:16:36.011Z"
   },
   {
    "duration": 4,
    "start_time": "2024-06-20T16:16:36.077Z"
   },
   {
    "duration": 24,
    "start_time": "2024-06-20T16:16:36.082Z"
   },
   {
    "duration": 15,
    "start_time": "2024-06-20T16:16:36.107Z"
   },
   {
    "duration": 38,
    "start_time": "2024-06-20T16:16:36.123Z"
   },
   {
    "duration": 5,
    "start_time": "2024-06-20T16:16:36.171Z"
   },
   {
    "duration": 25,
    "start_time": "2024-06-20T16:16:36.177Z"
   },
   {
    "duration": 49,
    "start_time": "2024-06-20T16:16:36.204Z"
   },
   {
    "duration": 61,
    "start_time": "2024-06-20T16:16:36.254Z"
   },
   {
    "duration": 779,
    "start_time": "2024-06-20T16:16:36.317Z"
   },
   {
    "duration": 1670,
    "start_time": "2024-06-20T16:16:37.098Z"
   },
   {
    "duration": 2,
    "start_time": "2024-06-20T16:16:38.771Z"
   },
   {
    "duration": 13,
    "start_time": "2024-06-20T16:16:38.774Z"
   },
   {
    "duration": 839,
    "start_time": "2024-06-20T16:16:38.788Z"
   },
   {
    "duration": 678,
    "start_time": "2024-06-20T16:16:39.629Z"
   },
   {
    "duration": 3,
    "start_time": "2024-06-20T16:16:40.308Z"
   },
   {
    "duration": 585,
    "start_time": "2024-06-20T16:16:40.312Z"
   },
   {
    "duration": 583,
    "start_time": "2024-06-20T16:16:40.898Z"
   },
   {
    "duration": 2,
    "start_time": "2024-06-20T16:16:41.482Z"
   },
   {
    "duration": 55,
    "start_time": "2024-06-20T16:16:41.485Z"
   },
   {
    "duration": 10,
    "start_time": "2024-06-20T16:16:41.541Z"
   },
   {
    "duration": 7,
    "start_time": "2024-06-20T16:16:41.553Z"
   },
   {
    "duration": 5,
    "start_time": "2024-06-20T16:16:41.566Z"
   },
   {
    "duration": 17,
    "start_time": "2024-06-20T16:16:41.572Z"
   },
   {
    "duration": 5,
    "start_time": "2024-06-20T16:16:41.590Z"
   },
   {
    "duration": 20,
    "start_time": "2024-06-20T16:16:41.596Z"
   },
   {
    "duration": 4,
    "start_time": "2024-06-20T16:16:41.618Z"
   },
   {
    "duration": 20,
    "start_time": "2024-06-20T16:16:41.623Z"
   },
   {
    "duration": 13,
    "start_time": "2024-06-20T16:16:41.644Z"
   },
   {
    "duration": 7,
    "start_time": "2024-06-20T16:16:41.658Z"
   },
   {
    "duration": 13,
    "start_time": "2024-06-20T16:16:41.667Z"
   },
   {
    "duration": 26,
    "start_time": "2024-06-20T16:16:41.682Z"
   },
   {
    "duration": 15,
    "start_time": "2024-06-20T16:16:41.710Z"
   },
   {
    "duration": 27,
    "start_time": "2024-06-20T16:16:41.726Z"
   },
   {
    "duration": 13,
    "start_time": "2024-06-20T16:16:41.755Z"
   },
   {
    "duration": 2876,
    "start_time": "2024-06-20T16:16:41.769Z"
   },
   {
    "duration": 34,
    "start_time": "2024-06-20T16:16:44.646Z"
   },
   {
    "duration": 27,
    "start_time": "2024-06-20T16:16:44.682Z"
   },
   {
    "duration": 3,
    "start_time": "2024-06-20T16:16:44.710Z"
   },
   {
    "duration": 17,
    "start_time": "2024-06-20T16:16:44.714Z"
   },
   {
    "duration": 3,
    "start_time": "2024-06-20T16:16:44.732Z"
   },
   {
    "duration": 2654,
    "start_time": "2024-06-20T16:20:30.553Z"
   },
   {
    "duration": 2568,
    "start_time": "2024-06-20T16:20:33.209Z"
   },
   {
    "duration": 2534,
    "start_time": "2024-06-20T16:20:35.779Z"
   },
   {
    "duration": 1439,
    "start_time": "2024-06-20T16:20:38.316Z"
   },
   {
    "duration": 2,
    "start_time": "2024-06-20T16:20:39.757Z"
   },
   {
    "duration": 212,
    "start_time": "2024-06-20T16:20:39.760Z"
   },
   {
    "duration": 17,
    "start_time": "2024-06-20T16:20:39.973Z"
   },
   {
    "duration": 8,
    "start_time": "2024-06-20T16:20:39.992Z"
   },
   {
    "duration": 20,
    "start_time": "2024-06-20T16:20:40.001Z"
   },
   {
    "duration": 14,
    "start_time": "2024-06-20T16:20:40.023Z"
   },
   {
    "duration": 33,
    "start_time": "2024-06-20T16:20:40.038Z"
   },
   {
    "duration": 13,
    "start_time": "2024-06-20T16:20:40.073Z"
   },
   {
    "duration": 4,
    "start_time": "2024-06-20T16:20:40.087Z"
   },
   {
    "duration": 91,
    "start_time": "2024-06-20T16:20:40.092Z"
   },
   {
    "duration": 3,
    "start_time": "2024-06-20T16:20:40.184Z"
   },
   {
    "duration": 7,
    "start_time": "2024-06-20T16:20:40.188Z"
   },
   {
    "duration": 29,
    "start_time": "2024-06-20T16:20:40.196Z"
   },
   {
    "duration": 3,
    "start_time": "2024-06-20T16:20:40.275Z"
   },
   {
    "duration": 32,
    "start_time": "2024-06-20T16:20:40.280Z"
   },
   {
    "duration": 3,
    "start_time": "2024-06-20T16:20:40.313Z"
   },
   {
    "duration": 77,
    "start_time": "2024-06-20T16:20:40.317Z"
   },
   {
    "duration": 9,
    "start_time": "2024-06-20T16:20:40.395Z"
   },
   {
    "duration": 3,
    "start_time": "2024-06-20T16:20:40.405Z"
   },
   {
    "duration": 4,
    "start_time": "2024-06-20T16:20:40.410Z"
   },
   {
    "duration": 899,
    "start_time": "2024-06-20T16:20:40.415Z"
   },
   {
    "duration": 8,
    "start_time": "2024-06-20T16:20:41.315Z"
   },
   {
    "duration": 11,
    "start_time": "2024-06-20T16:20:41.325Z"
   },
   {
    "duration": 378,
    "start_time": "2024-06-20T16:20:41.340Z"
   },
   {
    "duration": 11,
    "start_time": "2024-06-20T16:20:41.719Z"
   },
   {
    "duration": 65,
    "start_time": "2024-06-20T16:20:41.731Z"
   },
   {
    "duration": 10,
    "start_time": "2024-06-20T16:20:41.797Z"
   },
   {
    "duration": 5,
    "start_time": "2024-06-20T16:20:41.808Z"
   },
   {
    "duration": 57,
    "start_time": "2024-06-20T16:20:41.814Z"
   },
   {
    "duration": 9,
    "start_time": "2024-06-20T16:20:41.873Z"
   },
   {
    "duration": 5,
    "start_time": "2024-06-20T16:20:41.883Z"
   },
   {
    "duration": 10,
    "start_time": "2024-06-20T16:20:41.889Z"
   },
   {
    "duration": 13,
    "start_time": "2024-06-20T16:20:41.901Z"
   },
   {
    "duration": 4,
    "start_time": "2024-06-20T16:20:41.916Z"
   },
   {
    "duration": 453,
    "start_time": "2024-06-20T16:20:41.922Z"
   },
   {
    "duration": 6,
    "start_time": "2024-06-20T16:20:42.377Z"
   },
   {
    "duration": 12,
    "start_time": "2024-06-20T16:20:42.384Z"
   },
   {
    "duration": 128,
    "start_time": "2024-06-20T16:20:42.397Z"
   },
   {
    "duration": 5,
    "start_time": "2024-06-20T16:20:42.526Z"
   },
   {
    "duration": 56,
    "start_time": "2024-06-20T16:20:42.533Z"
   },
   {
    "duration": 33,
    "start_time": "2024-06-20T16:20:42.590Z"
   },
   {
    "duration": 110,
    "start_time": "2024-06-20T16:20:42.624Z"
   },
   {
    "duration": 38,
    "start_time": "2024-06-20T16:20:42.736Z"
   },
   {
    "duration": 140,
    "start_time": "2024-06-20T16:20:42.775Z"
   },
   {
    "duration": 34,
    "start_time": "2024-06-20T16:20:42.916Z"
   },
   {
    "duration": 12,
    "start_time": "2024-06-20T16:20:42.971Z"
   },
   {
    "duration": 7,
    "start_time": "2024-06-20T16:20:42.985Z"
   },
   {
    "duration": 14,
    "start_time": "2024-06-20T16:20:42.993Z"
   },
   {
    "duration": 65,
    "start_time": "2024-06-20T16:20:43.009Z"
   },
   {
    "duration": 128,
    "start_time": "2024-06-20T16:20:43.075Z"
   },
   {
    "duration": 4,
    "start_time": "2024-06-20T16:20:43.204Z"
   },
   {
    "duration": 71,
    "start_time": "2024-06-20T16:20:43.209Z"
   },
   {
    "duration": 16,
    "start_time": "2024-06-20T16:20:43.282Z"
   },
   {
    "duration": 2,
    "start_time": "2024-06-20T16:20:43.300Z"
   },
   {
    "duration": 140,
    "start_time": "2024-06-20T16:20:43.304Z"
   },
   {
    "duration": 66,
    "start_time": "2024-06-20T16:20:43.445Z"
   },
   {
    "duration": 3,
    "start_time": "2024-06-20T16:20:43.513Z"
   },
   {
    "duration": 19,
    "start_time": "2024-06-20T16:20:43.518Z"
   },
   {
    "duration": 15,
    "start_time": "2024-06-20T16:20:43.571Z"
   },
   {
    "duration": 5,
    "start_time": "2024-06-20T16:20:43.587Z"
   },
   {
    "duration": 41,
    "start_time": "2024-06-20T16:20:43.593Z"
   },
   {
    "duration": 16,
    "start_time": "2024-06-20T16:20:43.635Z"
   },
   {
    "duration": 30,
    "start_time": "2024-06-20T16:20:43.652Z"
   },
   {
    "duration": 61,
    "start_time": "2024-06-20T16:20:43.683Z"
   },
   {
    "duration": 829,
    "start_time": "2024-06-20T16:20:43.746Z"
   },
   {
    "duration": 1817,
    "start_time": "2024-06-20T16:20:44.576Z"
   },
   {
    "duration": 3,
    "start_time": "2024-06-20T16:20:46.394Z"
   },
   {
    "duration": 6,
    "start_time": "2024-06-20T16:20:46.398Z"
   },
   {
    "duration": 719,
    "start_time": "2024-06-20T16:20:46.405Z"
   },
   {
    "duration": 701,
    "start_time": "2024-06-20T16:20:47.126Z"
   },
   {
    "duration": 4,
    "start_time": "2024-06-20T16:20:47.828Z"
   },
   {
    "duration": 617,
    "start_time": "2024-06-20T16:20:47.834Z"
   },
   {
    "duration": 590,
    "start_time": "2024-06-20T16:20:48.453Z"
   },
   {
    "duration": 2,
    "start_time": "2024-06-20T16:20:49.045Z"
   },
   {
    "duration": 23,
    "start_time": "2024-06-20T16:20:49.049Z"
   },
   {
    "duration": 5,
    "start_time": "2024-06-20T16:20:49.074Z"
   },
   {
    "duration": 3,
    "start_time": "2024-06-20T16:20:49.081Z"
   },
   {
    "duration": 7,
    "start_time": "2024-06-20T16:20:49.094Z"
   },
   {
    "duration": 7,
    "start_time": "2024-06-20T16:20:49.103Z"
   },
   {
    "duration": 59,
    "start_time": "2024-06-20T16:20:49.112Z"
   },
   {
    "duration": 6,
    "start_time": "2024-06-20T16:20:49.173Z"
   },
   {
    "duration": 6,
    "start_time": "2024-06-20T16:20:49.180Z"
   },
   {
    "duration": 8,
    "start_time": "2024-06-20T16:20:49.187Z"
   },
   {
    "duration": 7,
    "start_time": "2024-06-20T16:20:49.196Z"
   },
   {
    "duration": 5,
    "start_time": "2024-06-20T16:20:49.204Z"
   },
   {
    "duration": 62,
    "start_time": "2024-06-20T16:20:49.211Z"
   },
   {
    "duration": 8,
    "start_time": "2024-06-20T16:20:49.275Z"
   },
   {
    "duration": 6,
    "start_time": "2024-06-20T16:20:49.284Z"
   },
   {
    "duration": 8,
    "start_time": "2024-06-20T16:20:49.291Z"
   },
   {
    "duration": 18,
    "start_time": "2024-06-20T16:20:49.300Z"
   },
   {
    "duration": 2971,
    "start_time": "2024-06-20T16:20:49.320Z"
   },
   {
    "duration": 18,
    "start_time": "2024-06-20T16:20:52.293Z"
   },
   {
    "duration": 35,
    "start_time": "2024-06-20T16:20:52.312Z"
   },
   {
    "duration": 2,
    "start_time": "2024-06-20T16:20:52.348Z"
   },
   {
    "duration": 17,
    "start_time": "2024-06-20T16:20:52.371Z"
   },
   {
    "duration": 3,
    "start_time": "2024-06-20T16:20:52.390Z"
   },
   {
    "duration": 130170,
    "start_time": "2024-06-20T16:20:52.394Z"
   },
   {
    "duration": 2,
    "start_time": "2024-06-20T16:23:02.572Z"
   },
   {
    "duration": 544,
    "start_time": "2024-06-20T16:23:02.576Z"
   },
   {
    "duration": 15,
    "start_time": "2024-06-20T16:23:03.121Z"
   },
   {
    "duration": 3,
    "start_time": "2024-06-20T16:23:03.137Z"
   },
   {
    "duration": 33,
    "start_time": "2024-06-20T16:23:03.141Z"
   },
   {
    "duration": 22,
    "start_time": "2024-06-20T16:23:03.176Z"
   },
   {
    "duration": 3,
    "start_time": "2024-06-20T16:23:03.199Z"
   },
   {
    "duration": 19,
    "start_time": "2024-06-20T16:23:03.203Z"
   },
   {
    "duration": 186,
    "start_time": "2024-06-20T16:23:03.224Z"
   },
   {
    "duration": 137,
    "start_time": "2024-06-20T16:23:03.412Z"
   },
   {
    "duration": 5,
    "start_time": "2024-06-20T16:23:03.551Z"
   },
   {
    "duration": 203,
    "start_time": "2024-06-20T16:23:03.557Z"
   },
   {
    "duration": 126,
    "start_time": "2024-06-20T16:23:03.761Z"
   },
   {
    "duration": 4,
    "start_time": "2024-06-20T16:23:03.888Z"
   },
   {
    "duration": 7,
    "start_time": "2024-06-20T16:23:03.893Z"
   },
   {
    "duration": 5,
    "start_time": "2024-06-20T16:23:03.901Z"
   },
   {
    "duration": 16,
    "start_time": "2024-06-20T16:23:03.908Z"
   },
   {
    "duration": 3,
    "start_time": "2024-06-20T16:23:03.926Z"
   },
   {
    "duration": 41,
    "start_time": "2024-06-20T16:23:03.930Z"
   },
   {
    "duration": 183,
    "start_time": "2024-06-20T16:23:03.972Z"
   },
   {
    "duration": 29,
    "start_time": "2024-06-20T16:23:04.156Z"
   },
   {
    "duration": 7,
    "start_time": "2024-06-20T16:23:04.186Z"
   },
   {
    "duration": 7,
    "start_time": "2024-06-20T16:23:04.194Z"
   },
   {
    "duration": 5,
    "start_time": "2024-06-20T16:23:04.202Z"
   },
   {
    "duration": 9,
    "start_time": "2024-06-20T16:23:04.208Z"
   },
   {
    "duration": 53,
    "start_time": "2024-06-20T16:23:04.218Z"
   },
   {
    "duration": 109,
    "start_time": "2024-06-20T16:23:04.273Z"
   },
   {
    "duration": 93,
    "start_time": "2024-06-20T16:23:04.487Z"
   },
   {
    "duration": 54,
    "start_time": "2024-06-20T16:23:13.019Z"
   },
   {
    "duration": 64,
    "start_time": "2024-06-20T16:24:55.308Z"
   },
   {
    "duration": 57,
    "start_time": "2024-06-20T16:25:00.062Z"
   },
   {
    "duration": 55,
    "start_time": "2024-06-20T16:25:13.887Z"
   },
   {
    "duration": 112,
    "start_time": "2024-06-20T16:26:30.287Z"
   },
   {
    "duration": 110,
    "start_time": "2024-06-20T16:26:54.841Z"
   },
   {
    "duration": 3,
    "start_time": "2024-06-20T16:39:39.263Z"
   },
   {
    "duration": 4,
    "start_time": "2024-06-20T16:39:39.578Z"
   },
   {
    "duration": 30,
    "start_time": "2024-06-20T16:39:39.865Z"
   },
   {
    "duration": 3,
    "start_time": "2024-06-20T16:39:45.580Z"
   },
   {
    "duration": 4,
    "start_time": "2024-06-20T16:39:45.926Z"
   },
   {
    "duration": 24,
    "start_time": "2024-06-20T16:39:46.225Z"
   },
   {
    "duration": 3,
    "start_time": "2024-06-20T16:40:48.654Z"
   },
   {
    "duration": 5,
    "start_time": "2024-06-20T16:40:48.981Z"
   },
   {
    "duration": 27,
    "start_time": "2024-06-20T16:40:49.284Z"
   },
   {
    "duration": 3,
    "start_time": "2024-06-20T16:40:55.025Z"
   },
   {
    "duration": 26,
    "start_time": "2024-06-20T16:40:55.303Z"
   },
   {
    "duration": 3,
    "start_time": "2024-06-20T16:41:52.688Z"
   },
   {
    "duration": 4,
    "start_time": "2024-06-20T16:41:53.004Z"
   },
   {
    "duration": 26,
    "start_time": "2024-06-20T16:41:53.242Z"
   },
   {
    "duration": 2585,
    "start_time": "2024-06-20T16:44:53.821Z"
   },
   {
    "duration": 2588,
    "start_time": "2024-06-20T16:44:56.408Z"
   },
   {
    "duration": 2690,
    "start_time": "2024-06-20T16:44:58.997Z"
   },
   {
    "duration": 1494,
    "start_time": "2024-06-20T16:45:01.689Z"
   },
   {
    "duration": 2,
    "start_time": "2024-06-20T16:45:03.184Z"
   },
   {
    "duration": 416,
    "start_time": "2024-06-20T16:45:03.188Z"
   },
   {
    "duration": 15,
    "start_time": "2024-06-20T16:45:03.605Z"
   },
   {
    "duration": 16,
    "start_time": "2024-06-20T16:45:03.622Z"
   },
   {
    "duration": 31,
    "start_time": "2024-06-20T16:45:03.640Z"
   },
   {
    "duration": 31,
    "start_time": "2024-06-20T16:45:03.674Z"
   },
   {
    "duration": 30,
    "start_time": "2024-06-20T16:45:03.706Z"
   },
   {
    "duration": 28,
    "start_time": "2024-06-20T16:45:03.738Z"
   },
   {
    "duration": 7,
    "start_time": "2024-06-20T16:45:03.767Z"
   },
   {
    "duration": 77,
    "start_time": "2024-06-20T16:45:03.775Z"
   },
   {
    "duration": 3,
    "start_time": "2024-06-20T16:45:03.853Z"
   },
   {
    "duration": 18,
    "start_time": "2024-06-20T16:45:03.858Z"
   },
   {
    "duration": 51,
    "start_time": "2024-06-20T16:45:03.877Z"
   },
   {
    "duration": 63,
    "start_time": "2024-06-20T16:45:03.929Z"
   },
   {
    "duration": 11,
    "start_time": "2024-06-20T16:45:03.993Z"
   },
   {
    "duration": 41,
    "start_time": "2024-06-20T16:45:04.005Z"
   },
   {
    "duration": 61,
    "start_time": "2024-06-20T16:45:04.047Z"
   },
   {
    "duration": 8,
    "start_time": "2024-06-20T16:45:04.109Z"
   },
   {
    "duration": 62,
    "start_time": "2024-06-20T16:45:04.118Z"
   },
   {
    "duration": 11,
    "start_time": "2024-06-20T16:45:04.181Z"
   },
   {
    "duration": 20,
    "start_time": "2024-06-20T16:45:04.193Z"
   },
   {
    "duration": 23,
    "start_time": "2024-06-20T16:45:04.214Z"
   },
   {
    "duration": 895,
    "start_time": "2024-06-20T16:45:04.239Z"
   },
   {
    "duration": 5,
    "start_time": "2024-06-20T16:45:05.138Z"
   },
   {
    "duration": 27,
    "start_time": "2024-06-20T16:45:05.144Z"
   },
   {
    "duration": 400,
    "start_time": "2024-06-20T16:45:05.173Z"
   },
   {
    "duration": 9,
    "start_time": "2024-06-20T16:45:05.575Z"
   },
   {
    "duration": 93,
    "start_time": "2024-06-20T16:45:05.585Z"
   },
   {
    "duration": 13,
    "start_time": "2024-06-20T16:45:05.679Z"
   },
   {
    "duration": 12,
    "start_time": "2024-06-20T16:45:05.693Z"
   },
   {
    "duration": 16,
    "start_time": "2024-06-20T16:45:05.706Z"
   },
   {
    "duration": 50,
    "start_time": "2024-06-20T16:45:05.723Z"
   },
   {
    "duration": 24,
    "start_time": "2024-06-20T16:45:05.774Z"
   },
   {
    "duration": 29,
    "start_time": "2024-06-20T16:45:05.799Z"
   },
   {
    "duration": 56,
    "start_time": "2024-06-20T16:45:05.830Z"
   },
   {
    "duration": 8,
    "start_time": "2024-06-20T16:45:05.887Z"
   },
   {
    "duration": 249,
    "start_time": "2024-06-20T16:45:05.896Z"
   },
   {
    "duration": 26,
    "start_time": "2024-06-20T16:45:06.147Z"
   },
   {
    "duration": 50,
    "start_time": "2024-06-20T16:45:06.174Z"
   },
   {
    "duration": 130,
    "start_time": "2024-06-20T16:45:06.226Z"
   },
   {
    "duration": 5,
    "start_time": "2024-06-20T16:45:06.358Z"
   },
   {
    "duration": 67,
    "start_time": "2024-06-20T16:45:06.371Z"
   },
   {
    "duration": 41,
    "start_time": "2024-06-20T16:45:06.439Z"
   },
   {
    "duration": 105,
    "start_time": "2024-06-20T16:45:06.481Z"
   },
   {
    "duration": 4,
    "start_time": "2024-06-20T16:45:06.588Z"
   },
   {
    "duration": 133,
    "start_time": "2024-06-20T16:45:06.594Z"
   },
   {
    "duration": 43,
    "start_time": "2024-06-20T16:45:06.728Z"
   },
   {
    "duration": 9,
    "start_time": "2024-06-20T16:45:06.772Z"
   },
   {
    "duration": 39,
    "start_time": "2024-06-20T16:45:06.783Z"
   },
   {
    "duration": 36,
    "start_time": "2024-06-20T16:45:06.823Z"
   },
   {
    "duration": 91,
    "start_time": "2024-06-20T16:45:06.861Z"
   },
   {
    "duration": 79,
    "start_time": "2024-06-20T16:45:06.954Z"
   },
   {
    "duration": 3,
    "start_time": "2024-06-20T16:45:07.035Z"
   },
   {
    "duration": 101,
    "start_time": "2024-06-20T16:45:07.039Z"
   },
   {
    "duration": 54,
    "start_time": "2024-06-20T16:45:07.141Z"
   },
   {
    "duration": 14,
    "start_time": "2024-06-20T16:45:07.197Z"
   },
   {
    "duration": 118,
    "start_time": "2024-06-20T16:45:07.212Z"
   },
   {
    "duration": 58,
    "start_time": "2024-06-20T16:45:07.331Z"
   },
   {
    "duration": 4,
    "start_time": "2024-06-20T16:45:07.390Z"
   },
   {
    "duration": 20,
    "start_time": "2024-06-20T16:45:07.395Z"
   },
   {
    "duration": 40,
    "start_time": "2024-06-20T16:45:07.416Z"
   },
   {
    "duration": 15,
    "start_time": "2024-06-20T16:45:07.457Z"
   },
   {
    "duration": 21,
    "start_time": "2024-06-20T16:45:07.473Z"
   },
   {
    "duration": 61,
    "start_time": "2024-06-20T16:45:07.495Z"
   },
   {
    "duration": 76,
    "start_time": "2024-06-20T16:45:07.558Z"
   },
   {
    "duration": 70,
    "start_time": "2024-06-20T16:45:07.636Z"
   },
   {
    "duration": 689,
    "start_time": "2024-06-20T16:45:07.707Z"
   },
   {
    "duration": 1606,
    "start_time": "2024-06-20T16:45:08.398Z"
   },
   {
    "duration": 3,
    "start_time": "2024-06-20T16:45:10.005Z"
   },
   {
    "duration": 32,
    "start_time": "2024-06-20T16:45:10.009Z"
   },
   {
    "duration": 610,
    "start_time": "2024-06-20T16:45:10.042Z"
   },
   {
    "duration": 596,
    "start_time": "2024-06-20T16:45:10.654Z"
   },
   {
    "duration": 4,
    "start_time": "2024-06-20T16:45:11.252Z"
   },
   {
    "duration": 544,
    "start_time": "2024-06-20T16:45:11.257Z"
   },
   {
    "duration": 496,
    "start_time": "2024-06-20T16:45:11.802Z"
   },
   {
    "duration": 3,
    "start_time": "2024-06-20T16:45:12.299Z"
   },
   {
    "duration": 34,
    "start_time": "2024-06-20T16:45:12.303Z"
   },
   {
    "duration": 21,
    "start_time": "2024-06-20T16:45:12.342Z"
   },
   {
    "duration": 22,
    "start_time": "2024-06-20T16:45:12.364Z"
   },
   {
    "duration": 6,
    "start_time": "2024-06-20T16:45:12.387Z"
   },
   {
    "duration": 9,
    "start_time": "2024-06-20T16:45:12.394Z"
   },
   {
    "duration": 9,
    "start_time": "2024-06-20T16:45:12.404Z"
   },
   {
    "duration": 11,
    "start_time": "2024-06-20T16:45:12.414Z"
   },
   {
    "duration": 7,
    "start_time": "2024-06-20T16:45:12.427Z"
   },
   {
    "duration": 4,
    "start_time": "2024-06-20T16:45:12.435Z"
   },
   {
    "duration": 15,
    "start_time": "2024-06-20T16:45:12.440Z"
   },
   {
    "duration": 16,
    "start_time": "2024-06-20T16:45:12.456Z"
   },
   {
    "duration": 26,
    "start_time": "2024-06-20T16:45:12.473Z"
   },
   {
    "duration": 14,
    "start_time": "2024-06-20T16:45:12.500Z"
   },
   {
    "duration": 5,
    "start_time": "2024-06-20T16:45:12.515Z"
   },
   {
    "duration": 8,
    "start_time": "2024-06-20T16:45:12.521Z"
   },
   {
    "duration": 39,
    "start_time": "2024-06-20T16:45:12.531Z"
   },
   {
    "duration": 2298,
    "start_time": "2024-06-20T16:45:12.571Z"
   },
   {
    "duration": 19,
    "start_time": "2024-06-20T16:45:14.871Z"
   },
   {
    "duration": 37,
    "start_time": "2024-06-20T16:45:14.891Z"
   },
   {
    "duration": 41,
    "start_time": "2024-06-20T16:45:14.929Z"
   },
   {
    "duration": 15,
    "start_time": "2024-06-20T16:45:14.971Z"
   },
   {
    "duration": 4,
    "start_time": "2024-06-20T16:45:14.987Z"
   },
   {
    "duration": 116482,
    "start_time": "2024-06-20T16:45:14.992Z"
   },
   {
    "duration": 3,
    "start_time": "2024-06-20T16:47:11.475Z"
   },
   {
    "duration": 497,
    "start_time": "2024-06-20T16:47:11.479Z"
   },
   {
    "duration": 14,
    "start_time": "2024-06-20T16:47:11.977Z"
   },
   {
    "duration": 14,
    "start_time": "2024-06-20T16:47:11.993Z"
   },
   {
    "duration": 11,
    "start_time": "2024-06-20T16:47:12.008Z"
   },
   {
    "duration": 21,
    "start_time": "2024-06-20T16:47:12.020Z"
   },
   {
    "duration": 29,
    "start_time": "2024-06-20T16:47:12.042Z"
   },
   {
    "duration": 12,
    "start_time": "2024-06-20T16:47:12.073Z"
   },
   {
    "duration": 172,
    "start_time": "2024-06-20T16:47:12.086Z"
   },
   {
    "duration": 134,
    "start_time": "2024-06-20T16:47:12.259Z"
   },
   {
    "duration": 4,
    "start_time": "2024-06-20T16:47:12.394Z"
   },
   {
    "duration": 200,
    "start_time": "2024-06-20T16:47:12.399Z"
   },
   {
    "duration": 124,
    "start_time": "2024-06-20T16:47:12.600Z"
   },
   {
    "duration": 4,
    "start_time": "2024-06-20T16:47:12.725Z"
   },
   {
    "duration": 22,
    "start_time": "2024-06-20T16:47:12.731Z"
   },
   {
    "duration": 7,
    "start_time": "2024-06-20T16:47:12.754Z"
   },
   {
    "duration": 16,
    "start_time": "2024-06-20T16:47:12.771Z"
   },
   {
    "duration": 10,
    "start_time": "2024-06-20T16:47:12.788Z"
   },
   {
    "duration": 5,
    "start_time": "2024-06-20T16:47:12.799Z"
   },
   {
    "duration": 162,
    "start_time": "2024-06-20T16:47:12.805Z"
   },
   {
    "duration": 25,
    "start_time": "2024-06-20T16:47:12.968Z"
   },
   {
    "duration": 3,
    "start_time": "2024-06-20T16:47:12.994Z"
   },
   {
    "duration": 6,
    "start_time": "2024-06-20T16:47:12.998Z"
   },
   {
    "duration": 16,
    "start_time": "2024-06-20T16:47:13.005Z"
   },
   {
    "duration": 51,
    "start_time": "2024-06-20T16:47:13.023Z"
   },
   {
    "duration": 114,
    "start_time": "2024-06-20T16:47:13.075Z"
   },
   {
    "duration": 62,
    "start_time": "2024-06-20T16:55:46.806Z"
   },
   {
    "duration": 69,
    "start_time": "2024-06-20T16:56:23.892Z"
   },
   {
    "duration": 189,
    "start_time": "2024-06-20T16:56:55.389Z"
   },
   {
    "duration": 63,
    "start_time": "2024-06-20T16:57:03.653Z"
   },
   {
    "duration": 17,
    "start_time": "2024-06-20T16:58:02.528Z"
   },
   {
    "duration": 14,
    "start_time": "2024-06-20T16:58:20.242Z"
   },
   {
    "duration": 10,
    "start_time": "2024-06-20T16:58:43.860Z"
   },
   {
    "duration": 69,
    "start_time": "2024-06-20T16:59:21.486Z"
   },
   {
    "duration": 68,
    "start_time": "2024-06-20T17:01:19.423Z"
   },
   {
    "duration": 14,
    "start_time": "2024-06-20T17:02:54.805Z"
   },
   {
    "duration": 3,
    "start_time": "2024-06-20T17:03:10.757Z"
   },
   {
    "duration": 116,
    "start_time": "2024-06-20T17:03:11.360Z"
   },
   {
    "duration": 6,
    "start_time": "2024-06-20T17:03:11.677Z"
   },
   {
    "duration": 36,
    "start_time": "2024-06-20T17:03:12.038Z"
   },
   {
    "duration": 14,
    "start_time": "2024-06-20T17:03:12.261Z"
   },
   {
    "duration": 60,
    "start_time": "2024-06-20T17:03:12.526Z"
   },
   {
    "duration": 69,
    "start_time": "2024-06-20T17:04:12.841Z"
   },
   {
    "duration": 177,
    "start_time": "2024-06-20T17:04:25.347Z"
   },
   {
    "duration": 5,
    "start_time": "2024-06-20T17:04:34.845Z"
   },
   {
    "duration": 104,
    "start_time": "2024-06-20T17:04:35.152Z"
   },
   {
    "duration": 75,
    "start_time": "2024-06-20T17:04:37.989Z"
   },
   {
    "duration": 14,
    "start_time": "2024-06-20T17:06:27.206Z"
   },
   {
    "duration": 69,
    "start_time": "2024-06-20T17:06:37.478Z"
   },
   {
    "duration": 72,
    "start_time": "2024-06-20T17:07:23.175Z"
   },
   {
    "duration": 74,
    "start_time": "2024-06-20T17:07:24.383Z"
   },
   {
    "duration": 14,
    "start_time": "2024-06-20T17:08:03.814Z"
   },
   {
    "duration": 2,
    "start_time": "2024-06-20T17:08:12.597Z"
   },
   {
    "duration": 109,
    "start_time": "2024-06-20T17:08:12.702Z"
   },
   {
    "duration": 5,
    "start_time": "2024-06-20T17:08:12.939Z"
   },
   {
    "duration": 47,
    "start_time": "2024-06-20T17:08:13.233Z"
   },
   {
    "duration": 14,
    "start_time": "2024-06-20T17:08:13.463Z"
   },
   {
    "duration": 63,
    "start_time": "2024-06-20T17:08:13.644Z"
   },
   {
    "duration": 5,
    "start_time": "2024-06-20T17:08:13.874Z"
   },
   {
    "duration": 105,
    "start_time": "2024-06-20T17:08:14.102Z"
   },
   {
    "duration": 15,
    "start_time": "2024-06-20T17:08:14.348Z"
   },
   {
    "duration": 8,
    "start_time": "2024-06-20T17:08:14.604Z"
   },
   {
    "duration": 3,
    "start_time": "2024-06-20T17:08:15.633Z"
   },
   {
    "duration": 4,
    "start_time": "2024-06-20T17:08:15.847Z"
   },
   {
    "duration": 15,
    "start_time": "2024-06-20T17:08:15.908Z"
   },
   {
    "duration": 74,
    "start_time": "2024-06-20T17:08:15.979Z"
   },
   {
    "duration": 2661,
    "start_time": "2024-06-20T17:08:27.982Z"
   },
   {
    "duration": 2572,
    "start_time": "2024-06-20T17:08:30.645Z"
   },
   {
    "duration": 2583,
    "start_time": "2024-06-20T17:08:33.220Z"
   },
   {
    "duration": 1485,
    "start_time": "2024-06-20T17:08:35.806Z"
   },
   {
    "duration": 2,
    "start_time": "2024-06-20T17:08:37.293Z"
   },
   {
    "duration": 247,
    "start_time": "2024-06-20T17:08:37.296Z"
   },
   {
    "duration": 16,
    "start_time": "2024-06-20T17:08:37.544Z"
   },
   {
    "duration": 6,
    "start_time": "2024-06-20T17:08:37.562Z"
   },
   {
    "duration": 7,
    "start_time": "2024-06-20T17:08:37.570Z"
   },
   {
    "duration": 15,
    "start_time": "2024-06-20T17:08:37.580Z"
   },
   {
    "duration": 12,
    "start_time": "2024-06-20T17:08:37.596Z"
   },
   {
    "duration": 13,
    "start_time": "2024-06-20T17:08:37.609Z"
   },
   {
    "duration": 5,
    "start_time": "2024-06-20T17:08:37.623Z"
   },
   {
    "duration": 75,
    "start_time": "2024-06-20T17:08:37.629Z"
   },
   {
    "duration": 3,
    "start_time": "2024-06-20T17:08:37.705Z"
   },
   {
    "duration": 5,
    "start_time": "2024-06-20T17:08:37.710Z"
   },
   {
    "duration": 9,
    "start_time": "2024-06-20T17:08:37.716Z"
   },
   {
    "duration": 78,
    "start_time": "2024-06-20T17:08:37.726Z"
   },
   {
    "duration": 4,
    "start_time": "2024-06-20T17:08:37.805Z"
   },
   {
    "duration": 21,
    "start_time": "2024-06-20T17:08:37.810Z"
   },
   {
    "duration": 65,
    "start_time": "2024-06-20T17:08:37.833Z"
   },
   {
    "duration": 3,
    "start_time": "2024-06-20T17:08:37.899Z"
   },
   {
    "duration": 80,
    "start_time": "2024-06-20T17:08:37.903Z"
   },
   {
    "duration": 11,
    "start_time": "2024-06-20T17:08:37.984Z"
   },
   {
    "duration": 5,
    "start_time": "2024-06-20T17:08:37.996Z"
   },
   {
    "duration": 7,
    "start_time": "2024-06-20T17:08:38.002Z"
   },
   {
    "duration": 882,
    "start_time": "2024-06-20T17:08:38.011Z"
   },
   {
    "duration": 7,
    "start_time": "2024-06-20T17:08:38.899Z"
   },
   {
    "duration": 39,
    "start_time": "2024-06-20T17:08:38.907Z"
   },
   {
    "duration": 427,
    "start_time": "2024-06-20T17:08:38.948Z"
   },
   {
    "duration": 11,
    "start_time": "2024-06-20T17:08:39.376Z"
   },
   {
    "duration": 31,
    "start_time": "2024-06-20T17:08:39.388Z"
   },
   {
    "duration": 58,
    "start_time": "2024-06-20T17:08:39.421Z"
   },
   {
    "duration": 2,
    "start_time": "2024-06-20T17:08:39.481Z"
   },
   {
    "duration": 7,
    "start_time": "2024-06-20T17:08:39.485Z"
   },
   {
    "duration": 11,
    "start_time": "2024-06-20T17:08:39.494Z"
   },
   {
    "duration": 10,
    "start_time": "2024-06-20T17:08:39.507Z"
   },
   {
    "duration": 53,
    "start_time": "2024-06-20T17:08:39.518Z"
   },
   {
    "duration": 11,
    "start_time": "2024-06-20T17:08:39.572Z"
   },
   {
    "duration": 3,
    "start_time": "2024-06-20T17:08:39.585Z"
   },
   {
    "duration": 396,
    "start_time": "2024-06-20T17:08:39.590Z"
   },
   {
    "duration": 9,
    "start_time": "2024-06-20T17:08:39.987Z"
   },
   {
    "duration": 22,
    "start_time": "2024-06-20T17:08:39.997Z"
   },
   {
    "duration": 164,
    "start_time": "2024-06-20T17:08:40.021Z"
   },
   {
    "duration": 6,
    "start_time": "2024-06-20T17:08:40.187Z"
   },
   {
    "duration": 46,
    "start_time": "2024-06-20T17:08:40.195Z"
   },
   {
    "duration": 50,
    "start_time": "2024-06-20T17:08:40.242Z"
   },
   {
    "duration": 124,
    "start_time": "2024-06-20T17:08:40.294Z"
   },
   {
    "duration": 5,
    "start_time": "2024-06-20T17:08:40.419Z"
   },
   {
    "duration": 150,
    "start_time": "2024-06-20T17:08:40.425Z"
   },
   {
    "duration": 37,
    "start_time": "2024-06-20T17:08:40.577Z"
   },
   {
    "duration": 10,
    "start_time": "2024-06-20T17:08:40.615Z"
   },
   {
    "duration": 12,
    "start_time": "2024-06-20T17:08:40.626Z"
   },
   {
    "duration": 4,
    "start_time": "2024-06-20T17:08:40.671Z"
   },
   {
    "duration": 39,
    "start_time": "2024-06-20T17:08:40.677Z"
   },
   {
    "duration": 120,
    "start_time": "2024-06-20T17:08:40.718Z"
   },
   {
    "duration": 32,
    "start_time": "2024-06-20T17:08:40.848Z"
   },
   {
    "duration": 35,
    "start_time": "2024-06-20T17:08:40.882Z"
   },
   {
    "duration": 6,
    "start_time": "2024-06-20T17:08:40.918Z"
   },
   {
    "duration": 3,
    "start_time": "2024-06-20T17:08:40.926Z"
   },
   {
    "duration": 163,
    "start_time": "2024-06-20T17:08:40.930Z"
   },
   {
    "duration": 57,
    "start_time": "2024-06-20T17:08:41.095Z"
   },
   {
    "duration": 20,
    "start_time": "2024-06-20T17:08:41.153Z"
   },
   {
    "duration": 26,
    "start_time": "2024-06-20T17:08:41.175Z"
   },
   {
    "duration": 16,
    "start_time": "2024-06-20T17:08:41.202Z"
   },
   {
    "duration": 4,
    "start_time": "2024-06-20T17:08:41.219Z"
   },
   {
    "duration": 6,
    "start_time": "2024-06-20T17:08:41.225Z"
   },
   {
    "duration": 39,
    "start_time": "2024-06-20T17:08:41.232Z"
   },
   {
    "duration": 45,
    "start_time": "2024-06-20T17:08:41.272Z"
   },
   {
    "duration": 60,
    "start_time": "2024-06-20T17:08:41.318Z"
   },
   {
    "duration": 677,
    "start_time": "2024-06-20T17:08:41.379Z"
   },
   {
    "duration": 1655,
    "start_time": "2024-06-20T17:08:42.058Z"
   },
   {
    "duration": 3,
    "start_time": "2024-06-20T17:08:43.715Z"
   },
   {
    "duration": 16,
    "start_time": "2024-06-20T17:08:43.719Z"
   },
   {
    "duration": 650,
    "start_time": "2024-06-20T17:08:43.737Z"
   },
   {
    "duration": 602,
    "start_time": "2024-06-20T17:08:44.389Z"
   },
   {
    "duration": 3,
    "start_time": "2024-06-20T17:08:44.993Z"
   },
   {
    "duration": 568,
    "start_time": "2024-06-20T17:08:44.998Z"
   },
   {
    "duration": 512,
    "start_time": "2024-06-20T17:08:45.568Z"
   },
   {
    "duration": 2,
    "start_time": "2024-06-20T17:08:46.081Z"
   },
   {
    "duration": 18,
    "start_time": "2024-06-20T17:08:46.085Z"
   },
   {
    "duration": 4,
    "start_time": "2024-06-20T17:08:46.111Z"
   },
   {
    "duration": 5,
    "start_time": "2024-06-20T17:08:46.117Z"
   },
   {
    "duration": 48,
    "start_time": "2024-06-20T17:08:46.124Z"
   },
   {
    "duration": 5,
    "start_time": "2024-06-20T17:08:46.173Z"
   },
   {
    "duration": 6,
    "start_time": "2024-06-20T17:08:46.180Z"
   },
   {
    "duration": 5,
    "start_time": "2024-06-20T17:08:46.188Z"
   },
   {
    "duration": 10,
    "start_time": "2024-06-20T17:08:46.194Z"
   },
   {
    "duration": 4,
    "start_time": "2024-06-20T17:08:46.206Z"
   },
   {
    "duration": 4,
    "start_time": "2024-06-20T17:08:46.212Z"
   },
   {
    "duration": 56,
    "start_time": "2024-06-20T17:08:46.217Z"
   },
   {
    "duration": 21,
    "start_time": "2024-06-20T17:08:46.274Z"
   },
   {
    "duration": 17,
    "start_time": "2024-06-20T17:08:46.296Z"
   },
   {
    "duration": 8,
    "start_time": "2024-06-20T17:08:46.314Z"
   },
   {
    "duration": 8,
    "start_time": "2024-06-20T17:08:46.323Z"
   },
   {
    "duration": 17,
    "start_time": "2024-06-20T17:08:46.332Z"
   },
   {
    "duration": 2247,
    "start_time": "2024-06-20T17:08:46.350Z"
   },
   {
    "duration": 18,
    "start_time": "2024-06-20T17:08:48.599Z"
   },
   {
    "duration": 45,
    "start_time": "2024-06-20T17:08:48.618Z"
   },
   {
    "duration": 2,
    "start_time": "2024-06-20T17:08:48.665Z"
   },
   {
    "duration": 18,
    "start_time": "2024-06-20T17:08:48.671Z"
   },
   {
    "duration": 4,
    "start_time": "2024-06-20T17:08:48.690Z"
   },
   {
    "duration": 114103,
    "start_time": "2024-06-20T17:08:48.695Z"
   },
   {
    "duration": 3,
    "start_time": "2024-06-20T17:10:42.799Z"
   },
   {
    "duration": 482,
    "start_time": "2024-06-20T17:10:42.803Z"
   },
   {
    "duration": 13,
    "start_time": "2024-06-20T17:10:43.286Z"
   },
   {
    "duration": 15,
    "start_time": "2024-06-20T17:10:43.301Z"
   },
   {
    "duration": 22,
    "start_time": "2024-06-20T17:10:43.317Z"
   },
   {
    "duration": 35,
    "start_time": "2024-06-20T17:10:43.341Z"
   },
   {
    "duration": 3,
    "start_time": "2024-06-20T17:10:43.377Z"
   },
   {
    "duration": 13,
    "start_time": "2024-06-20T17:10:43.381Z"
   },
   {
    "duration": 175,
    "start_time": "2024-06-20T17:10:43.396Z"
   },
   {
    "duration": 136,
    "start_time": "2024-06-20T17:10:43.572Z"
   },
   {
    "duration": 5,
    "start_time": "2024-06-20T17:10:43.709Z"
   },
   {
    "duration": 205,
    "start_time": "2024-06-20T17:10:43.715Z"
   },
   {
    "duration": 132,
    "start_time": "2024-06-20T17:10:43.921Z"
   },
   {
    "duration": 3,
    "start_time": "2024-06-20T17:10:44.055Z"
   },
   {
    "duration": 15,
    "start_time": "2024-06-20T17:10:44.059Z"
   },
   {
    "duration": 13,
    "start_time": "2024-06-20T17:10:44.075Z"
   },
   {
    "duration": 9,
    "start_time": "2024-06-20T17:10:44.089Z"
   },
   {
    "duration": 19,
    "start_time": "2024-06-20T17:10:44.100Z"
   },
   {
    "duration": 5,
    "start_time": "2024-06-20T17:10:44.121Z"
   },
   {
    "duration": 171,
    "start_time": "2024-06-20T17:10:44.127Z"
   },
   {
    "duration": 19,
    "start_time": "2024-06-20T17:10:44.299Z"
   },
   {
    "duration": 14,
    "start_time": "2024-06-20T17:10:44.320Z"
   },
   {
    "duration": 48,
    "start_time": "2024-06-20T17:10:44.335Z"
   },
   {
    "duration": 12,
    "start_time": "2024-06-20T17:10:44.384Z"
   },
   {
    "duration": 14,
    "start_time": "2024-06-20T17:10:44.397Z"
   },
   {
    "duration": 108,
    "start_time": "2024-06-20T17:10:44.412Z"
   },
   {
    "duration": 53,
    "start_time": "2024-06-20T17:10:44.573Z"
   },
   {
    "duration": 197,
    "start_time": "2024-06-20T17:11:15.370Z"
   },
   {
    "duration": 9,
    "start_time": "2024-06-20T17:11:19.037Z"
   },
   {
    "duration": 4,
    "start_time": "2024-06-20T17:12:57.873Z"
   },
   {
    "duration": 53,
    "start_time": "2024-06-20T17:13:13.008Z"
   },
   {
    "duration": 2624,
    "start_time": "2024-06-20T17:25:26.747Z"
   },
   {
    "duration": 2586,
    "start_time": "2024-06-20T17:25:29.373Z"
   },
   {
    "duration": 2725,
    "start_time": "2024-06-20T17:25:31.962Z"
   },
   {
    "duration": 1552,
    "start_time": "2024-06-20T17:25:34.690Z"
   },
   {
    "duration": 2,
    "start_time": "2024-06-20T17:25:36.244Z"
   },
   {
    "duration": 162,
    "start_time": "2024-06-20T17:25:36.247Z"
   },
   {
    "duration": 14,
    "start_time": "2024-06-20T17:25:36.411Z"
   },
   {
    "duration": 21,
    "start_time": "2024-06-20T17:25:36.426Z"
   },
   {
    "duration": 11,
    "start_time": "2024-06-20T17:25:36.448Z"
   },
   {
    "duration": 15,
    "start_time": "2024-06-20T17:25:36.461Z"
   },
   {
    "duration": 31,
    "start_time": "2024-06-20T17:25:36.477Z"
   },
   {
    "duration": 56,
    "start_time": "2024-06-20T17:25:36.509Z"
   },
   {
    "duration": 16,
    "start_time": "2024-06-20T17:25:36.567Z"
   },
   {
    "duration": 45,
    "start_time": "2024-06-20T17:25:36.584Z"
   },
   {
    "duration": 3,
    "start_time": "2024-06-20T17:25:36.631Z"
   },
   {
    "duration": 13,
    "start_time": "2024-06-20T17:25:36.635Z"
   },
   {
    "duration": 24,
    "start_time": "2024-06-20T17:25:36.649Z"
   },
   {
    "duration": 27,
    "start_time": "2024-06-20T17:25:36.674Z"
   },
   {
    "duration": 3,
    "start_time": "2024-06-20T17:25:36.702Z"
   },
   {
    "duration": 8,
    "start_time": "2024-06-20T17:25:36.706Z"
   },
   {
    "duration": 73,
    "start_time": "2024-06-20T17:25:36.716Z"
   },
   {
    "duration": 3,
    "start_time": "2024-06-20T17:25:36.791Z"
   },
   {
    "duration": 79,
    "start_time": "2024-06-20T17:25:36.795Z"
   },
   {
    "duration": 12,
    "start_time": "2024-06-20T17:25:36.875Z"
   },
   {
    "duration": 16,
    "start_time": "2024-06-20T17:25:36.888Z"
   },
   {
    "duration": 4,
    "start_time": "2024-06-20T17:25:36.905Z"
   },
   {
    "duration": 862,
    "start_time": "2024-06-20T17:25:36.911Z"
   },
   {
    "duration": 6,
    "start_time": "2024-06-20T17:25:37.777Z"
   },
   {
    "duration": 33,
    "start_time": "2024-06-20T17:25:37.784Z"
   },
   {
    "duration": 371,
    "start_time": "2024-06-20T17:25:37.818Z"
   },
   {
    "duration": 10,
    "start_time": "2024-06-20T17:25:38.190Z"
   },
   {
    "duration": 78,
    "start_time": "2024-06-20T17:25:38.201Z"
   },
   {
    "duration": 10,
    "start_time": "2024-06-20T17:25:38.280Z"
   },
   {
    "duration": 16,
    "start_time": "2024-06-20T17:25:38.291Z"
   },
   {
    "duration": 4,
    "start_time": "2024-06-20T17:25:38.308Z"
   },
   {
    "duration": 7,
    "start_time": "2024-06-20T17:25:38.313Z"
   },
   {
    "duration": 51,
    "start_time": "2024-06-20T17:25:38.321Z"
   },
   {
    "duration": 11,
    "start_time": "2024-06-20T17:25:38.373Z"
   },
   {
    "duration": 7,
    "start_time": "2024-06-20T17:25:38.385Z"
   },
   {
    "duration": 13,
    "start_time": "2024-06-20T17:25:38.393Z"
   },
   {
    "duration": 371,
    "start_time": "2024-06-20T17:25:38.407Z"
   },
   {
    "duration": 6,
    "start_time": "2024-06-20T17:25:38.780Z"
   },
   {
    "duration": 3,
    "start_time": "2024-06-20T17:25:38.787Z"
   },
   {
    "duration": 135,
    "start_time": "2024-06-20T17:25:38.792Z"
   },
   {
    "duration": 5,
    "start_time": "2024-06-20T17:25:38.928Z"
   },
   {
    "duration": 57,
    "start_time": "2024-06-20T17:25:38.935Z"
   },
   {
    "duration": 33,
    "start_time": "2024-06-20T17:25:38.993Z"
   },
   {
    "duration": 122,
    "start_time": "2024-06-20T17:25:39.071Z"
   },
   {
    "duration": 6,
    "start_time": "2024-06-20T17:25:39.195Z"
   },
   {
    "duration": 140,
    "start_time": "2024-06-20T17:25:39.203Z"
   },
   {
    "duration": 46,
    "start_time": "2024-06-20T17:25:39.345Z"
   },
   {
    "duration": 12,
    "start_time": "2024-06-20T17:25:39.392Z"
   },
   {
    "duration": 3,
    "start_time": "2024-06-20T17:25:39.406Z"
   },
   {
    "duration": 4,
    "start_time": "2024-06-20T17:25:39.411Z"
   },
   {
    "duration": 85,
    "start_time": "2024-06-20T17:25:39.417Z"
   },
   {
    "duration": 118,
    "start_time": "2024-06-20T17:25:39.503Z"
   },
   {
    "duration": 4,
    "start_time": "2024-06-20T17:25:39.623Z"
   },
   {
    "duration": 64,
    "start_time": "2024-06-20T17:25:39.629Z"
   },
   {
    "duration": 6,
    "start_time": "2024-06-20T17:25:39.694Z"
   },
   {
    "duration": 5,
    "start_time": "2024-06-20T17:25:39.701Z"
   },
   {
    "duration": 136,
    "start_time": "2024-06-20T17:25:39.708Z"
   },
   {
    "duration": 73,
    "start_time": "2024-06-20T17:25:39.845Z"
   },
   {
    "duration": 3,
    "start_time": "2024-06-20T17:25:39.919Z"
   },
   {
    "duration": 27,
    "start_time": "2024-06-20T17:25:39.923Z"
   },
   {
    "duration": 26,
    "start_time": "2024-06-20T17:25:39.951Z"
   },
   {
    "duration": 5,
    "start_time": "2024-06-20T17:25:39.978Z"
   },
   {
    "duration": 9,
    "start_time": "2024-06-20T17:25:39.984Z"
   },
   {
    "duration": 21,
    "start_time": "2024-06-20T17:25:39.994Z"
   },
   {
    "duration": 46,
    "start_time": "2024-06-20T17:25:40.017Z"
   },
   {
    "duration": 62,
    "start_time": "2024-06-20T17:25:40.064Z"
   },
   {
    "duration": 695,
    "start_time": "2024-06-20T17:25:40.128Z"
   },
   {
    "duration": 1642,
    "start_time": "2024-06-20T17:25:40.825Z"
   },
   {
    "duration": 3,
    "start_time": "2024-06-20T17:25:42.468Z"
   },
   {
    "duration": 8,
    "start_time": "2024-06-20T17:25:42.473Z"
   },
   {
    "duration": 609,
    "start_time": "2024-06-20T17:25:42.482Z"
   },
   {
    "duration": 584,
    "start_time": "2024-06-20T17:25:43.092Z"
   },
   {
    "duration": 3,
    "start_time": "2024-06-20T17:25:43.677Z"
   },
   {
    "duration": 527,
    "start_time": "2024-06-20T17:25:43.682Z"
   },
   {
    "duration": 501,
    "start_time": "2024-06-20T17:25:44.210Z"
   },
   {
    "duration": 2,
    "start_time": "2024-06-20T17:25:44.712Z"
   },
   {
    "duration": 18,
    "start_time": "2024-06-20T17:25:44.716Z"
   },
   {
    "duration": 32,
    "start_time": "2024-06-20T17:25:44.740Z"
   },
   {
    "duration": 17,
    "start_time": "2024-06-20T17:25:44.773Z"
   },
   {
    "duration": 24,
    "start_time": "2024-06-20T17:25:44.791Z"
   },
   {
    "duration": 10,
    "start_time": "2024-06-20T17:25:44.816Z"
   },
   {
    "duration": 6,
    "start_time": "2024-06-20T17:25:44.827Z"
   },
   {
    "duration": 3,
    "start_time": "2024-06-20T17:25:44.835Z"
   },
   {
    "duration": 6,
    "start_time": "2024-06-20T17:25:44.840Z"
   },
   {
    "duration": 7,
    "start_time": "2024-06-20T17:25:44.847Z"
   },
   {
    "duration": 16,
    "start_time": "2024-06-20T17:25:44.856Z"
   },
   {
    "duration": 4,
    "start_time": "2024-06-20T17:25:44.873Z"
   },
   {
    "duration": 19,
    "start_time": "2024-06-20T17:25:44.879Z"
   },
   {
    "duration": 6,
    "start_time": "2024-06-20T17:25:44.899Z"
   },
   {
    "duration": 9,
    "start_time": "2024-06-20T17:25:44.906Z"
   },
   {
    "duration": 21,
    "start_time": "2024-06-20T17:25:44.917Z"
   },
   {
    "duration": 40,
    "start_time": "2024-06-20T17:25:44.939Z"
   },
   {
    "duration": 2271,
    "start_time": "2024-06-20T17:25:44.980Z"
   },
   {
    "duration": 30,
    "start_time": "2024-06-20T17:25:47.253Z"
   },
   {
    "duration": 37,
    "start_time": "2024-06-20T17:25:47.285Z"
   },
   {
    "duration": 2,
    "start_time": "2024-06-20T17:25:47.324Z"
   },
   {
    "duration": 21,
    "start_time": "2024-06-20T17:25:47.327Z"
   },
   {
    "duration": 3,
    "start_time": "2024-06-20T17:25:47.350Z"
   },
   {
    "duration": 111640,
    "start_time": "2024-06-20T17:25:47.354Z"
   },
   {
    "duration": 3,
    "start_time": "2024-06-20T17:27:38.995Z"
   },
   {
    "duration": 465,
    "start_time": "2024-06-20T17:27:38.999Z"
   },
   {
    "duration": 16,
    "start_time": "2024-06-20T17:27:39.470Z"
   },
   {
    "duration": 4,
    "start_time": "2024-06-20T17:27:39.487Z"
   },
   {
    "duration": 15,
    "start_time": "2024-06-20T17:27:39.492Z"
   },
   {
    "duration": 68,
    "start_time": "2024-06-20T17:27:39.508Z"
   },
   {
    "duration": 3,
    "start_time": "2024-06-20T17:27:39.578Z"
   },
   {
    "duration": 37,
    "start_time": "2024-06-20T17:27:39.583Z"
   },
   {
    "duration": 164,
    "start_time": "2024-06-20T17:27:39.622Z"
   },
   {
    "duration": 142,
    "start_time": "2024-06-20T17:27:39.788Z"
   },
   {
    "duration": 5,
    "start_time": "2024-06-20T17:27:39.932Z"
   },
   {
    "duration": 206,
    "start_time": "2024-06-20T17:27:39.939Z"
   },
   {
    "duration": 132,
    "start_time": "2024-06-20T17:27:40.146Z"
   },
   {
    "duration": 4,
    "start_time": "2024-06-20T17:27:40.279Z"
   },
   {
    "duration": 8,
    "start_time": "2024-06-20T17:27:40.285Z"
   },
   {
    "duration": 17,
    "start_time": "2024-06-20T17:27:40.295Z"
   },
   {
    "duration": 11,
    "start_time": "2024-06-20T17:27:40.313Z"
   },
   {
    "duration": 9,
    "start_time": "2024-06-20T17:27:40.325Z"
   },
   {
    "duration": 36,
    "start_time": "2024-06-20T17:27:40.335Z"
   },
   {
    "duration": 172,
    "start_time": "2024-06-20T17:27:40.373Z"
   },
   {
    "duration": 36,
    "start_time": "2024-06-20T17:27:40.546Z"
   },
   {
    "duration": 3,
    "start_time": "2024-06-20T17:27:40.584Z"
   },
   {
    "duration": 7,
    "start_time": "2024-06-20T17:27:40.588Z"
   },
   {
    "duration": 44,
    "start_time": "2024-06-20T17:27:40.596Z"
   },
   {
    "duration": 27,
    "start_time": "2024-06-20T17:27:40.641Z"
   },
   {
    "duration": 105,
    "start_time": "2024-06-20T17:27:40.669Z"
   },
   {
    "duration": 10,
    "start_time": "2024-06-20T17:29:55.588Z"
   },
   {
    "duration": 5,
    "start_time": "2024-06-20T19:11:14.701Z"
   },
   {
    "duration": 6,
    "start_time": "2024-06-20T19:11:16.217Z"
   },
   {
    "duration": 1098,
    "start_time": "2024-06-20T19:11:16.529Z"
   },
   {
    "duration": 0,
    "start_time": "2024-06-20T19:11:17.629Z"
   },
   {
    "duration": 0,
    "start_time": "2024-06-20T19:11:17.630Z"
   },
   {
    "duration": 9,
    "start_time": "2024-06-20T19:11:18.414Z"
   },
   {
    "duration": 2,
    "start_time": "2024-06-20T19:11:19.055Z"
   },
   {
    "duration": 5,
    "start_time": "2024-06-20T19:12:02.704Z"
   },
   {
    "duration": 6,
    "start_time": "2024-06-20T19:12:03.035Z"
   },
   {
    "duration": 830,
    "start_time": "2024-06-20T19:12:03.422Z"
   },
   {
    "duration": 0,
    "start_time": "2024-06-20T19:12:04.254Z"
   },
   {
    "duration": 29,
    "start_time": "2024-06-20T19:12:04.399Z"
   },
   {
    "duration": 10,
    "start_time": "2024-06-20T19:12:05.211Z"
   },
   {
    "duration": 3,
    "start_time": "2024-06-20T19:12:05.565Z"
   },
   {
    "duration": 3,
    "start_time": "2024-06-20T19:12:05.959Z"
   },
   {
    "duration": 7,
    "start_time": "2024-06-20T19:12:06.290Z"
   },
   {
    "duration": 4,
    "start_time": "2024-06-20T19:12:06.623Z"
   },
   {
    "duration": 3,
    "start_time": "2024-06-20T19:12:06.969Z"
   },
   {
    "duration": 6,
    "start_time": "2024-06-20T19:12:07.314Z"
   },
   {
    "duration": 4,
    "start_time": "2024-06-20T19:12:07.658Z"
   },
   {
    "duration": 164,
    "start_time": "2024-06-20T19:12:08.010Z"
   },
   {
    "duration": 14,
    "start_time": "2024-06-20T19:12:09.079Z"
   },
   {
    "duration": 2,
    "start_time": "2024-06-20T19:12:09.540Z"
   },
   {
    "duration": 113,
    "start_time": "2024-06-20T19:12:09.903Z"
   },
   {
    "duration": 7,
    "start_time": "2024-06-20T19:12:10.311Z"
   },
   {
    "duration": 39,
    "start_time": "2024-06-20T19:12:10.725Z"
   },
   {
    "duration": 32,
    "start_time": "2024-06-20T19:12:11.065Z"
   },
   {
    "duration": 64,
    "start_time": "2024-06-20T19:12:12.111Z"
   },
   {
    "duration": 4,
    "start_time": "2024-06-20T19:12:12.322Z"
   },
   {
    "duration": 104,
    "start_time": "2024-06-20T19:12:12.919Z"
   },
   {
    "duration": 32,
    "start_time": "2024-06-20T19:12:13.280Z"
   },
   {
    "duration": 11,
    "start_time": "2024-06-20T19:12:13.716Z"
   },
   {
    "duration": 2643,
    "start_time": "2024-06-20T19:12:25.890Z"
   },
   {
    "duration": 2556,
    "start_time": "2024-06-20T19:12:28.535Z"
   },
   {
    "duration": 2544,
    "start_time": "2024-06-20T19:12:31.093Z"
   },
   {
    "duration": 1522,
    "start_time": "2024-06-20T19:12:33.639Z"
   },
   {
    "duration": 2,
    "start_time": "2024-06-20T19:12:35.162Z"
   },
   {
    "duration": 387,
    "start_time": "2024-06-20T19:12:35.166Z"
   },
   {
    "duration": 14,
    "start_time": "2024-06-20T19:12:35.554Z"
   },
   {
    "duration": 6,
    "start_time": "2024-06-20T19:12:35.569Z"
   },
   {
    "duration": 6,
    "start_time": "2024-06-20T19:12:35.576Z"
   },
   {
    "duration": 21,
    "start_time": "2024-06-20T19:12:35.584Z"
   },
   {
    "duration": 6,
    "start_time": "2024-06-20T19:12:35.606Z"
   },
   {
    "duration": 13,
    "start_time": "2024-06-20T19:12:35.613Z"
   },
   {
    "duration": 7,
    "start_time": "2024-06-20T19:12:35.627Z"
   },
   {
    "duration": 69,
    "start_time": "2024-06-20T19:12:35.635Z"
   },
   {
    "duration": 3,
    "start_time": "2024-06-20T19:12:35.706Z"
   },
   {
    "duration": 11,
    "start_time": "2024-06-20T19:12:35.710Z"
   },
   {
    "duration": 6,
    "start_time": "2024-06-20T19:12:35.722Z"
   },
   {
    "duration": 58,
    "start_time": "2024-06-20T19:12:35.730Z"
   },
   {
    "duration": 8,
    "start_time": "2024-06-20T19:12:35.789Z"
   },
   {
    "duration": 3,
    "start_time": "2024-06-20T19:12:35.798Z"
   },
   {
    "duration": 10,
    "start_time": "2024-06-20T19:12:35.802Z"
   },
   {
    "duration": 72,
    "start_time": "2024-06-20T19:12:35.813Z"
   },
   {
    "duration": 2,
    "start_time": "2024-06-20T19:12:35.887Z"
   },
   {
    "duration": 45,
    "start_time": "2024-06-20T19:12:35.890Z"
   },
   {
    "duration": 37,
    "start_time": "2024-06-20T19:12:35.937Z"
   },
   {
    "duration": 5,
    "start_time": "2024-06-20T19:12:35.975Z"
   },
   {
    "duration": 5,
    "start_time": "2024-06-20T19:12:35.981Z"
   },
   {
    "duration": 881,
    "start_time": "2024-06-20T19:12:35.992Z"
   },
   {
    "duration": 8,
    "start_time": "2024-06-20T19:12:36.874Z"
   },
   {
    "duration": 6,
    "start_time": "2024-06-20T19:12:36.883Z"
   },
   {
    "duration": 383,
    "start_time": "2024-06-20T19:12:36.890Z"
   },
   {
    "duration": 10,
    "start_time": "2024-06-20T19:12:37.275Z"
   },
   {
    "duration": 24,
    "start_time": "2024-06-20T19:12:37.286Z"
   },
   {
    "duration": 62,
    "start_time": "2024-06-20T19:12:37.311Z"
   },
   {
    "duration": 4,
    "start_time": "2024-06-20T19:12:37.374Z"
   },
   {
    "duration": 4,
    "start_time": "2024-06-20T19:12:37.379Z"
   },
   {
    "duration": 7,
    "start_time": "2024-06-20T19:12:37.385Z"
   },
   {
    "duration": 6,
    "start_time": "2024-06-20T19:12:37.393Z"
   },
   {
    "duration": 12,
    "start_time": "2024-06-20T19:12:37.400Z"
   },
   {
    "duration": 59,
    "start_time": "2024-06-20T19:12:37.413Z"
   },
   {
    "duration": 11,
    "start_time": "2024-06-20T19:12:37.473Z"
   },
   {
    "duration": 404,
    "start_time": "2024-06-20T19:12:37.485Z"
   },
   {
    "duration": 6,
    "start_time": "2024-06-20T19:12:37.891Z"
   },
   {
    "duration": 5,
    "start_time": "2024-06-20T19:12:37.899Z"
   },
   {
    "duration": 140,
    "start_time": "2024-06-20T19:12:37.906Z"
   },
   {
    "duration": 7,
    "start_time": "2024-06-20T19:12:38.048Z"
   },
   {
    "duration": 34,
    "start_time": "2024-06-20T19:12:38.071Z"
   },
   {
    "duration": 68,
    "start_time": "2024-06-20T19:12:38.106Z"
   },
   {
    "duration": 109,
    "start_time": "2024-06-20T19:12:38.176Z"
   },
   {
    "duration": 5,
    "start_time": "2024-06-20T19:12:38.286Z"
   },
   {
    "duration": 130,
    "start_time": "2024-06-20T19:12:38.292Z"
   },
   {
    "duration": 31,
    "start_time": "2024-06-20T19:12:38.424Z"
   },
   {
    "duration": 20,
    "start_time": "2024-06-20T19:12:38.457Z"
   },
   {
    "duration": 2,
    "start_time": "2024-06-20T19:12:38.478Z"
   },
   {
    "duration": 5,
    "start_time": "2024-06-20T19:12:38.481Z"
   },
   {
    "duration": 34,
    "start_time": "2024-06-20T19:12:38.487Z"
   },
   {
    "duration": 108,
    "start_time": "2024-06-20T19:12:38.522Z"
   },
   {
    "duration": 3,
    "start_time": "2024-06-20T19:12:38.631Z"
   },
   {
    "duration": 58,
    "start_time": "2024-06-20T19:12:38.636Z"
   },
   {
    "duration": 5,
    "start_time": "2024-06-20T19:12:38.696Z"
   },
   {
    "duration": 24,
    "start_time": "2024-06-20T19:12:38.702Z"
   },
   {
    "duration": 135,
    "start_time": "2024-06-20T19:12:38.728Z"
   },
   {
    "duration": 57,
    "start_time": "2024-06-20T19:12:38.865Z"
   },
   {
    "duration": 4,
    "start_time": "2024-06-20T19:12:38.923Z"
   },
   {
    "duration": 46,
    "start_time": "2024-06-20T19:12:38.928Z"
   },
   {
    "duration": 17,
    "start_time": "2024-06-20T19:12:38.976Z"
   },
   {
    "duration": 6,
    "start_time": "2024-06-20T19:12:38.995Z"
   },
   {
    "duration": 11,
    "start_time": "2024-06-20T19:12:39.002Z"
   },
   {
    "duration": 4,
    "start_time": "2024-06-20T19:12:39.015Z"
   },
   {
    "duration": 65,
    "start_time": "2024-06-20T19:12:39.020Z"
   },
   {
    "duration": 86,
    "start_time": "2024-06-20T19:12:39.086Z"
   },
   {
    "duration": 718,
    "start_time": "2024-06-20T19:12:39.174Z"
   },
   {
    "duration": 1591,
    "start_time": "2024-06-20T19:12:39.893Z"
   },
   {
    "duration": 3,
    "start_time": "2024-06-20T19:12:41.486Z"
   },
   {
    "duration": 4,
    "start_time": "2024-06-20T19:12:41.490Z"
   },
   {
    "duration": 637,
    "start_time": "2024-06-20T19:12:41.496Z"
   },
   {
    "duration": 598,
    "start_time": "2024-06-20T19:12:42.134Z"
   },
   {
    "duration": 3,
    "start_time": "2024-06-20T19:12:42.734Z"
   },
   {
    "duration": 527,
    "start_time": "2024-06-20T19:12:42.739Z"
   },
   {
    "duration": 511,
    "start_time": "2024-06-20T19:12:43.272Z"
   },
   {
    "duration": 3,
    "start_time": "2024-06-20T19:12:43.784Z"
   },
   {
    "duration": 11,
    "start_time": "2024-06-20T19:12:43.797Z"
   },
   {
    "duration": 8,
    "start_time": "2024-06-20T19:12:43.810Z"
   },
   {
    "duration": 26,
    "start_time": "2024-06-20T19:12:43.820Z"
   },
   {
    "duration": 26,
    "start_time": "2024-06-20T19:12:43.848Z"
   },
   {
    "duration": 20,
    "start_time": "2024-06-20T19:12:43.875Z"
   },
   {
    "duration": 5,
    "start_time": "2024-06-20T19:12:43.896Z"
   },
   {
    "duration": 35,
    "start_time": "2024-06-20T19:12:43.902Z"
   },
   {
    "duration": 8,
    "start_time": "2024-06-20T19:12:43.938Z"
   },
   {
    "duration": 5,
    "start_time": "2024-06-20T19:12:43.948Z"
   },
   {
    "duration": 8,
    "start_time": "2024-06-20T19:12:43.954Z"
   },
   {
    "duration": 25,
    "start_time": "2024-06-20T19:12:43.963Z"
   },
   {
    "duration": 28,
    "start_time": "2024-06-20T19:12:43.989Z"
   },
   {
    "duration": 9,
    "start_time": "2024-06-20T19:12:44.018Z"
   },
   {
    "duration": 4,
    "start_time": "2024-06-20T19:12:44.029Z"
   },
   {
    "duration": 7,
    "start_time": "2024-06-20T19:12:44.034Z"
   },
   {
    "duration": 27,
    "start_time": "2024-06-20T19:12:44.042Z"
   },
   {
    "duration": 2192,
    "start_time": "2024-06-20T19:12:44.070Z"
   },
   {
    "duration": 18,
    "start_time": "2024-06-20T19:12:46.263Z"
   },
   {
    "duration": 34,
    "start_time": "2024-06-20T19:12:46.282Z"
   },
   {
    "duration": 3,
    "start_time": "2024-06-20T19:12:46.318Z"
   },
   {
    "duration": 49,
    "start_time": "2024-06-20T19:12:46.322Z"
   },
   {
    "duration": 4,
    "start_time": "2024-06-20T19:12:46.372Z"
   },
   {
    "duration": 112740,
    "start_time": "2024-06-20T19:12:46.377Z"
   },
   {
    "duration": 3,
    "start_time": "2024-06-20T19:14:39.118Z"
   },
   {
    "duration": 452,
    "start_time": "2024-06-20T19:14:39.122Z"
   },
   {
    "duration": 16,
    "start_time": "2024-06-20T19:14:39.575Z"
   },
   {
    "duration": 3,
    "start_time": "2024-06-20T19:14:39.592Z"
   },
   {
    "duration": 16,
    "start_time": "2024-06-20T19:14:39.596Z"
   },
   {
    "duration": 27,
    "start_time": "2024-06-20T19:14:39.613Z"
   },
   {
    "duration": 3,
    "start_time": "2024-06-20T19:14:39.641Z"
   },
   {
    "duration": 14,
    "start_time": "2024-06-20T19:14:39.670Z"
   },
   {
    "duration": 178,
    "start_time": "2024-06-20T19:14:39.685Z"
   },
   {
    "duration": 141,
    "start_time": "2024-06-20T19:14:39.864Z"
   },
   {
    "duration": 7,
    "start_time": "2024-06-20T19:14:40.006Z"
   },
   {
    "duration": 215,
    "start_time": "2024-06-20T19:14:40.015Z"
   },
   {
    "duration": 142,
    "start_time": "2024-06-20T19:14:40.232Z"
   },
   {
    "duration": 4,
    "start_time": "2024-06-20T19:14:40.375Z"
   },
   {
    "duration": 5,
    "start_time": "2024-06-20T19:14:40.380Z"
   },
   {
    "duration": 7,
    "start_time": "2024-06-20T19:14:40.386Z"
   },
   {
    "duration": 20,
    "start_time": "2024-06-20T19:14:40.394Z"
   },
   {
    "duration": 3,
    "start_time": "2024-06-20T19:14:40.415Z"
   },
   {
    "duration": 6,
    "start_time": "2024-06-20T19:14:40.419Z"
   },
   {
    "duration": 192,
    "start_time": "2024-06-20T19:14:40.426Z"
   },
   {
    "duration": 21,
    "start_time": "2024-06-20T19:14:40.619Z"
   },
   {
    "duration": 31,
    "start_time": "2024-06-20T19:14:40.641Z"
   },
   {
    "duration": 6,
    "start_time": "2024-06-20T19:14:40.673Z"
   },
   {
    "duration": 4,
    "start_time": "2024-06-20T19:14:40.680Z"
   },
   {
    "duration": 8,
    "start_time": "2024-06-20T19:14:40.686Z"
   },
   {
    "duration": 176,
    "start_time": "2024-06-20T19:14:40.695Z"
   },
   {
    "duration": 20,
    "start_time": "2024-06-20T19:31:48.621Z"
   },
   {
    "duration": 38,
    "start_time": "2024-06-20T20:08:06.803Z"
   },
   {
    "duration": 2718,
    "start_time": "2024-06-20T20:35:18.132Z"
   },
   {
    "duration": 2574,
    "start_time": "2024-06-20T20:35:20.852Z"
   },
   {
    "duration": 2554,
    "start_time": "2024-06-20T20:35:23.428Z"
   },
   {
    "duration": 1590,
    "start_time": "2024-06-20T20:35:25.985Z"
   },
   {
    "duration": 2,
    "start_time": "2024-06-20T20:35:27.576Z"
   },
   {
    "duration": 356,
    "start_time": "2024-06-20T20:35:27.580Z"
   },
   {
    "duration": 14,
    "start_time": "2024-06-20T20:35:27.938Z"
   },
   {
    "duration": 8,
    "start_time": "2024-06-20T20:35:27.954Z"
   },
   {
    "duration": 12,
    "start_time": "2024-06-20T20:35:27.963Z"
   },
   {
    "duration": 6,
    "start_time": "2024-06-20T20:35:27.977Z"
   },
   {
    "duration": 9,
    "start_time": "2024-06-20T20:35:27.985Z"
   },
   {
    "duration": 17,
    "start_time": "2024-06-20T20:35:27.996Z"
   },
   {
    "duration": 6,
    "start_time": "2024-06-20T20:35:28.015Z"
   },
   {
    "duration": 86,
    "start_time": "2024-06-20T20:35:28.022Z"
   },
   {
    "duration": 3,
    "start_time": "2024-06-20T20:35:28.110Z"
   },
   {
    "duration": 14,
    "start_time": "2024-06-20T20:35:28.114Z"
   },
   {
    "duration": 7,
    "start_time": "2024-06-20T20:35:28.129Z"
   },
   {
    "duration": 57,
    "start_time": "2024-06-20T20:35:28.137Z"
   },
   {
    "duration": 7,
    "start_time": "2024-06-20T20:35:28.196Z"
   },
   {
    "duration": 3,
    "start_time": "2024-06-20T20:35:28.204Z"
   },
   {
    "duration": 6,
    "start_time": "2024-06-20T20:35:28.208Z"
   },
   {
    "duration": 77,
    "start_time": "2024-06-20T20:35:28.215Z"
   },
   {
    "duration": 2,
    "start_time": "2024-06-20T20:35:28.294Z"
   },
   {
    "duration": 79,
    "start_time": "2024-06-20T20:35:28.298Z"
   },
   {
    "duration": 10,
    "start_time": "2024-06-20T20:35:28.379Z"
   },
   {
    "duration": 7,
    "start_time": "2024-06-20T20:35:28.391Z"
   },
   {
    "duration": 15,
    "start_time": "2024-06-20T20:35:28.400Z"
   },
   {
    "duration": 971,
    "start_time": "2024-06-20T20:35:28.420Z"
   },
   {
    "duration": 5,
    "start_time": "2024-06-20T20:35:29.393Z"
   },
   {
    "duration": 16,
    "start_time": "2024-06-20T20:35:29.399Z"
   },
   {
    "duration": 374,
    "start_time": "2024-06-20T20:35:29.416Z"
   },
   {
    "duration": 11,
    "start_time": "2024-06-20T20:35:29.791Z"
   },
   {
    "duration": 85,
    "start_time": "2024-06-20T20:35:29.803Z"
   },
   {
    "duration": 15,
    "start_time": "2024-06-20T20:35:29.890Z"
   },
   {
    "duration": 2,
    "start_time": "2024-06-20T20:35:29.907Z"
   },
   {
    "duration": 3,
    "start_time": "2024-06-20T20:35:29.911Z"
   },
   {
    "duration": 9,
    "start_time": "2024-06-20T20:35:29.971Z"
   },
   {
    "duration": 6,
    "start_time": "2024-06-20T20:35:29.981Z"
   },
   {
    "duration": 8,
    "start_time": "2024-06-20T20:35:29.989Z"
   },
   {
    "duration": 37,
    "start_time": "2024-06-20T20:35:29.998Z"
   },
   {
    "duration": 9,
    "start_time": "2024-06-20T20:35:30.070Z"
   },
   {
    "duration": 392,
    "start_time": "2024-06-20T20:35:30.081Z"
   },
   {
    "duration": 7,
    "start_time": "2024-06-20T20:35:30.475Z"
   },
   {
    "duration": 45,
    "start_time": "2024-06-20T20:35:30.483Z"
   },
   {
    "duration": 177,
    "start_time": "2024-06-20T20:35:30.530Z"
   },
   {
    "duration": 6,
    "start_time": "2024-06-20T20:35:30.709Z"
   },
   {
    "duration": 73,
    "start_time": "2024-06-20T20:35:30.716Z"
   },
   {
    "duration": 36,
    "start_time": "2024-06-20T20:35:30.791Z"
   },
   {
    "duration": 160,
    "start_time": "2024-06-20T20:35:30.828Z"
   },
   {
    "duration": 5,
    "start_time": "2024-06-20T20:35:30.990Z"
   },
   {
    "duration": 169,
    "start_time": "2024-06-20T20:35:30.996Z"
   },
   {
    "duration": 35,
    "start_time": "2024-06-20T20:35:31.167Z"
   },
   {
    "duration": 49,
    "start_time": "2024-06-20T20:35:31.203Z"
   },
   {
    "duration": 50,
    "start_time": "2024-06-20T20:35:31.254Z"
   },
   {
    "duration": 72,
    "start_time": "2024-06-20T20:35:31.305Z"
   },
   {
    "duration": 71,
    "start_time": "2024-06-20T20:35:31.379Z"
   },
   {
    "duration": 69,
    "start_time": "2024-06-20T20:35:31.452Z"
   },
   {
    "duration": 3,
    "start_time": "2024-06-20T20:35:31.523Z"
   },
   {
    "duration": 54,
    "start_time": "2024-06-20T20:35:31.527Z"
   },
   {
    "duration": 6,
    "start_time": "2024-06-20T20:35:31.582Z"
   },
   {
    "duration": 21,
    "start_time": "2024-06-20T20:35:31.589Z"
   },
   {
    "duration": 121,
    "start_time": "2024-06-20T20:35:31.612Z"
   },
   {
    "duration": 66,
    "start_time": "2024-06-20T20:35:31.734Z"
   },
   {
    "duration": 3,
    "start_time": "2024-06-20T20:35:31.802Z"
   },
   {
    "duration": 23,
    "start_time": "2024-06-20T20:35:31.807Z"
   },
   {
    "duration": 14,
    "start_time": "2024-06-20T20:35:31.831Z"
   },
   {
    "duration": 4,
    "start_time": "2024-06-20T20:35:31.846Z"
   },
   {
    "duration": 4,
    "start_time": "2024-06-20T20:35:31.851Z"
   },
   {
    "duration": 3,
    "start_time": "2024-06-20T20:35:31.856Z"
   },
   {
    "duration": 26,
    "start_time": "2024-06-20T20:35:31.860Z"
   },
   {
    "duration": 58,
    "start_time": "2024-06-20T20:35:31.888Z"
   },
   {
    "duration": 1003,
    "start_time": "2024-06-20T20:35:31.947Z"
   },
   {
    "duration": 1670,
    "start_time": "2024-06-20T20:35:32.951Z"
   },
   {
    "duration": 3,
    "start_time": "2024-06-20T20:35:34.623Z"
   },
   {
    "duration": 6,
    "start_time": "2024-06-20T20:35:34.627Z"
   },
   {
    "duration": 678,
    "start_time": "2024-06-20T20:35:34.635Z"
   },
   {
    "duration": 603,
    "start_time": "2024-06-20T20:35:35.314Z"
   },
   {
    "duration": 3,
    "start_time": "2024-06-20T20:35:35.919Z"
   },
   {
    "duration": 530,
    "start_time": "2024-06-20T20:35:35.923Z"
   },
   {
    "duration": 539,
    "start_time": "2024-06-20T20:35:36.455Z"
   },
   {
    "duration": 3,
    "start_time": "2024-06-20T20:35:36.996Z"
   },
   {
    "duration": 14,
    "start_time": "2024-06-20T20:35:37.008Z"
   },
   {
    "duration": 48,
    "start_time": "2024-06-20T20:35:37.023Z"
   },
   {
    "duration": 4,
    "start_time": "2024-06-20T20:35:37.073Z"
   },
   {
    "duration": 32,
    "start_time": "2024-06-20T20:35:37.078Z"
   },
   {
    "duration": 19,
    "start_time": "2024-06-20T20:35:37.111Z"
   },
   {
    "duration": 10,
    "start_time": "2024-06-20T20:35:37.131Z"
   },
   {
    "duration": 26,
    "start_time": "2024-06-20T20:35:37.143Z"
   },
   {
    "duration": 36,
    "start_time": "2024-06-20T20:35:37.170Z"
   },
   {
    "duration": 31,
    "start_time": "2024-06-20T20:35:37.208Z"
   },
   {
    "duration": 10,
    "start_time": "2024-06-20T20:35:37.242Z"
   },
   {
    "duration": 8,
    "start_time": "2024-06-20T20:35:37.253Z"
   },
   {
    "duration": 16,
    "start_time": "2024-06-20T20:35:37.262Z"
   },
   {
    "duration": 11,
    "start_time": "2024-06-20T20:35:37.280Z"
   },
   {
    "duration": 7,
    "start_time": "2024-06-20T20:35:37.292Z"
   },
   {
    "duration": 40,
    "start_time": "2024-06-20T20:35:37.300Z"
   },
   {
    "duration": 15,
    "start_time": "2024-06-20T20:35:37.341Z"
   },
   {
    "duration": 2234,
    "start_time": "2024-06-20T20:35:37.358Z"
   },
   {
    "duration": 19,
    "start_time": "2024-06-20T20:35:39.595Z"
   },
   {
    "duration": 22,
    "start_time": "2024-06-20T20:35:39.616Z"
   },
   {
    "duration": 32,
    "start_time": "2024-06-20T20:35:39.639Z"
   },
   {
    "duration": 16,
    "start_time": "2024-06-20T20:35:39.673Z"
   },
   {
    "duration": 4,
    "start_time": "2024-06-20T20:35:39.690Z"
   },
   {
    "duration": 114903,
    "start_time": "2024-06-20T20:35:39.696Z"
   },
   {
    "duration": 3,
    "start_time": "2024-06-20T20:37:34.601Z"
   },
   {
    "duration": 467,
    "start_time": "2024-06-20T20:37:34.605Z"
   },
   {
    "duration": 17,
    "start_time": "2024-06-20T20:37:35.074Z"
   },
   {
    "duration": 24,
    "start_time": "2024-06-20T20:37:35.093Z"
   },
   {
    "duration": 17,
    "start_time": "2024-06-20T20:37:35.119Z"
   },
   {
    "duration": 44,
    "start_time": "2024-06-20T20:37:35.137Z"
   },
   {
    "duration": 3,
    "start_time": "2024-06-20T20:37:35.182Z"
   },
   {
    "duration": 21,
    "start_time": "2024-06-20T20:37:35.186Z"
   },
   {
    "duration": 171,
    "start_time": "2024-06-20T20:37:35.208Z"
   },
   {
    "duration": 138,
    "start_time": "2024-06-20T20:37:35.380Z"
   },
   {
    "duration": 5,
    "start_time": "2024-06-20T20:37:35.519Z"
   },
   {
    "duration": 214,
    "start_time": "2024-06-20T20:37:35.526Z"
   },
   {
    "duration": 120,
    "start_time": "2024-06-20T20:37:35.741Z"
   },
   {
    "duration": 10,
    "start_time": "2024-06-20T20:37:35.862Z"
   },
   {
    "duration": 27,
    "start_time": "2024-06-20T20:37:35.873Z"
   },
   {
    "duration": 22,
    "start_time": "2024-06-20T20:37:35.901Z"
   },
   {
    "duration": 18,
    "start_time": "2024-06-20T20:37:35.924Z"
   },
   {
    "duration": 11,
    "start_time": "2024-06-20T20:37:35.943Z"
   },
   {
    "duration": 6,
    "start_time": "2024-06-20T20:37:35.955Z"
   },
   {
    "duration": 153,
    "start_time": "2024-06-20T20:37:35.963Z"
   },
   {
    "duration": 20,
    "start_time": "2024-06-20T20:37:36.117Z"
   },
   {
    "duration": 3,
    "start_time": "2024-06-20T20:37:36.138Z"
   },
   {
    "duration": 31,
    "start_time": "2024-06-20T20:37:36.142Z"
   },
   {
    "duration": 5,
    "start_time": "2024-06-20T20:37:36.174Z"
   },
   {
    "duration": 19,
    "start_time": "2024-06-20T20:37:36.180Z"
   },
   {
    "duration": 105,
    "start_time": "2024-06-20T20:37:36.200Z"
   },
   {
    "duration": 4494,
    "start_time": "2024-06-21T07:11:49.960Z"
   },
   {
    "duration": 3297,
    "start_time": "2024-06-21T07:11:54.456Z"
   },
   {
    "duration": 6981,
    "start_time": "2024-06-21T07:11:57.755Z"
   },
   {
    "duration": 2287,
    "start_time": "2024-06-21T07:12:04.739Z"
   },
   {
    "duration": 2,
    "start_time": "2024-06-21T07:12:07.028Z"
   },
   {
    "duration": 273,
    "start_time": "2024-06-21T07:12:07.031Z"
   },
   {
    "duration": 17,
    "start_time": "2024-06-21T07:12:07.306Z"
   },
   {
    "duration": 57,
    "start_time": "2024-06-21T07:12:07.325Z"
   },
   {
    "duration": 24,
    "start_time": "2024-06-21T07:12:07.384Z"
   },
   {
    "duration": 31,
    "start_time": "2024-06-21T07:12:07.410Z"
   },
   {
    "duration": 10,
    "start_time": "2024-06-21T07:12:07.442Z"
   },
   {
    "duration": 22,
    "start_time": "2024-06-21T07:12:07.454Z"
   },
   {
    "duration": 10,
    "start_time": "2024-06-21T07:12:07.478Z"
   },
   {
    "duration": 140,
    "start_time": "2024-06-21T07:12:07.490Z"
   },
   {
    "duration": 4,
    "start_time": "2024-06-21T07:12:07.631Z"
   },
   {
    "duration": 15,
    "start_time": "2024-06-21T07:12:07.636Z"
   },
   {
    "duration": 12,
    "start_time": "2024-06-21T07:12:07.653Z"
   },
   {
    "duration": 45,
    "start_time": "2024-06-21T07:12:07.666Z"
   },
   {
    "duration": 9,
    "start_time": "2024-06-21T07:12:07.712Z"
   },
   {
    "duration": 64,
    "start_time": "2024-06-21T07:12:07.722Z"
   },
   {
    "duration": 93,
    "start_time": "2024-06-21T07:12:07.788Z"
   },
   {
    "duration": 92,
    "start_time": "2024-06-21T07:12:07.883Z"
   },
   {
    "duration": 65,
    "start_time": "2024-06-21T07:12:07.977Z"
   },
   {
    "duration": 38,
    "start_time": "2024-06-21T07:12:08.044Z"
   },
   {
    "duration": 11,
    "start_time": "2024-06-21T07:12:08.083Z"
   },
   {
    "duration": 55,
    "start_time": "2024-06-21T07:12:08.096Z"
   },
   {
    "duration": 77,
    "start_time": "2024-06-21T07:12:08.153Z"
   },
   {
    "duration": 1139,
    "start_time": "2024-06-21T07:12:08.235Z"
   },
   {
    "duration": 9,
    "start_time": "2024-06-21T07:12:09.375Z"
   },
   {
    "duration": 15,
    "start_time": "2024-06-21T07:12:09.385Z"
   },
   {
    "duration": 794,
    "start_time": "2024-06-21T07:12:09.401Z"
   },
   {
    "duration": 12,
    "start_time": "2024-06-21T07:12:10.197Z"
   },
   {
    "duration": 139,
    "start_time": "2024-06-21T07:12:10.211Z"
   },
   {
    "duration": 61,
    "start_time": "2024-06-21T07:12:10.352Z"
   },
   {
    "duration": 16,
    "start_time": "2024-06-21T07:12:10.415Z"
   },
   {
    "duration": 21,
    "start_time": "2024-06-21T07:12:10.433Z"
   },
   {
    "duration": 16,
    "start_time": "2024-06-21T07:12:10.456Z"
   },
   {
    "duration": 16,
    "start_time": "2024-06-21T07:12:10.474Z"
   },
   {
    "duration": 20,
    "start_time": "2024-06-21T07:12:10.491Z"
   },
   {
    "duration": 85,
    "start_time": "2024-06-21T07:12:10.513Z"
   },
   {
    "duration": 33,
    "start_time": "2024-06-21T07:12:10.599Z"
   },
   {
    "duration": 315,
    "start_time": "2024-06-21T07:12:10.633Z"
   },
   {
    "duration": 8,
    "start_time": "2024-06-21T07:12:10.949Z"
   },
   {
    "duration": 24,
    "start_time": "2024-06-21T07:12:10.958Z"
   },
   {
    "duration": 140,
    "start_time": "2024-06-21T07:12:10.984Z"
   },
   {
    "duration": 6,
    "start_time": "2024-06-21T07:12:11.126Z"
   },
   {
    "duration": 89,
    "start_time": "2024-06-21T07:12:11.134Z"
   },
   {
    "duration": 66,
    "start_time": "2024-06-21T07:12:11.225Z"
   },
   {
    "duration": 91,
    "start_time": "2024-06-21T07:12:11.293Z"
   },
   {
    "duration": 7,
    "start_time": "2024-06-21T07:12:11.386Z"
   },
   {
    "duration": 234,
    "start_time": "2024-06-21T07:12:11.395Z"
   },
   {
    "duration": 39,
    "start_time": "2024-06-21T07:12:11.631Z"
   },
   {
    "duration": 19,
    "start_time": "2024-06-21T07:12:11.672Z"
   },
   {
    "duration": 28,
    "start_time": "2024-06-21T07:12:11.693Z"
   },
   {
    "duration": 15,
    "start_time": "2024-06-21T07:12:11.723Z"
   },
   {
    "duration": 60,
    "start_time": "2024-06-21T07:12:11.740Z"
   },
   {
    "duration": 138,
    "start_time": "2024-06-21T07:12:11.802Z"
   },
   {
    "duration": 5,
    "start_time": "2024-06-21T07:12:11.942Z"
   },
   {
    "duration": 63,
    "start_time": "2024-06-21T07:12:11.949Z"
   },
   {
    "duration": 29,
    "start_time": "2024-06-21T07:12:12.014Z"
   },
   {
    "duration": 59,
    "start_time": "2024-06-21T07:12:12.045Z"
   },
   {
    "duration": 153,
    "start_time": "2024-06-21T07:12:12.105Z"
   },
   {
    "duration": 73,
    "start_time": "2024-06-21T07:12:12.260Z"
   },
   {
    "duration": 4,
    "start_time": "2024-06-21T07:12:12.335Z"
   },
   {
    "duration": 48,
    "start_time": "2024-06-21T07:12:12.340Z"
   },
   {
    "duration": 24,
    "start_time": "2024-06-21T07:12:12.390Z"
   },
   {
    "duration": 27,
    "start_time": "2024-06-21T07:12:12.416Z"
   },
   {
    "duration": 53,
    "start_time": "2024-06-21T07:12:12.445Z"
   },
   {
    "duration": 42,
    "start_time": "2024-06-21T07:12:12.500Z"
   },
   {
    "duration": 62,
    "start_time": "2024-06-21T07:12:12.544Z"
   },
   {
    "duration": 84,
    "start_time": "2024-06-21T07:12:12.608Z"
   },
   {
    "duration": 906,
    "start_time": "2024-06-21T07:12:12.694Z"
   },
   {
    "duration": 2080,
    "start_time": "2024-06-21T07:12:13.602Z"
   },
   {
    "duration": 3,
    "start_time": "2024-06-21T07:12:15.683Z"
   },
   {
    "duration": 21,
    "start_time": "2024-06-21T07:12:15.688Z"
   },
   {
    "duration": 789,
    "start_time": "2024-06-21T07:12:15.710Z"
   },
   {
    "duration": 775,
    "start_time": "2024-06-21T07:12:16.500Z"
   },
   {
    "duration": 6,
    "start_time": "2024-06-21T07:12:17.277Z"
   },
   {
    "duration": 658,
    "start_time": "2024-06-21T07:12:17.284Z"
   },
   {
    "duration": 641,
    "start_time": "2024-06-21T07:12:17.943Z"
   },
   {
    "duration": 3,
    "start_time": "2024-06-21T07:12:18.585Z"
   },
   {
    "duration": 25,
    "start_time": "2024-06-21T07:12:18.597Z"
   },
   {
    "duration": 5,
    "start_time": "2024-06-21T07:12:18.624Z"
   },
   {
    "duration": 5,
    "start_time": "2024-06-21T07:12:18.631Z"
   },
   {
    "duration": 7,
    "start_time": "2024-06-21T07:12:18.637Z"
   },
   {
    "duration": 3,
    "start_time": "2024-06-21T07:12:18.646Z"
   },
   {
    "duration": 36,
    "start_time": "2024-06-21T07:12:18.651Z"
   },
   {
    "duration": 18,
    "start_time": "2024-06-21T07:12:18.688Z"
   },
   {
    "duration": 8,
    "start_time": "2024-06-21T07:12:18.708Z"
   },
   {
    "duration": 5,
    "start_time": "2024-06-21T07:12:18.718Z"
   },
   {
    "duration": 8,
    "start_time": "2024-06-21T07:12:18.725Z"
   },
   {
    "duration": 8,
    "start_time": "2024-06-21T07:12:18.735Z"
   },
   {
    "duration": 32,
    "start_time": "2024-06-21T07:12:18.744Z"
   },
   {
    "duration": 18,
    "start_time": "2024-06-21T07:12:18.778Z"
   },
   {
    "duration": 6,
    "start_time": "2024-06-21T07:12:18.799Z"
   },
   {
    "duration": 6,
    "start_time": "2024-06-21T07:12:18.808Z"
   },
   {
    "duration": 16,
    "start_time": "2024-06-21T07:12:18.816Z"
   },
   {
    "duration": 2544,
    "start_time": "2024-06-21T07:12:18.834Z"
   },
   {
    "duration": 21,
    "start_time": "2024-06-21T07:12:21.380Z"
   },
   {
    "duration": 39,
    "start_time": "2024-06-21T07:12:21.403Z"
   },
   {
    "duration": 3,
    "start_time": "2024-06-21T07:12:21.444Z"
   },
   {
    "duration": 23,
    "start_time": "2024-06-21T07:12:21.449Z"
   },
   {
    "duration": 57,
    "start_time": "2024-06-21T07:12:21.481Z"
   },
   {
    "duration": 130771,
    "start_time": "2024-06-21T07:12:21.540Z"
   },
   {
    "duration": 3,
    "start_time": "2024-06-21T07:14:32.313Z"
   },
   {
    "duration": 595,
    "start_time": "2024-06-21T07:14:32.318Z"
   },
   {
    "duration": 18,
    "start_time": "2024-06-21T07:14:32.915Z"
   },
   {
    "duration": 4,
    "start_time": "2024-06-21T07:14:32.935Z"
   },
   {
    "duration": 31,
    "start_time": "2024-06-21T07:14:32.940Z"
   },
   {
    "duration": 27,
    "start_time": "2024-06-21T07:14:32.981Z"
   },
   {
    "duration": 12,
    "start_time": "2024-06-21T07:14:33.010Z"
   },
   {
    "duration": 29,
    "start_time": "2024-06-21T07:14:33.024Z"
   },
   {
    "duration": 192,
    "start_time": "2024-06-21T07:14:33.055Z"
   },
   {
    "duration": 157,
    "start_time": "2024-06-21T07:14:33.249Z"
   },
   {
    "duration": 5,
    "start_time": "2024-06-21T07:14:33.408Z"
   },
   {
    "duration": 247,
    "start_time": "2024-06-21T07:14:33.415Z"
   },
   {
    "duration": 154,
    "start_time": "2024-06-21T07:14:33.664Z"
   },
   {
    "duration": 6,
    "start_time": "2024-06-21T07:14:33.821Z"
   },
   {
    "duration": 11,
    "start_time": "2024-06-21T07:14:33.831Z"
   },
   {
    "duration": 7,
    "start_time": "2024-06-21T07:14:33.844Z"
   },
   {
    "duration": 39,
    "start_time": "2024-06-21T07:14:33.854Z"
   },
   {
    "duration": 5,
    "start_time": "2024-06-21T07:14:33.895Z"
   },
   {
    "duration": 8,
    "start_time": "2024-06-21T07:14:33.902Z"
   },
   {
    "duration": 202,
    "start_time": "2024-06-21T07:14:33.912Z"
   },
   {
    "duration": 25,
    "start_time": "2024-06-21T07:14:34.115Z"
   },
   {
    "duration": 4,
    "start_time": "2024-06-21T07:14:34.141Z"
   },
   {
    "duration": 12,
    "start_time": "2024-06-21T07:14:34.147Z"
   },
   {
    "duration": 7,
    "start_time": "2024-06-21T07:14:34.181Z"
   },
   {
    "duration": 13,
    "start_time": "2024-06-21T07:14:34.189Z"
   },
   {
    "duration": 104,
    "start_time": "2024-06-21T07:14:34.204Z"
   },
   {
    "duration": 44,
    "start_time": "2024-06-21T10:55:37.697Z"
   },
   {
    "duration": 7,
    "start_time": "2024-06-21T10:55:51.697Z"
   },
   {
    "duration": 6,
    "start_time": "2024-06-21T10:55:51.987Z"
   },
   {
    "duration": 4420,
    "start_time": "2024-06-21T11:00:04.288Z"
   },
   {
    "duration": 3107,
    "start_time": "2024-06-21T11:00:08.711Z"
   },
   {
    "duration": 6669,
    "start_time": "2024-06-21T11:00:11.820Z"
   },
   {
    "duration": 1894,
    "start_time": "2024-06-21T11:00:18.492Z"
   },
   {
    "duration": 2,
    "start_time": "2024-06-21T11:00:20.388Z"
   },
   {
    "duration": 406,
    "start_time": "2024-06-21T11:00:20.392Z"
   },
   {
    "duration": 20,
    "start_time": "2024-06-21T11:00:20.800Z"
   },
   {
    "duration": 9,
    "start_time": "2024-06-21T11:00:20.822Z"
   },
   {
    "duration": 13,
    "start_time": "2024-06-21T11:00:20.832Z"
   },
   {
    "duration": 27,
    "start_time": "2024-06-21T11:00:20.848Z"
   },
   {
    "duration": 7,
    "start_time": "2024-06-21T11:00:20.877Z"
   },
   {
    "duration": 23,
    "start_time": "2024-06-21T11:00:20.885Z"
   },
   {
    "duration": 9,
    "start_time": "2024-06-21T11:00:20.909Z"
   },
   {
    "duration": 86,
    "start_time": "2024-06-21T11:00:20.920Z"
   },
   {
    "duration": 3,
    "start_time": "2024-06-21T11:00:21.008Z"
   },
   {
    "duration": 9,
    "start_time": "2024-06-21T11:00:21.013Z"
   },
   {
    "duration": 9,
    "start_time": "2024-06-21T11:00:21.023Z"
   },
   {
    "duration": 38,
    "start_time": "2024-06-21T11:00:21.066Z"
   },
   {
    "duration": 9,
    "start_time": "2024-06-21T11:00:21.105Z"
   },
   {
    "duration": 15,
    "start_time": "2024-06-21T11:00:21.115Z"
   },
   {
    "duration": 35,
    "start_time": "2024-06-21T11:00:21.132Z"
   },
   {
    "duration": 39,
    "start_time": "2024-06-21T11:00:21.169Z"
   },
   {
    "duration": 3,
    "start_time": "2024-06-21T11:00:21.209Z"
   },
   {
    "duration": 65,
    "start_time": "2024-06-21T11:00:21.214Z"
   },
   {
    "duration": 11,
    "start_time": "2024-06-21T11:00:21.280Z"
   },
   {
    "duration": 8,
    "start_time": "2024-06-21T11:00:21.293Z"
   },
   {
    "duration": 11,
    "start_time": "2024-06-21T11:00:21.302Z"
   },
   {
    "duration": 1023,
    "start_time": "2024-06-21T11:00:21.319Z"
   },
   {
    "duration": 5,
    "start_time": "2024-06-21T11:00:22.343Z"
   },
   {
    "duration": 31,
    "start_time": "2024-06-21T11:00:22.350Z"
   },
   {
    "duration": 401,
    "start_time": "2024-06-21T11:00:22.382Z"
   },
   {
    "duration": 18,
    "start_time": "2024-06-21T11:00:22.785Z"
   },
   {
    "duration": 88,
    "start_time": "2024-06-21T11:00:22.804Z"
   },
   {
    "duration": 72,
    "start_time": "2024-06-21T11:00:22.894Z"
   },
   {
    "duration": 4,
    "start_time": "2024-06-21T11:00:22.967Z"
   },
   {
    "duration": 4,
    "start_time": "2024-06-21T11:00:22.972Z"
   },
   {
    "duration": 17,
    "start_time": "2024-06-21T11:00:22.977Z"
   },
   {
    "duration": 6,
    "start_time": "2024-06-21T11:00:22.996Z"
   },
   {
    "duration": 20,
    "start_time": "2024-06-21T11:00:23.004Z"
   },
   {
    "duration": 7,
    "start_time": "2024-06-21T11:00:23.068Z"
   },
   {
    "duration": 46,
    "start_time": "2024-06-21T11:00:23.077Z"
   },
   {
    "duration": 254,
    "start_time": "2024-06-21T11:00:23.124Z"
   },
   {
    "duration": 8,
    "start_time": "2024-06-21T11:00:23.379Z"
   },
   {
    "duration": 87,
    "start_time": "2024-06-21T11:00:23.389Z"
   },
   {
    "duration": 118,
    "start_time": "2024-06-21T11:00:23.478Z"
   },
   {
    "duration": 7,
    "start_time": "2024-06-21T11:00:23.597Z"
   },
   {
    "duration": 51,
    "start_time": "2024-06-21T11:00:23.605Z"
   },
   {
    "duration": 36,
    "start_time": "2024-06-21T11:00:23.665Z"
   },
   {
    "duration": 139,
    "start_time": "2024-06-21T11:00:23.703Z"
   },
   {
    "duration": 5,
    "start_time": "2024-06-21T11:00:23.844Z"
   },
   {
    "duration": 138,
    "start_time": "2024-06-21T11:00:23.851Z"
   },
   {
    "duration": 45,
    "start_time": "2024-06-21T11:00:23.991Z"
   },
   {
    "duration": 29,
    "start_time": "2024-06-21T11:00:24.038Z"
   },
   {
    "duration": 3,
    "start_time": "2024-06-21T11:00:24.068Z"
   },
   {
    "duration": 5,
    "start_time": "2024-06-21T11:00:24.073Z"
   },
   {
    "duration": 49,
    "start_time": "2024-06-21T11:00:24.080Z"
   },
   {
    "duration": 147,
    "start_time": "2024-06-21T11:00:24.131Z"
   },
   {
    "duration": 5,
    "start_time": "2024-06-21T11:00:24.280Z"
   },
   {
    "duration": 48,
    "start_time": "2024-06-21T11:00:24.287Z"
   },
   {
    "duration": 32,
    "start_time": "2024-06-21T11:00:24.337Z"
   },
   {
    "duration": 26,
    "start_time": "2024-06-21T11:00:24.371Z"
   },
   {
    "duration": 139,
    "start_time": "2024-06-21T11:00:24.399Z"
   },
   {
    "duration": 69,
    "start_time": "2024-06-21T11:00:24.540Z"
   },
   {
    "duration": 5,
    "start_time": "2024-06-21T11:00:24.610Z"
   },
   {
    "duration": 34,
    "start_time": "2024-06-21T11:00:24.616Z"
   },
   {
    "duration": 475,
    "start_time": "2024-06-21T11:00:24.651Z"
   },
   {
    "duration": 0,
    "start_time": "2024-06-21T11:00:25.129Z"
   },
   {
    "duration": 1,
    "start_time": "2024-06-21T11:00:25.130Z"
   },
   {
    "duration": 0,
    "start_time": "2024-06-21T11:00:25.132Z"
   },
   {
    "duration": 0,
    "start_time": "2024-06-21T11:00:25.133Z"
   },
   {
    "duration": 0,
    "start_time": "2024-06-21T11:00:25.134Z"
   },
   {
    "duration": 0,
    "start_time": "2024-06-21T11:00:25.135Z"
   },
   {
    "duration": 0,
    "start_time": "2024-06-21T11:00:25.136Z"
   },
   {
    "duration": 0,
    "start_time": "2024-06-21T11:00:25.137Z"
   },
   {
    "duration": 0,
    "start_time": "2024-06-21T11:00:25.138Z"
   },
   {
    "duration": 0,
    "start_time": "2024-06-21T11:00:25.139Z"
   },
   {
    "duration": 0,
    "start_time": "2024-06-21T11:00:25.140Z"
   },
   {
    "duration": 0,
    "start_time": "2024-06-21T11:00:25.141Z"
   },
   {
    "duration": 0,
    "start_time": "2024-06-21T11:00:25.142Z"
   },
   {
    "duration": 0,
    "start_time": "2024-06-21T11:00:25.143Z"
   },
   {
    "duration": 0,
    "start_time": "2024-06-21T11:00:25.144Z"
   },
   {
    "duration": 0,
    "start_time": "2024-06-21T11:00:25.145Z"
   },
   {
    "duration": 0,
    "start_time": "2024-06-21T11:00:25.146Z"
   },
   {
    "duration": 0,
    "start_time": "2024-06-21T11:00:25.147Z"
   },
   {
    "duration": 0,
    "start_time": "2024-06-21T11:00:25.148Z"
   },
   {
    "duration": 0,
    "start_time": "2024-06-21T11:00:25.149Z"
   },
   {
    "duration": 0,
    "start_time": "2024-06-21T11:00:25.150Z"
   },
   {
    "duration": 0,
    "start_time": "2024-06-21T11:00:25.151Z"
   },
   {
    "duration": 0,
    "start_time": "2024-06-21T11:00:25.152Z"
   },
   {
    "duration": 0,
    "start_time": "2024-06-21T11:00:25.153Z"
   },
   {
    "duration": 0,
    "start_time": "2024-06-21T11:00:25.154Z"
   },
   {
    "duration": 0,
    "start_time": "2024-06-21T11:00:25.155Z"
   },
   {
    "duration": 0,
    "start_time": "2024-06-21T11:00:25.156Z"
   },
   {
    "duration": 0,
    "start_time": "2024-06-21T11:00:25.157Z"
   },
   {
    "duration": 0,
    "start_time": "2024-06-21T11:00:25.158Z"
   },
   {
    "duration": 0,
    "start_time": "2024-06-21T11:00:25.159Z"
   },
   {
    "duration": 0,
    "start_time": "2024-06-21T11:00:25.160Z"
   },
   {
    "duration": 0,
    "start_time": "2024-06-21T11:00:25.161Z"
   },
   {
    "duration": 0,
    "start_time": "2024-06-21T11:00:25.162Z"
   },
   {
    "duration": 0,
    "start_time": "2024-06-21T11:00:25.163Z"
   },
   {
    "duration": 0,
    "start_time": "2024-06-21T11:00:25.163Z"
   },
   {
    "duration": 0,
    "start_time": "2024-06-21T11:00:25.165Z"
   },
   {
    "duration": 0,
    "start_time": "2024-06-21T11:00:25.166Z"
   },
   {
    "duration": 0,
    "start_time": "2024-06-21T11:00:25.167Z"
   },
   {
    "duration": 0,
    "start_time": "2024-06-21T11:00:25.168Z"
   },
   {
    "duration": 0,
    "start_time": "2024-06-21T11:00:25.169Z"
   },
   {
    "duration": 0,
    "start_time": "2024-06-21T11:00:25.170Z"
   },
   {
    "duration": 0,
    "start_time": "2024-06-21T11:00:25.171Z"
   },
   {
    "duration": 0,
    "start_time": "2024-06-21T11:00:25.172Z"
   },
   {
    "duration": 0,
    "start_time": "2024-06-21T11:00:25.173Z"
   },
   {
    "duration": 0,
    "start_time": "2024-06-21T11:00:25.174Z"
   },
   {
    "duration": 0,
    "start_time": "2024-06-21T11:00:25.175Z"
   },
   {
    "duration": 0,
    "start_time": "2024-06-21T11:00:25.176Z"
   },
   {
    "duration": 0,
    "start_time": "2024-06-21T11:00:25.177Z"
   },
   {
    "duration": 0,
    "start_time": "2024-06-21T11:00:25.178Z"
   },
   {
    "duration": 0,
    "start_time": "2024-06-21T11:00:25.179Z"
   },
   {
    "duration": 0,
    "start_time": "2024-06-21T11:00:25.180Z"
   },
   {
    "duration": 0,
    "start_time": "2024-06-21T11:00:25.181Z"
   },
   {
    "duration": 0,
    "start_time": "2024-06-21T11:00:25.182Z"
   },
   {
    "duration": 0,
    "start_time": "2024-06-21T11:00:25.183Z"
   },
   {
    "duration": 0,
    "start_time": "2024-06-21T11:00:25.184Z"
   },
   {
    "duration": 0,
    "start_time": "2024-06-21T11:00:25.185Z"
   },
   {
    "duration": 0,
    "start_time": "2024-06-21T11:00:25.187Z"
   },
   {
    "duration": 0,
    "start_time": "2024-06-21T11:00:25.188Z"
   },
   {
    "duration": 0,
    "start_time": "2024-06-21T11:00:25.189Z"
   },
   {
    "duration": 0,
    "start_time": "2024-06-21T11:00:25.190Z"
   },
   {
    "duration": 0,
    "start_time": "2024-06-21T11:00:25.191Z"
   },
   {
    "duration": 0,
    "start_time": "2024-06-21T11:00:25.192Z"
   },
   {
    "duration": 0,
    "start_time": "2024-06-21T11:00:25.193Z"
   },
   {
    "duration": 0,
    "start_time": "2024-06-21T11:00:25.194Z"
   },
   {
    "duration": 45,
    "start_time": "2024-06-26T04:50:36.393Z"
   },
   {
    "duration": 4475,
    "start_time": "2024-06-26T04:50:41.229Z"
   },
   {
    "duration": 3375,
    "start_time": "2024-06-26T04:50:45.706Z"
   },
   {
    "duration": 6393,
    "start_time": "2024-06-26T04:50:49.083Z"
   },
   {
    "duration": 1798,
    "start_time": "2024-06-26T04:50:55.478Z"
   },
   {
    "duration": 2,
    "start_time": "2024-06-26T04:50:57.278Z"
   },
   {
    "duration": 325,
    "start_time": "2024-06-26T04:50:57.282Z"
   },
   {
    "duration": 15,
    "start_time": "2024-06-26T04:50:57.609Z"
   },
   {
    "duration": 7,
    "start_time": "2024-06-26T04:50:57.626Z"
   },
   {
    "duration": 20,
    "start_time": "2024-06-26T04:50:57.634Z"
   },
   {
    "duration": 8,
    "start_time": "2024-06-26T04:50:57.656Z"
   },
   {
    "duration": 5,
    "start_time": "2024-06-26T04:50:57.666Z"
   },
   {
    "duration": 19,
    "start_time": "2024-06-26T04:50:57.672Z"
   },
   {
    "duration": 5,
    "start_time": "2024-06-26T04:50:57.693Z"
   },
   {
    "duration": 47,
    "start_time": "2024-06-26T04:50:57.709Z"
   },
   {
    "duration": 3,
    "start_time": "2024-06-26T04:50:57.757Z"
   },
   {
    "duration": 9,
    "start_time": "2024-06-26T04:50:57.762Z"
   },
   {
    "duration": 26,
    "start_time": "2024-06-26T04:50:57.772Z"
   },
   {
    "duration": 38,
    "start_time": "2024-06-26T04:50:57.799Z"
   },
   {
    "duration": 8,
    "start_time": "2024-06-26T04:50:57.838Z"
   },
   {
    "duration": 7,
    "start_time": "2024-06-26T04:50:57.847Z"
   },
   {
    "duration": 23,
    "start_time": "2024-06-26T04:50:57.856Z"
   },
   {
    "duration": 41,
    "start_time": "2024-06-26T04:50:57.881Z"
   },
   {
    "duration": 2,
    "start_time": "2024-06-26T04:50:57.923Z"
   },
   {
    "duration": 36,
    "start_time": "2024-06-26T04:50:57.927Z"
   },
   {
    "duration": 10,
    "start_time": "2024-06-26T04:50:57.964Z"
   },
   {
    "duration": 4,
    "start_time": "2024-06-26T04:50:57.976Z"
   },
   {
    "duration": 14,
    "start_time": "2024-06-26T04:50:58.010Z"
   },
   {
    "duration": 923,
    "start_time": "2024-06-26T04:50:58.028Z"
   },
   {
    "duration": 5,
    "start_time": "2024-06-26T04:50:58.952Z"
   },
   {
    "duration": 18,
    "start_time": "2024-06-26T04:50:58.958Z"
   },
   {
    "duration": 408,
    "start_time": "2024-06-26T04:50:58.977Z"
   },
   {
    "duration": 10,
    "start_time": "2024-06-26T04:50:59.387Z"
   },
   {
    "duration": 32,
    "start_time": "2024-06-26T04:50:59.398Z"
   },
   {
    "duration": 13,
    "start_time": "2024-06-26T04:50:59.432Z"
   },
   {
    "duration": 64,
    "start_time": "2024-06-26T04:50:59.446Z"
   },
   {
    "duration": 7,
    "start_time": "2024-06-26T04:50:59.512Z"
   },
   {
    "duration": 15,
    "start_time": "2024-06-26T04:50:59.521Z"
   },
   {
    "duration": 5,
    "start_time": "2024-06-26T04:50:59.537Z"
   },
   {
    "duration": 8,
    "start_time": "2024-06-26T04:50:59.544Z"
   },
   {
    "duration": 37,
    "start_time": "2024-06-26T04:50:59.554Z"
   },
   {
    "duration": 44,
    "start_time": "2024-06-26T04:50:59.593Z"
   },
   {
    "duration": 272,
    "start_time": "2024-06-26T04:50:59.639Z"
   },
   {
    "duration": 6,
    "start_time": "2024-06-26T04:50:59.912Z"
   },
   {
    "duration": 26,
    "start_time": "2024-06-26T04:50:59.920Z"
   },
   {
    "duration": 132,
    "start_time": "2024-06-26T04:50:59.948Z"
   },
   {
    "duration": 6,
    "start_time": "2024-06-26T04:51:00.082Z"
   },
   {
    "duration": 54,
    "start_time": "2024-06-26T04:51:00.089Z"
   },
   {
    "duration": 33,
    "start_time": "2024-06-26T04:51:00.145Z"
   },
   {
    "duration": 106,
    "start_time": "2024-06-26T04:51:00.180Z"
   },
   {
    "duration": 11,
    "start_time": "2024-06-26T04:51:00.287Z"
   },
   {
    "duration": 158,
    "start_time": "2024-06-26T04:51:00.300Z"
   },
   {
    "duration": 34,
    "start_time": "2024-06-26T04:51:00.460Z"
   },
   {
    "duration": 112,
    "start_time": "2024-06-26T04:51:00.495Z"
   },
   {
    "duration": 101,
    "start_time": "2024-06-26T04:51:00.608Z"
   },
   {
    "duration": 76,
    "start_time": "2024-06-26T04:51:00.710Z"
   },
   {
    "duration": 113,
    "start_time": "2024-06-26T04:51:00.788Z"
   },
   {
    "duration": 95,
    "start_time": "2024-06-26T04:51:00.903Z"
   },
   {
    "duration": 11,
    "start_time": "2024-06-26T04:51:00.999Z"
   },
   {
    "duration": 66,
    "start_time": "2024-06-26T04:51:01.011Z"
   },
   {
    "duration": 53,
    "start_time": "2024-06-26T04:51:01.079Z"
   },
   {
    "duration": 37,
    "start_time": "2024-06-26T04:51:01.134Z"
   },
   {
    "duration": 168,
    "start_time": "2024-06-26T04:51:01.172Z"
   },
   {
    "duration": 54,
    "start_time": "2024-06-26T04:51:01.341Z"
   },
   {
    "duration": 169,
    "start_time": "2024-06-26T04:51:01.397Z"
   },
   {
    "duration": 217,
    "start_time": "2024-06-26T04:51:01.567Z"
   },
   {
    "duration": 232,
    "start_time": "2024-06-26T04:51:01.786Z"
   },
   {
    "duration": 119,
    "start_time": "2024-06-26T04:51:02.019Z"
   },
   {
    "duration": 71,
    "start_time": "2024-06-26T04:51:02.140Z"
   },
   {
    "duration": 60,
    "start_time": "2024-06-26T04:51:02.213Z"
   },
   {
    "duration": 52,
    "start_time": "2024-06-26T04:51:02.274Z"
   },
   {
    "duration": 89,
    "start_time": "2024-06-26T04:51:02.327Z"
   },
   {
    "duration": 845,
    "start_time": "2024-06-26T04:51:02.417Z"
   },
   {
    "duration": 1807,
    "start_time": "2024-06-26T04:51:03.263Z"
   },
   {
    "duration": 3,
    "start_time": "2024-06-26T04:51:05.071Z"
   },
   {
    "duration": 26,
    "start_time": "2024-06-26T04:51:05.075Z"
   },
   {
    "duration": 687,
    "start_time": "2024-06-26T04:51:05.102Z"
   },
   {
    "duration": 672,
    "start_time": "2024-06-26T04:51:05.791Z"
   },
   {
    "duration": 3,
    "start_time": "2024-06-26T04:51:06.465Z"
   },
   {
    "duration": 624,
    "start_time": "2024-06-26T04:51:06.470Z"
   },
   {
    "duration": 583,
    "start_time": "2024-06-26T04:51:07.096Z"
   },
   {
    "duration": 3,
    "start_time": "2024-06-26T04:51:07.680Z"
   },
   {
    "duration": 50,
    "start_time": "2024-06-26T04:51:07.689Z"
   },
   {
    "duration": 26,
    "start_time": "2024-06-26T04:51:07.741Z"
   },
   {
    "duration": 50,
    "start_time": "2024-06-26T04:51:07.769Z"
   },
   {
    "duration": 29,
    "start_time": "2024-06-26T04:51:07.820Z"
   },
   {
    "duration": 19,
    "start_time": "2024-06-26T04:51:07.850Z"
   },
   {
    "duration": 21,
    "start_time": "2024-06-26T04:51:07.870Z"
   },
   {
    "duration": 16,
    "start_time": "2024-06-26T04:51:07.892Z"
   },
   {
    "duration": 30,
    "start_time": "2024-06-26T04:51:07.910Z"
   },
   {
    "duration": 26,
    "start_time": "2024-06-26T04:51:07.942Z"
   },
   {
    "duration": 27,
    "start_time": "2024-06-26T04:51:07.969Z"
   },
   {
    "duration": 22,
    "start_time": "2024-06-26T04:51:07.997Z"
   },
   {
    "duration": 29,
    "start_time": "2024-06-26T04:51:08.020Z"
   },
   {
    "duration": 23,
    "start_time": "2024-06-26T04:51:08.050Z"
   },
   {
    "duration": 27,
    "start_time": "2024-06-26T04:51:08.074Z"
   },
   {
    "duration": 27,
    "start_time": "2024-06-26T04:51:08.103Z"
   },
   {
    "duration": 33,
    "start_time": "2024-06-26T04:51:08.132Z"
   },
   {
    "duration": 3098,
    "start_time": "2024-06-26T04:51:08.167Z"
   },
   {
    "duration": 18,
    "start_time": "2024-06-26T04:51:11.266Z"
   },
   {
    "duration": 30,
    "start_time": "2024-06-26T04:51:11.285Z"
   },
   {
    "duration": 3,
    "start_time": "2024-06-26T04:51:11.316Z"
   },
   {
    "duration": 19,
    "start_time": "2024-06-26T04:51:11.320Z"
   },
   {
    "duration": 3,
    "start_time": "2024-06-26T04:51:11.340Z"
   },
   {
    "duration": 135086,
    "start_time": "2024-06-26T04:51:11.345Z"
   },
   {
    "duration": 3,
    "start_time": "2024-06-26T04:53:26.432Z"
   },
   {
    "duration": 511,
    "start_time": "2024-06-26T04:53:26.436Z"
   },
   {
    "duration": 18,
    "start_time": "2024-06-26T04:53:26.949Z"
   },
   {
    "duration": 4,
    "start_time": "2024-06-26T04:53:26.969Z"
   },
   {
    "duration": 19,
    "start_time": "2024-06-26T04:53:26.975Z"
   },
   {
    "duration": 40,
    "start_time": "2024-06-26T04:53:26.995Z"
   },
   {
    "duration": 3,
    "start_time": "2024-06-26T04:53:27.036Z"
   },
   {
    "duration": 27,
    "start_time": "2024-06-26T04:53:27.041Z"
   },
   {
    "duration": 172,
    "start_time": "2024-06-26T04:53:27.070Z"
   },
   {
    "duration": 145,
    "start_time": "2024-06-26T04:53:27.244Z"
   },
   {
    "duration": 6,
    "start_time": "2024-06-26T04:53:27.391Z"
   },
   {
    "duration": 261,
    "start_time": "2024-06-26T04:53:27.410Z"
   },
   {
    "duration": 137,
    "start_time": "2024-06-26T04:53:27.672Z"
   },
   {
    "duration": 4,
    "start_time": "2024-06-26T04:53:27.810Z"
   },
   {
    "duration": 4,
    "start_time": "2024-06-26T04:53:27.815Z"
   },
   {
    "duration": 5,
    "start_time": "2024-06-26T04:53:27.821Z"
   },
   {
    "duration": 13,
    "start_time": "2024-06-26T04:53:27.827Z"
   },
   {
    "duration": 6,
    "start_time": "2024-06-26T04:53:27.842Z"
   },
   {
    "duration": 5,
    "start_time": "2024-06-26T04:53:27.849Z"
   },
   {
    "duration": 196,
    "start_time": "2024-06-26T04:53:27.855Z"
   },
   {
    "duration": 21,
    "start_time": "2024-06-26T04:53:28.052Z"
   },
   {
    "duration": 5,
    "start_time": "2024-06-26T04:53:28.075Z"
   },
   {
    "duration": 29,
    "start_time": "2024-06-26T04:53:28.082Z"
   },
   {
    "duration": 5,
    "start_time": "2024-06-26T04:53:28.112Z"
   },
   {
    "duration": 3,
    "start_time": "2024-06-26T04:53:28.119Z"
   },
   {
    "duration": 9,
    "start_time": "2024-06-26T04:53:28.124Z"
   },
   {
    "duration": 112,
    "start_time": "2024-06-26T04:53:28.135Z"
   },
   {
    "duration": 829,
    "start_time": "2024-06-26T05:51:30.782Z"
   },
   {
    "duration": 1915,
    "start_time": "2024-06-26T05:51:35.576Z"
   },
   {
    "duration": 774,
    "start_time": "2024-06-26T05:51:50.735Z"
   },
   {
    "duration": 21,
    "start_time": "2024-06-26T05:52:24.920Z"
   },
   {
    "duration": 807,
    "start_time": "2024-06-26T05:53:47.221Z"
   },
   {
    "duration": 1734,
    "start_time": "2024-06-26T05:53:51.530Z"
   },
   {
    "duration": 792,
    "start_time": "2024-06-26T05:54:10.712Z"
   },
   {
    "duration": 1779,
    "start_time": "2024-06-26T05:54:15.399Z"
   },
   {
    "duration": 807,
    "start_time": "2024-06-26T05:54:25.456Z"
   },
   {
    "duration": 477,
    "start_time": "2024-06-26T05:55:02.123Z"
   },
   {
    "duration": 1124,
    "start_time": "2024-06-26T05:55:14.758Z"
   },
   {
    "duration": 150,
    "start_time": "2024-06-26T06:11:44.542Z"
   },
   {
    "duration": 155,
    "start_time": "2024-06-26T06:12:11.627Z"
   },
   {
    "duration": 265,
    "start_time": "2024-06-26T06:14:45.455Z"
   },
   {
    "duration": 167,
    "start_time": "2024-06-26T06:15:59.126Z"
   },
   {
    "duration": 107,
    "start_time": "2024-06-26T06:16:07.760Z"
   },
   {
    "duration": 167,
    "start_time": "2024-06-26T06:17:16.293Z"
   },
   {
    "duration": 171,
    "start_time": "2024-06-26T06:17:28.280Z"
   },
   {
    "duration": 280,
    "start_time": "2024-06-26T06:19:20.380Z"
   },
   {
    "duration": 259,
    "start_time": "2024-06-26T06:20:10.088Z"
   },
   {
    "duration": 278,
    "start_time": "2024-06-26T06:21:45.718Z"
   },
   {
    "duration": 86,
    "start_time": "2024-06-26T06:31:03.277Z"
   },
   {
    "duration": 9,
    "start_time": "2024-06-26T06:39:31.377Z"
   },
   {
    "duration": 133,
    "start_time": "2024-06-26T06:41:21.897Z"
   },
   {
    "duration": 809,
    "start_time": "2024-06-26T06:58:25.594Z"
   },
   {
    "duration": 752,
    "start_time": "2024-06-26T07:01:08.368Z"
   },
   {
    "duration": 278,
    "start_time": "2024-06-26T07:01:24.464Z"
   },
   {
    "duration": 835,
    "start_time": "2024-06-26T07:02:45.011Z"
   },
   {
    "duration": 66,
    "start_time": "2024-06-26T07:04:41.665Z"
   },
   {
    "duration": 78,
    "start_time": "2024-06-26T07:04:56.815Z"
   },
   {
    "duration": 1030,
    "start_time": "2024-06-26T07:05:20.311Z"
   },
   {
    "duration": 723,
    "start_time": "2024-06-26T07:06:36.816Z"
   },
   {
    "duration": 41,
    "start_time": "2024-06-26T07:09:22.022Z"
   },
   {
    "duration": 66,
    "start_time": "2024-06-26T07:13:04.417Z"
   },
   {
    "duration": 4,
    "start_time": "2024-06-26T07:44:36.024Z"
   },
   {
    "duration": 11,
    "start_time": "2024-06-26T07:44:36.689Z"
   },
   {
    "duration": 3,
    "start_time": "2024-06-26T07:44:47.410Z"
   },
   {
    "duration": 11,
    "start_time": "2024-06-26T07:44:48.350Z"
   },
   {
    "duration": 4,
    "start_time": "2024-06-26T07:44:54.201Z"
   },
   {
    "duration": 14,
    "start_time": "2024-06-26T07:44:55.462Z"
   },
   {
    "duration": 5,
    "start_time": "2024-06-26T07:45:14.212Z"
   },
   {
    "duration": 4,
    "start_time": "2024-06-26T07:45:27.790Z"
   },
   {
    "duration": 12,
    "start_time": "2024-06-26T07:45:28.183Z"
   },
   {
    "duration": 3,
    "start_time": "2024-06-26T07:45:59.456Z"
   },
   {
    "duration": 9,
    "start_time": "2024-06-26T07:45:59.744Z"
   },
   {
    "duration": 173,
    "start_time": "2024-06-26T07:46:00.090Z"
   },
   {
    "duration": 28,
    "start_time": "2024-06-26T07:46:05.515Z"
   },
   {
    "duration": 4,
    "start_time": "2024-06-26T07:46:09.304Z"
   },
   {
    "duration": 4,
    "start_time": "2024-06-26T07:46:09.732Z"
   },
   {
    "duration": 4,
    "start_time": "2024-06-26T07:46:10.231Z"
   },
   {
    "duration": 2,
    "start_time": "2024-06-26T07:46:10.576Z"
   },
   {
    "duration": 5,
    "start_time": "2024-06-26T07:46:11.893Z"
   },
   {
    "duration": 67,
    "start_time": "2024-06-26T07:46:12.515Z"
   },
   {
    "duration": 46,
    "start_time": "2024-06-26T07:53:33.206Z"
   },
   {
    "duration": 54,
    "start_time": "2024-06-26T08:16:03.436Z"
   },
   {
    "duration": 21,
    "start_time": "2024-06-26T08:40:11.328Z"
   },
   {
    "duration": 18,
    "start_time": "2024-06-26T08:42:25.188Z"
   },
   {
    "duration": 17,
    "start_time": "2024-06-26T08:42:44.074Z"
   },
   {
    "duration": 10,
    "start_time": "2024-06-26T08:43:08.583Z"
   },
   {
    "duration": 6,
    "start_time": "2024-06-26T08:43:26.674Z"
   },
   {
    "duration": 181,
    "start_time": "2024-06-26T08:44:16.736Z"
   },
   {
    "duration": 172,
    "start_time": "2024-06-26T08:45:02.072Z"
   },
   {
    "duration": 266,
    "start_time": "2024-06-26T08:46:32.461Z"
   },
   {
    "duration": 281,
    "start_time": "2024-06-26T08:46:56.012Z"
   },
   {
    "duration": 302,
    "start_time": "2024-06-26T08:47:50.604Z"
   },
   {
    "duration": 303,
    "start_time": "2024-06-26T08:48:34.002Z"
   },
   {
    "duration": 1172,
    "start_time": "2024-06-26T09:09:21.393Z"
   },
   {
    "duration": 1003,
    "start_time": "2024-06-26T09:10:14.832Z"
   },
   {
    "duration": 1188,
    "start_time": "2024-06-26T09:10:22.554Z"
   },
   {
    "duration": 1008,
    "start_time": "2024-06-26T09:10:31.513Z"
   },
   {
    "duration": 304,
    "start_time": "2024-06-26T09:14:34.869Z"
   },
   {
    "duration": 291,
    "start_time": "2024-06-26T09:14:41.843Z"
   },
   {
    "duration": 13,
    "start_time": "2024-06-26T09:15:36.254Z"
   },
   {
    "duration": 8,
    "start_time": "2024-06-26T09:15:53.622Z"
   },
   {
    "duration": 26,
    "start_time": "2024-06-26T10:48:36.618Z"
   },
   {
    "duration": 209,
    "start_time": "2024-06-26T10:48:59.694Z"
   },
   {
    "duration": 471,
    "start_time": "2024-06-26T10:52:17.333Z"
   },
   {
    "duration": 7,
    "start_time": "2024-06-26T10:54:07.617Z"
   },
   {
    "duration": 23,
    "start_time": "2024-06-26T10:55:05.321Z"
   },
   {
    "duration": 297,
    "start_time": "2024-06-26T10:55:19.131Z"
   },
   {
    "duration": 4,
    "start_time": "2024-06-26T10:57:38.394Z"
   },
   {
    "duration": 715,
    "start_time": "2024-06-26T10:58:01.714Z"
   },
   {
    "duration": 364,
    "start_time": "2024-06-26T11:00:47.208Z"
   },
   {
    "duration": 4,
    "start_time": "2024-06-26T11:01:11.939Z"
   },
   {
    "duration": 15,
    "start_time": "2024-06-26T11:01:21.378Z"
   },
   {
    "duration": 237,
    "start_time": "2024-06-26T11:01:34.486Z"
   },
   {
    "duration": 280,
    "start_time": "2024-06-26T11:05:29.411Z"
   },
   {
    "duration": 232,
    "start_time": "2024-06-26T11:05:50.496Z"
   },
   {
    "duration": 350,
    "start_time": "2024-06-26T11:05:51.069Z"
   },
   {
    "duration": 731,
    "start_time": "2024-06-26T11:08:40.157Z"
   },
   {
    "duration": 26,
    "start_time": "2024-06-26T11:09:10.279Z"
   },
   {
    "duration": 603,
    "start_time": "2024-06-26T11:11:31.363Z"
   },
   {
    "duration": 921,
    "start_time": "2024-06-26T11:15:37.890Z"
   },
   {
    "duration": 478,
    "start_time": "2024-06-26T11:17:51.902Z"
   },
   {
    "duration": 937,
    "start_time": "2024-06-26T11:17:52.899Z"
   },
   {
    "duration": 13,
    "start_time": "2024-06-26T11:21:25.924Z"
   },
   {
    "duration": 9,
    "start_time": "2024-06-26T11:21:51.834Z"
   },
   {
    "duration": 12,
    "start_time": "2024-06-26T11:21:58.512Z"
   },
   {
    "duration": 11,
    "start_time": "2024-06-26T11:22:27.158Z"
   },
   {
    "duration": 12,
    "start_time": "2024-06-26T11:27:47.101Z"
   },
   {
    "duration": 18,
    "start_time": "2024-06-26T11:27:49.920Z"
   },
   {
    "duration": 17,
    "start_time": "2024-06-26T11:27:59.666Z"
   },
   {
    "duration": 808,
    "start_time": "2024-06-26T11:30:05.885Z"
   },
   {
    "duration": 13,
    "start_time": "2024-06-26T11:30:10.585Z"
   },
   {
    "duration": 21,
    "start_time": "2024-06-26T11:31:28.461Z"
   },
   {
    "duration": 13,
    "start_time": "2024-06-26T11:31:55.287Z"
   },
   {
    "duration": 378,
    "start_time": "2024-06-26T11:33:29.573Z"
   },
   {
    "duration": 361,
    "start_time": "2024-06-26T11:33:46.520Z"
   }
  ],
  "colab": {
   "provenance": []
  },
  "kernelspec": {
   "display_name": "Python 3 (ipykernel)",
   "language": "python",
   "name": "python3"
  },
  "language_info": {
   "codemirror_mode": {
    "name": "ipython",
    "version": 3
   },
   "file_extension": ".py",
   "mimetype": "text/x-python",
   "name": "python",
   "nbconvert_exporter": "python",
   "pygments_lexer": "ipython3",
   "version": "3.9.20"
  },
  "toc": {
   "base_numbering": 1,
   "nav_menu": {},
   "number_sections": true,
   "sideBar": true,
   "skip_h1_title": true,
   "title_cell": "Table of Contents",
   "title_sidebar": "Contents",
   "toc_cell": false,
   "toc_position": {
    "height": "726px",
    "left": "76px",
    "top": "387.922px",
    "width": "391.758px"
   },
   "toc_section_display": true,
   "toc_window_display": true
  }
 },
 "nbformat": 4,
 "nbformat_minor": 4
}
